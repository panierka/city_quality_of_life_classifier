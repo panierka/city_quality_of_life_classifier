{
 "cells": [
  {
   "cell_type": "code",
   "execution_count": 144,
   "outputs": [],
   "source": [
    "import pandas as pd\n",
    "import seaborn as sns\n",
    "from IPython.display import display, HTML"
   ],
   "metadata": {
    "collapsed": false,
    "pycharm": {
     "name": "#%%\n"
    }
   }
  },
  {
   "cell_type": "code",
   "execution_count": 145,
   "outputs": [
    {
     "data": {
      "text/plain": "                    Country Name Country Code                Indicator Name  \\\n0                          Aruba          ABW  GDP per capita (current US$)   \n1    Africa Eastern and Southern          AFE  GDP per capita (current US$)   \n2                    Afghanistan          AFG  GDP per capita (current US$)   \n3     Africa Western and Central          AFW  GDP per capita (current US$)   \n4                         Angola          AGO  GDP per capita (current US$)   \n..                           ...          ...                           ...   \n261                       Kosovo          XKX  GDP per capita (current US$)   \n262                  Yemen, Rep.          YEM  GDP per capita (current US$)   \n263                 South Africa          ZAF  GDP per capita (current US$)   \n264                       Zambia          ZMB  GDP per capita (current US$)   \n265                     Zimbabwe          ZWE  GDP per capita (current US$)   \n\n     Indicator Code         1960         1961         1962         1963  \\\n0    NY.GDP.PCAP.CD          NaN          NaN          NaN          NaN   \n1    NY.GDP.PCAP.CD  153,4944391  152,8733129  162,4131876  189,5061698   \n2    NY.GDP.PCAP.CD   59,7732337  59,86089999   58,4580087  78,70642878   \n3    NY.GDP.PCAP.CD  107,9322333  113,0816466  118,8311067   123,442888   \n4    NY.GDP.PCAP.CD          NaN          NaN          NaN          NaN   \n..              ...          ...          ...          ...          ...   \n261  NY.GDP.PCAP.CD          NaN          NaN          NaN          NaN   \n262  NY.GDP.PCAP.CD          NaN          NaN          NaN          NaN   \n263  NY.GDP.PCAP.CD  443,0099197  454,9620132  473,0114048  511,4973636   \n264  NY.GDP.PCAP.CD  232,1885645  220,0420671  212,5784491  213,8967589   \n265  NY.GDP.PCAP.CD  278,8138468  280,8286629  276,6882328  277,4797151   \n\n            1964         1965  ...         2012         2013         2014  \\\n0            NaN          NaN  ...  24712,49326  26441,61994  26893,01151   \n1    168,8169946  187,3963064  ...   1736,16656  1713,899299  1703,596298   \n2    82,09530653  101,1083252  ...  638,8458516  624,3154545  614,2233424   \n3    131,8544019  138,5263324  ...  1965,118485  2157,481149  2212,853135   \n4            NaN          NaN  ...  5100,097027  5254,881126    5408,4117   \n..           ...          ...  ...          ...          ...          ...   \n261          NaN          NaN  ...   3410,85978  3704,784221  3902,676013   \n262          NaN          NaN  ...  1446,536472  1607,152173  1674,002572   \n263  548,9960578  584,7041627  ...  8222,197279  7467,079185  6988,808739   \n264  242,3844725  303,2817405  ...  1763,069442  1878,346811  1762,427817   \n265   281,558896   293,308788  ...  1304,968011  1429,998461  1434,896277   \n\n            2015         2016         2017         2018         2019  \\\n0    28396,90842  28452,17061  29350,80502  30253,27936          NaN   \n1     1549,03794  1431,778723  1573,063386  1574,978648  1530,059177   \n2    556,0072209  512,0127781  516,6798622  485,6684187  494,1793499   \n3    1894,310195  1673,835527  1613,473553  1704,139603  1777,918672   \n4    4166,979833  3506,073128  4095,810057  3289,643995  2809,626088   \n..           ...          ...          ...          ...          ...   \n261  3520,766449  3759,560246  4009,380987  4384,048892  4416,108358   \n262  1601,830063  1152,720966  964,2648105  758,1452416          NaN   \n263  6259,839681  5756,965741  6690,939847  7005,095413  6624,761865   \n264  1338,290927  1280,806543  1535,196574  1516,368371  1305,001031   \n265  1445,069702  1464,588957  1235,189032  1254,642265  1316,740657   \n\n            2020 2021  \n0            NaN  NaN  \n1    1359,618224  NaN  \n2    516,7478708  NaN  \n3    1710,073363  NaN  \n4    1776,166868  NaN  \n..           ...  ...  \n261  4310,811183  NaN  \n262          NaN  NaN  \n263  5655,867654  NaN  \n264   985,132436  NaN  \n265   1214,50982  NaN  \n\n[266 rows x 66 columns]",
      "text/html": "<div>\n<style scoped>\n    .dataframe tbody tr th:only-of-type {\n        vertical-align: middle;\n    }\n\n    .dataframe tbody tr th {\n        vertical-align: top;\n    }\n\n    .dataframe thead th {\n        text-align: right;\n    }\n</style>\n<table border=\"1\" class=\"dataframe\">\n  <thead>\n    <tr style=\"text-align: right;\">\n      <th></th>\n      <th>Country Name</th>\n      <th>Country Code</th>\n      <th>Indicator Name</th>\n      <th>Indicator Code</th>\n      <th>1960</th>\n      <th>1961</th>\n      <th>1962</th>\n      <th>1963</th>\n      <th>1964</th>\n      <th>1965</th>\n      <th>...</th>\n      <th>2012</th>\n      <th>2013</th>\n      <th>2014</th>\n      <th>2015</th>\n      <th>2016</th>\n      <th>2017</th>\n      <th>2018</th>\n      <th>2019</th>\n      <th>2020</th>\n      <th>2021</th>\n    </tr>\n  </thead>\n  <tbody>\n    <tr>\n      <th>0</th>\n      <td>Aruba</td>\n      <td>ABW</td>\n      <td>GDP per capita (current US$)</td>\n      <td>NY.GDP.PCAP.CD</td>\n      <td>NaN</td>\n      <td>NaN</td>\n      <td>NaN</td>\n      <td>NaN</td>\n      <td>NaN</td>\n      <td>NaN</td>\n      <td>...</td>\n      <td>24712,49326</td>\n      <td>26441,61994</td>\n      <td>26893,01151</td>\n      <td>28396,90842</td>\n      <td>28452,17061</td>\n      <td>29350,80502</td>\n      <td>30253,27936</td>\n      <td>NaN</td>\n      <td>NaN</td>\n      <td>NaN</td>\n    </tr>\n    <tr>\n      <th>1</th>\n      <td>Africa Eastern and Southern</td>\n      <td>AFE</td>\n      <td>GDP per capita (current US$)</td>\n      <td>NY.GDP.PCAP.CD</td>\n      <td>153,4944391</td>\n      <td>152,8733129</td>\n      <td>162,4131876</td>\n      <td>189,5061698</td>\n      <td>168,8169946</td>\n      <td>187,3963064</td>\n      <td>...</td>\n      <td>1736,16656</td>\n      <td>1713,899299</td>\n      <td>1703,596298</td>\n      <td>1549,03794</td>\n      <td>1431,778723</td>\n      <td>1573,063386</td>\n      <td>1574,978648</td>\n      <td>1530,059177</td>\n      <td>1359,618224</td>\n      <td>NaN</td>\n    </tr>\n    <tr>\n      <th>2</th>\n      <td>Afghanistan</td>\n      <td>AFG</td>\n      <td>GDP per capita (current US$)</td>\n      <td>NY.GDP.PCAP.CD</td>\n      <td>59,7732337</td>\n      <td>59,86089999</td>\n      <td>58,4580087</td>\n      <td>78,70642878</td>\n      <td>82,09530653</td>\n      <td>101,1083252</td>\n      <td>...</td>\n      <td>638,8458516</td>\n      <td>624,3154545</td>\n      <td>614,2233424</td>\n      <td>556,0072209</td>\n      <td>512,0127781</td>\n      <td>516,6798622</td>\n      <td>485,6684187</td>\n      <td>494,1793499</td>\n      <td>516,7478708</td>\n      <td>NaN</td>\n    </tr>\n    <tr>\n      <th>3</th>\n      <td>Africa Western and Central</td>\n      <td>AFW</td>\n      <td>GDP per capita (current US$)</td>\n      <td>NY.GDP.PCAP.CD</td>\n      <td>107,9322333</td>\n      <td>113,0816466</td>\n      <td>118,8311067</td>\n      <td>123,442888</td>\n      <td>131,8544019</td>\n      <td>138,5263324</td>\n      <td>...</td>\n      <td>1965,118485</td>\n      <td>2157,481149</td>\n      <td>2212,853135</td>\n      <td>1894,310195</td>\n      <td>1673,835527</td>\n      <td>1613,473553</td>\n      <td>1704,139603</td>\n      <td>1777,918672</td>\n      <td>1710,073363</td>\n      <td>NaN</td>\n    </tr>\n    <tr>\n      <th>4</th>\n      <td>Angola</td>\n      <td>AGO</td>\n      <td>GDP per capita (current US$)</td>\n      <td>NY.GDP.PCAP.CD</td>\n      <td>NaN</td>\n      <td>NaN</td>\n      <td>NaN</td>\n      <td>NaN</td>\n      <td>NaN</td>\n      <td>NaN</td>\n      <td>...</td>\n      <td>5100,097027</td>\n      <td>5254,881126</td>\n      <td>5408,4117</td>\n      <td>4166,979833</td>\n      <td>3506,073128</td>\n      <td>4095,810057</td>\n      <td>3289,643995</td>\n      <td>2809,626088</td>\n      <td>1776,166868</td>\n      <td>NaN</td>\n    </tr>\n    <tr>\n      <th>...</th>\n      <td>...</td>\n      <td>...</td>\n      <td>...</td>\n      <td>...</td>\n      <td>...</td>\n      <td>...</td>\n      <td>...</td>\n      <td>...</td>\n      <td>...</td>\n      <td>...</td>\n      <td>...</td>\n      <td>...</td>\n      <td>...</td>\n      <td>...</td>\n      <td>...</td>\n      <td>...</td>\n      <td>...</td>\n      <td>...</td>\n      <td>...</td>\n      <td>...</td>\n      <td>...</td>\n    </tr>\n    <tr>\n      <th>261</th>\n      <td>Kosovo</td>\n      <td>XKX</td>\n      <td>GDP per capita (current US$)</td>\n      <td>NY.GDP.PCAP.CD</td>\n      <td>NaN</td>\n      <td>NaN</td>\n      <td>NaN</td>\n      <td>NaN</td>\n      <td>NaN</td>\n      <td>NaN</td>\n      <td>...</td>\n      <td>3410,85978</td>\n      <td>3704,784221</td>\n      <td>3902,676013</td>\n      <td>3520,766449</td>\n      <td>3759,560246</td>\n      <td>4009,380987</td>\n      <td>4384,048892</td>\n      <td>4416,108358</td>\n      <td>4310,811183</td>\n      <td>NaN</td>\n    </tr>\n    <tr>\n      <th>262</th>\n      <td>Yemen, Rep.</td>\n      <td>YEM</td>\n      <td>GDP per capita (current US$)</td>\n      <td>NY.GDP.PCAP.CD</td>\n      <td>NaN</td>\n      <td>NaN</td>\n      <td>NaN</td>\n      <td>NaN</td>\n      <td>NaN</td>\n      <td>NaN</td>\n      <td>...</td>\n      <td>1446,536472</td>\n      <td>1607,152173</td>\n      <td>1674,002572</td>\n      <td>1601,830063</td>\n      <td>1152,720966</td>\n      <td>964,2648105</td>\n      <td>758,1452416</td>\n      <td>NaN</td>\n      <td>NaN</td>\n      <td>NaN</td>\n    </tr>\n    <tr>\n      <th>263</th>\n      <td>South Africa</td>\n      <td>ZAF</td>\n      <td>GDP per capita (current US$)</td>\n      <td>NY.GDP.PCAP.CD</td>\n      <td>443,0099197</td>\n      <td>454,9620132</td>\n      <td>473,0114048</td>\n      <td>511,4973636</td>\n      <td>548,9960578</td>\n      <td>584,7041627</td>\n      <td>...</td>\n      <td>8222,197279</td>\n      <td>7467,079185</td>\n      <td>6988,808739</td>\n      <td>6259,839681</td>\n      <td>5756,965741</td>\n      <td>6690,939847</td>\n      <td>7005,095413</td>\n      <td>6624,761865</td>\n      <td>5655,867654</td>\n      <td>NaN</td>\n    </tr>\n    <tr>\n      <th>264</th>\n      <td>Zambia</td>\n      <td>ZMB</td>\n      <td>GDP per capita (current US$)</td>\n      <td>NY.GDP.PCAP.CD</td>\n      <td>232,1885645</td>\n      <td>220,0420671</td>\n      <td>212,5784491</td>\n      <td>213,8967589</td>\n      <td>242,3844725</td>\n      <td>303,2817405</td>\n      <td>...</td>\n      <td>1763,069442</td>\n      <td>1878,346811</td>\n      <td>1762,427817</td>\n      <td>1338,290927</td>\n      <td>1280,806543</td>\n      <td>1535,196574</td>\n      <td>1516,368371</td>\n      <td>1305,001031</td>\n      <td>985,132436</td>\n      <td>NaN</td>\n    </tr>\n    <tr>\n      <th>265</th>\n      <td>Zimbabwe</td>\n      <td>ZWE</td>\n      <td>GDP per capita (current US$)</td>\n      <td>NY.GDP.PCAP.CD</td>\n      <td>278,8138468</td>\n      <td>280,8286629</td>\n      <td>276,6882328</td>\n      <td>277,4797151</td>\n      <td>281,558896</td>\n      <td>293,308788</td>\n      <td>...</td>\n      <td>1304,968011</td>\n      <td>1429,998461</td>\n      <td>1434,896277</td>\n      <td>1445,069702</td>\n      <td>1464,588957</td>\n      <td>1235,189032</td>\n      <td>1254,642265</td>\n      <td>1316,740657</td>\n      <td>1214,50982</td>\n      <td>NaN</td>\n    </tr>\n  </tbody>\n</table>\n<p>266 rows × 66 columns</p>\n</div>"
     },
     "metadata": {},
     "output_type": "display_data"
    }
   ],
   "source": [
    "gdp = pd.read_csv('Data/gdpData.csv', header=0, sep=';')\n",
    "ratings = pd.read_csv('Data/ratingsClear.csv', index_col=0)\n",
    "display(gdp)"
   ],
   "metadata": {
    "collapsed": false,
    "pycharm": {
     "name": "#%%\n"
    }
   }
  },
  {
   "cell_type": "code",
   "execution_count": 146,
   "outputs": [
    {
     "name": "stdout",
     "output_type": "stream",
     "text": [
      "['GDP per capita (current US$)']\n",
      "['NY.GDP.PCAP.CD']\n"
     ]
    }
   ],
   "source": [
    "print(gdp['Indicator Name'].unique())\n",
    "print(gdp['Indicator Code'].unique())"
   ],
   "metadata": {
    "collapsed": false,
    "pycharm": {
     "name": "#%%\n"
    }
   }
  },
  {
   "cell_type": "code",
   "execution_count": 147,
   "outputs": [],
   "source": [
    "gdp = gdp.drop(labels=['Indicator Name', 'Indicator Code'], axis=1)"
   ],
   "metadata": {
    "collapsed": false,
    "pycharm": {
     "name": "#%%\n"
    }
   }
  },
  {
   "cell_type": "code",
   "execution_count": 148,
   "outputs": [],
   "source": [
    "relevant_countries = ratings['UA_Country'].unique()\n",
    "gdp = gdp[gdp['Country Name'].isin(relevant_countries)].reset_index(drop=True)"
   ],
   "metadata": {
    "collapsed": false,
    "pycharm": {
     "name": "#%%\n"
    }
   }
  },
  {
   "cell_type": "code",
   "execution_count": 149,
   "outputs": [
    {
     "data": {
      "text/plain": "            Country Name Country Code         1960         1961         1962  \\\n0   United Arab Emirates          ARE          NaN          NaN          NaN   \n1              Argentina          ARG          NaN          NaN  1155,890717   \n2              Australia          AUS   1810,61923  1877,616638  1854,656834   \n3                Austria          AUT  935,4604269  1031,815004  1087,834243   \n4                Belgium          BEL  1273,691659  1350,197673  1438,523233   \n..                   ...          ...          ...          ...          ...   \n58                Turkey          TUR  509,4239634  283,8282843  309,4466243   \n59               Ukraine          UKR          NaN          NaN          NaN   \n60               Uruguay          URY   489,350725  601,7030027  656,7132268   \n61               Vietnam          VNM          NaN          NaN          NaN   \n62          South Africa          ZAF  443,0099197  454,9620132  473,0114048   \n\n           1963         1964         1965         1966         1967  ...  \\\n0           NaN          NaN          NaN          NaN          NaN  ...   \n1   850,3045786  1173,238105  1279,113778  1272,803204  1062,543412  ...   \n2   1967,116537  2131,377948  2281,098797   2343,99529  2580,271096  ...   \n3   1167,000532  1269,412583   1374,53214  1486,968606  1569,667183  ...   \n4   1535,023729  1701,846276  1835,594766   1957,62608  2086,636005  ...   \n..          ...          ...          ...          ...          ...  ...   \n58  350,6629852  369,5834686  386,3580606  444,5494828  481,6936799  ...   \n59          NaN          NaN          NaN          NaN          NaN  ...   \n60  584,2916335   741,244998  701,7047182  664,4398411  580,9702588  ...   \n61          NaN          NaN          NaN          NaN          NaN  ...   \n62  511,4973636  548,9960578  584,7041627  621,2205434  675,1353451  ...   \n\n           2012         2013         2014         2015         2016  \\\n0   40976,49075   42412,6395  43751,80565   38663,4005  38141,86713   \n1   13082,66433  13080,25473  12334,79825  13789,06042  12790,24247   \n2   68027,84171  68156,62792  62511,69059  56707,02208  49881,76371   \n3   48564,91734  50731,12725  51786,37717  44195,81759  45307,58786   \n4   44670,56068  46757,95186  47764,07151  41008,29672  42012,62272   \n..          ...          ...          ...          ...          ...   \n58  11795,63346  12614,78161  12157,99043  11006,27952  10894,60338   \n59  4004,804396  4187,739845  3104,643206  2124,662319   2187,73051   \n60  15171,58017  16973,68924  16831,94819  15613,74597  16715,63347   \n61  1735,152116   1886,69017  2030,278447  2085,101349  2192,174482   \n62  8222,197279  7467,079185  6988,808739  6259,839681  5756,965741   \n\n           2017         2018         2019         2020 2021  \n0   40644,79119  43839,32449  42701,44305  36284,55524  NaN  \n1   14613,04182  11795,15939  10056,63794  8579,017773  NaN  \n2   53934,25018   57180,7794  54875,28596  51680,31652  NaN  \n3   47429,15846   51486,5755  50114,40111  48588,65938  NaN  \n4   44198,48239  47542,76952  46591,49161  45205,33594  NaN  \n..          ...          ...          ...          ...  ...  \n58  10589,66772  9454,348443  9121,515167   8536,43332  NaN  \n59  2638,326055  3096,561697  3661,456204  3724,938437  NaN  \n60  18690,89384  18703,86029  17688,01501  15438,41167  NaN  \n61  2365,521615  2566,447487   2715,27598  2785,724161  NaN  \n62  6690,939847  7005,095413  6624,761865  5655,867654  NaN  \n\n[63 rows x 64 columns]",
      "text/html": "<div>\n<style scoped>\n    .dataframe tbody tr th:only-of-type {\n        vertical-align: middle;\n    }\n\n    .dataframe tbody tr th {\n        vertical-align: top;\n    }\n\n    .dataframe thead th {\n        text-align: right;\n    }\n</style>\n<table border=\"1\" class=\"dataframe\">\n  <thead>\n    <tr style=\"text-align: right;\">\n      <th></th>\n      <th>Country Name</th>\n      <th>Country Code</th>\n      <th>1960</th>\n      <th>1961</th>\n      <th>1962</th>\n      <th>1963</th>\n      <th>1964</th>\n      <th>1965</th>\n      <th>1966</th>\n      <th>1967</th>\n      <th>...</th>\n      <th>2012</th>\n      <th>2013</th>\n      <th>2014</th>\n      <th>2015</th>\n      <th>2016</th>\n      <th>2017</th>\n      <th>2018</th>\n      <th>2019</th>\n      <th>2020</th>\n      <th>2021</th>\n    </tr>\n  </thead>\n  <tbody>\n    <tr>\n      <th>0</th>\n      <td>United Arab Emirates</td>\n      <td>ARE</td>\n      <td>NaN</td>\n      <td>NaN</td>\n      <td>NaN</td>\n      <td>NaN</td>\n      <td>NaN</td>\n      <td>NaN</td>\n      <td>NaN</td>\n      <td>NaN</td>\n      <td>...</td>\n      <td>40976,49075</td>\n      <td>42412,6395</td>\n      <td>43751,80565</td>\n      <td>38663,4005</td>\n      <td>38141,86713</td>\n      <td>40644,79119</td>\n      <td>43839,32449</td>\n      <td>42701,44305</td>\n      <td>36284,55524</td>\n      <td>NaN</td>\n    </tr>\n    <tr>\n      <th>1</th>\n      <td>Argentina</td>\n      <td>ARG</td>\n      <td>NaN</td>\n      <td>NaN</td>\n      <td>1155,890717</td>\n      <td>850,3045786</td>\n      <td>1173,238105</td>\n      <td>1279,113778</td>\n      <td>1272,803204</td>\n      <td>1062,543412</td>\n      <td>...</td>\n      <td>13082,66433</td>\n      <td>13080,25473</td>\n      <td>12334,79825</td>\n      <td>13789,06042</td>\n      <td>12790,24247</td>\n      <td>14613,04182</td>\n      <td>11795,15939</td>\n      <td>10056,63794</td>\n      <td>8579,017773</td>\n      <td>NaN</td>\n    </tr>\n    <tr>\n      <th>2</th>\n      <td>Australia</td>\n      <td>AUS</td>\n      <td>1810,61923</td>\n      <td>1877,616638</td>\n      <td>1854,656834</td>\n      <td>1967,116537</td>\n      <td>2131,377948</td>\n      <td>2281,098797</td>\n      <td>2343,99529</td>\n      <td>2580,271096</td>\n      <td>...</td>\n      <td>68027,84171</td>\n      <td>68156,62792</td>\n      <td>62511,69059</td>\n      <td>56707,02208</td>\n      <td>49881,76371</td>\n      <td>53934,25018</td>\n      <td>57180,7794</td>\n      <td>54875,28596</td>\n      <td>51680,31652</td>\n      <td>NaN</td>\n    </tr>\n    <tr>\n      <th>3</th>\n      <td>Austria</td>\n      <td>AUT</td>\n      <td>935,4604269</td>\n      <td>1031,815004</td>\n      <td>1087,834243</td>\n      <td>1167,000532</td>\n      <td>1269,412583</td>\n      <td>1374,53214</td>\n      <td>1486,968606</td>\n      <td>1569,667183</td>\n      <td>...</td>\n      <td>48564,91734</td>\n      <td>50731,12725</td>\n      <td>51786,37717</td>\n      <td>44195,81759</td>\n      <td>45307,58786</td>\n      <td>47429,15846</td>\n      <td>51486,5755</td>\n      <td>50114,40111</td>\n      <td>48588,65938</td>\n      <td>NaN</td>\n    </tr>\n    <tr>\n      <th>4</th>\n      <td>Belgium</td>\n      <td>BEL</td>\n      <td>1273,691659</td>\n      <td>1350,197673</td>\n      <td>1438,523233</td>\n      <td>1535,023729</td>\n      <td>1701,846276</td>\n      <td>1835,594766</td>\n      <td>1957,62608</td>\n      <td>2086,636005</td>\n      <td>...</td>\n      <td>44670,56068</td>\n      <td>46757,95186</td>\n      <td>47764,07151</td>\n      <td>41008,29672</td>\n      <td>42012,62272</td>\n      <td>44198,48239</td>\n      <td>47542,76952</td>\n      <td>46591,49161</td>\n      <td>45205,33594</td>\n      <td>NaN</td>\n    </tr>\n    <tr>\n      <th>...</th>\n      <td>...</td>\n      <td>...</td>\n      <td>...</td>\n      <td>...</td>\n      <td>...</td>\n      <td>...</td>\n      <td>...</td>\n      <td>...</td>\n      <td>...</td>\n      <td>...</td>\n      <td>...</td>\n      <td>...</td>\n      <td>...</td>\n      <td>...</td>\n      <td>...</td>\n      <td>...</td>\n      <td>...</td>\n      <td>...</td>\n      <td>...</td>\n      <td>...</td>\n      <td>...</td>\n    </tr>\n    <tr>\n      <th>58</th>\n      <td>Turkey</td>\n      <td>TUR</td>\n      <td>509,4239634</td>\n      <td>283,8282843</td>\n      <td>309,4466243</td>\n      <td>350,6629852</td>\n      <td>369,5834686</td>\n      <td>386,3580606</td>\n      <td>444,5494828</td>\n      <td>481,6936799</td>\n      <td>...</td>\n      <td>11795,63346</td>\n      <td>12614,78161</td>\n      <td>12157,99043</td>\n      <td>11006,27952</td>\n      <td>10894,60338</td>\n      <td>10589,66772</td>\n      <td>9454,348443</td>\n      <td>9121,515167</td>\n      <td>8536,43332</td>\n      <td>NaN</td>\n    </tr>\n    <tr>\n      <th>59</th>\n      <td>Ukraine</td>\n      <td>UKR</td>\n      <td>NaN</td>\n      <td>NaN</td>\n      <td>NaN</td>\n      <td>NaN</td>\n      <td>NaN</td>\n      <td>NaN</td>\n      <td>NaN</td>\n      <td>NaN</td>\n      <td>...</td>\n      <td>4004,804396</td>\n      <td>4187,739845</td>\n      <td>3104,643206</td>\n      <td>2124,662319</td>\n      <td>2187,73051</td>\n      <td>2638,326055</td>\n      <td>3096,561697</td>\n      <td>3661,456204</td>\n      <td>3724,938437</td>\n      <td>NaN</td>\n    </tr>\n    <tr>\n      <th>60</th>\n      <td>Uruguay</td>\n      <td>URY</td>\n      <td>489,350725</td>\n      <td>601,7030027</td>\n      <td>656,7132268</td>\n      <td>584,2916335</td>\n      <td>741,244998</td>\n      <td>701,7047182</td>\n      <td>664,4398411</td>\n      <td>580,9702588</td>\n      <td>...</td>\n      <td>15171,58017</td>\n      <td>16973,68924</td>\n      <td>16831,94819</td>\n      <td>15613,74597</td>\n      <td>16715,63347</td>\n      <td>18690,89384</td>\n      <td>18703,86029</td>\n      <td>17688,01501</td>\n      <td>15438,41167</td>\n      <td>NaN</td>\n    </tr>\n    <tr>\n      <th>61</th>\n      <td>Vietnam</td>\n      <td>VNM</td>\n      <td>NaN</td>\n      <td>NaN</td>\n      <td>NaN</td>\n      <td>NaN</td>\n      <td>NaN</td>\n      <td>NaN</td>\n      <td>NaN</td>\n      <td>NaN</td>\n      <td>...</td>\n      <td>1735,152116</td>\n      <td>1886,69017</td>\n      <td>2030,278447</td>\n      <td>2085,101349</td>\n      <td>2192,174482</td>\n      <td>2365,521615</td>\n      <td>2566,447487</td>\n      <td>2715,27598</td>\n      <td>2785,724161</td>\n      <td>NaN</td>\n    </tr>\n    <tr>\n      <th>62</th>\n      <td>South Africa</td>\n      <td>ZAF</td>\n      <td>443,0099197</td>\n      <td>454,9620132</td>\n      <td>473,0114048</td>\n      <td>511,4973636</td>\n      <td>548,9960578</td>\n      <td>584,7041627</td>\n      <td>621,2205434</td>\n      <td>675,1353451</td>\n      <td>...</td>\n      <td>8222,197279</td>\n      <td>7467,079185</td>\n      <td>6988,808739</td>\n      <td>6259,839681</td>\n      <td>5756,965741</td>\n      <td>6690,939847</td>\n      <td>7005,095413</td>\n      <td>6624,761865</td>\n      <td>5655,867654</td>\n      <td>NaN</td>\n    </tr>\n  </tbody>\n</table>\n<p>63 rows × 64 columns</p>\n</div>"
     },
     "metadata": {},
     "output_type": "display_data"
    }
   ],
   "source": [
    "display(gdp)"
   ],
   "metadata": {
    "collapsed": false,
    "pycharm": {
     "name": "#%%\n"
    }
   }
  },
  {
   "cell_type": "code",
   "execution_count": 150,
   "outputs": [],
   "source": [
    "best_year = gdp.loc[:, '1960':'2021'].isna().sum(0)[::-1].idxmin()"
   ],
   "metadata": {
    "collapsed": false,
    "pycharm": {
     "name": "#%%\n"
    }
   }
  },
  {
   "cell_type": "code",
   "execution_count": 151,
   "outputs": [
    {
     "data": {
      "text/plain": "Series([], Name: Country Name, dtype: object)"
     },
     "execution_count": 151,
     "metadata": {},
     "output_type": "execute_result"
    }
   ],
   "source": [
    "gdp[gdp.loc[:, best_year].isna()]['Country Name']"
   ],
   "metadata": {
    "collapsed": false,
    "pycharm": {
     "name": "#%%\n"
    }
   }
  },
  {
   "cell_type": "code",
   "execution_count": 152,
   "outputs": [
    {
     "data": {
      "text/plain": "              UA_Country          GDP\n0   United Arab Emirates  36284,55524\n1              Argentina  8579,017773\n2              Australia  51680,31652\n3                Austria  48588,65938\n4                Belgium  45205,33594\n..                   ...          ...\n58                Turkey   8536,43332\n59               Ukraine  3724,938437\n60               Uruguay  15438,41167\n61               Vietnam  2785,724161\n62          South Africa  5655,867654\n\n[63 rows x 2 columns]",
      "text/html": "<div>\n<style scoped>\n    .dataframe tbody tr th:only-of-type {\n        vertical-align: middle;\n    }\n\n    .dataframe tbody tr th {\n        vertical-align: top;\n    }\n\n    .dataframe thead th {\n        text-align: right;\n    }\n</style>\n<table border=\"1\" class=\"dataframe\">\n  <thead>\n    <tr style=\"text-align: right;\">\n      <th></th>\n      <th>UA_Country</th>\n      <th>GDP</th>\n    </tr>\n  </thead>\n  <tbody>\n    <tr>\n      <th>0</th>\n      <td>United Arab Emirates</td>\n      <td>36284,55524</td>\n    </tr>\n    <tr>\n      <th>1</th>\n      <td>Argentina</td>\n      <td>8579,017773</td>\n    </tr>\n    <tr>\n      <th>2</th>\n      <td>Australia</td>\n      <td>51680,31652</td>\n    </tr>\n    <tr>\n      <th>3</th>\n      <td>Austria</td>\n      <td>48588,65938</td>\n    </tr>\n    <tr>\n      <th>4</th>\n      <td>Belgium</td>\n      <td>45205,33594</td>\n    </tr>\n    <tr>\n      <th>...</th>\n      <td>...</td>\n      <td>...</td>\n    </tr>\n    <tr>\n      <th>58</th>\n      <td>Turkey</td>\n      <td>8536,43332</td>\n    </tr>\n    <tr>\n      <th>59</th>\n      <td>Ukraine</td>\n      <td>3724,938437</td>\n    </tr>\n    <tr>\n      <th>60</th>\n      <td>Uruguay</td>\n      <td>15438,41167</td>\n    </tr>\n    <tr>\n      <th>61</th>\n      <td>Vietnam</td>\n      <td>2785,724161</td>\n    </tr>\n    <tr>\n      <th>62</th>\n      <td>South Africa</td>\n      <td>5655,867654</td>\n    </tr>\n  </tbody>\n</table>\n<p>63 rows × 2 columns</p>\n</div>"
     },
     "metadata": {},
     "output_type": "display_data"
    }
   ],
   "source": [
    "gdp_addon = pd.DataFrame(data={\n",
    "    'UA_Country': gdp['Country Name'],\n",
    "    'GDP': gdp[best_year]\n",
    "})\n",
    "\n",
    "display(gdp_addon)"
   ],
   "metadata": {
    "collapsed": false,
    "pycharm": {
     "name": "#%%\n"
    }
   }
  },
  {
   "cell_type": "code",
   "execution_count": 153,
   "outputs": [
    {
     "data": {
      "text/plain": "         UA_Name   UA_Country   UA_Continent  Housing  Cost of Living  \\\n0         Aarhus      Denmark         Europe   6.1315           4.015   \n1       Adelaide    Australia        Oceania   6.3095           4.692   \n2    Albuquerque   New Mexico  North America   7.2620           6.059   \n3         Almaty   Kazakhstan           Asia   9.2820           9.333   \n4      Amsterdam  Netherlands         Europe   3.0530           3.824   \n..           ...          ...            ...      ...             ...   \n222   Wellington  New Zealand        Oceania   5.1345           5.161   \n223     Winnipeg       Canada  North America   7.5525           5.882   \n224      Wroclaw       Poland         Europe   8.4520           8.434   \n225       Zagreb      Croatia         Europe   8.9100           7.194   \n226       Zurich  Switzerland         Europe   1.4730           1.000   \n\n     Travel Connectivity  Commute  Safety  Healthcare  Education  \\\n0                 3.5360  6.31175  9.6165    8.704333     5.3665   \n1                 1.7765  5.33625  7.9260    7.936667     5.1420   \n2                 1.4555  5.05575  1.3435    6.430000     4.1520   \n3                 4.5920  5.87125  7.3090    4.545667     2.2830   \n4                 8.3245  6.11850  8.5035    7.907333     6.1800   \n..                   ...      ...     ...         ...        ...   \n222               0.8525  6.03975  8.2230    8.078333     4.7560   \n223               1.4755  5.10450  6.0155    7.755667     5.3440   \n224               2.2445  4.95475  8.1655    6.781333     4.1615   \n225               2.0280  4.83000  8.6575    7.266000     3.2110   \n226               7.7335  5.83950  9.0665    7.670333     7.2875   \n\n     Environmental Quality  Economy  Taxation  Internet Access  \\\n0                  7.63300   4.8865    5.0680           8.3730   \n1                  8.33075   6.0695    4.5885           4.3410   \n2                  7.31950   6.5145    4.3460           5.3960   \n3                  3.85675   5.2690    8.5220           2.8860   \n4                  7.59725   5.0530    4.9550           4.5230   \n..                     ...      ...       ...              ...   \n222                9.60925   5.5055    5.9315           5.1745   \n223                5.67475   5.8405    7.2745           4.9025   \n224                4.96475   4.7615    5.0970           5.7615   \n225                7.33150   2.2365    7.9935           5.0335   \n226                8.64300   6.5520    6.4285           7.2675   \n\n     Leisure & Culture          GDP  \n0               3.1870  61063,31643  \n1               4.3285  51680,31652  \n2               4.8900          NaN  \n3               2.9370   9122,23343  \n4               8.8740  52396,03221  \n..                 ...          ...  \n222             4.5990  41441,46667  \n223             4.6880  43258,26387  \n224             4.7495  15742,45373  \n225             4.9945  14132,48656  \n226             4.9655  87100,41482  \n\n[227 rows x 16 columns]",
      "text/html": "<div>\n<style scoped>\n    .dataframe tbody tr th:only-of-type {\n        vertical-align: middle;\n    }\n\n    .dataframe tbody tr th {\n        vertical-align: top;\n    }\n\n    .dataframe thead th {\n        text-align: right;\n    }\n</style>\n<table border=\"1\" class=\"dataframe\">\n  <thead>\n    <tr style=\"text-align: right;\">\n      <th></th>\n      <th>UA_Name</th>\n      <th>UA_Country</th>\n      <th>UA_Continent</th>\n      <th>Housing</th>\n      <th>Cost of Living</th>\n      <th>Travel Connectivity</th>\n      <th>Commute</th>\n      <th>Safety</th>\n      <th>Healthcare</th>\n      <th>Education</th>\n      <th>Environmental Quality</th>\n      <th>Economy</th>\n      <th>Taxation</th>\n      <th>Internet Access</th>\n      <th>Leisure &amp; Culture</th>\n      <th>GDP</th>\n    </tr>\n  </thead>\n  <tbody>\n    <tr>\n      <th>0</th>\n      <td>Aarhus</td>\n      <td>Denmark</td>\n      <td>Europe</td>\n      <td>6.1315</td>\n      <td>4.015</td>\n      <td>3.5360</td>\n      <td>6.31175</td>\n      <td>9.6165</td>\n      <td>8.704333</td>\n      <td>5.3665</td>\n      <td>7.63300</td>\n      <td>4.8865</td>\n      <td>5.0680</td>\n      <td>8.3730</td>\n      <td>3.1870</td>\n      <td>61063,31643</td>\n    </tr>\n    <tr>\n      <th>1</th>\n      <td>Adelaide</td>\n      <td>Australia</td>\n      <td>Oceania</td>\n      <td>6.3095</td>\n      <td>4.692</td>\n      <td>1.7765</td>\n      <td>5.33625</td>\n      <td>7.9260</td>\n      <td>7.936667</td>\n      <td>5.1420</td>\n      <td>8.33075</td>\n      <td>6.0695</td>\n      <td>4.5885</td>\n      <td>4.3410</td>\n      <td>4.3285</td>\n      <td>51680,31652</td>\n    </tr>\n    <tr>\n      <th>2</th>\n      <td>Albuquerque</td>\n      <td>New Mexico</td>\n      <td>North America</td>\n      <td>7.2620</td>\n      <td>6.059</td>\n      <td>1.4555</td>\n      <td>5.05575</td>\n      <td>1.3435</td>\n      <td>6.430000</td>\n      <td>4.1520</td>\n      <td>7.31950</td>\n      <td>6.5145</td>\n      <td>4.3460</td>\n      <td>5.3960</td>\n      <td>4.8900</td>\n      <td>NaN</td>\n    </tr>\n    <tr>\n      <th>3</th>\n      <td>Almaty</td>\n      <td>Kazakhstan</td>\n      <td>Asia</td>\n      <td>9.2820</td>\n      <td>9.333</td>\n      <td>4.5920</td>\n      <td>5.87125</td>\n      <td>7.3090</td>\n      <td>4.545667</td>\n      <td>2.2830</td>\n      <td>3.85675</td>\n      <td>5.2690</td>\n      <td>8.5220</td>\n      <td>2.8860</td>\n      <td>2.9370</td>\n      <td>9122,23343</td>\n    </tr>\n    <tr>\n      <th>4</th>\n      <td>Amsterdam</td>\n      <td>Netherlands</td>\n      <td>Europe</td>\n      <td>3.0530</td>\n      <td>3.824</td>\n      <td>8.3245</td>\n      <td>6.11850</td>\n      <td>8.5035</td>\n      <td>7.907333</td>\n      <td>6.1800</td>\n      <td>7.59725</td>\n      <td>5.0530</td>\n      <td>4.9550</td>\n      <td>4.5230</td>\n      <td>8.8740</td>\n      <td>52396,03221</td>\n    </tr>\n    <tr>\n      <th>...</th>\n      <td>...</td>\n      <td>...</td>\n      <td>...</td>\n      <td>...</td>\n      <td>...</td>\n      <td>...</td>\n      <td>...</td>\n      <td>...</td>\n      <td>...</td>\n      <td>...</td>\n      <td>...</td>\n      <td>...</td>\n      <td>...</td>\n      <td>...</td>\n      <td>...</td>\n      <td>...</td>\n    </tr>\n    <tr>\n      <th>222</th>\n      <td>Wellington</td>\n      <td>New Zealand</td>\n      <td>Oceania</td>\n      <td>5.1345</td>\n      <td>5.161</td>\n      <td>0.8525</td>\n      <td>6.03975</td>\n      <td>8.2230</td>\n      <td>8.078333</td>\n      <td>4.7560</td>\n      <td>9.60925</td>\n      <td>5.5055</td>\n      <td>5.9315</td>\n      <td>5.1745</td>\n      <td>4.5990</td>\n      <td>41441,46667</td>\n    </tr>\n    <tr>\n      <th>223</th>\n      <td>Winnipeg</td>\n      <td>Canada</td>\n      <td>North America</td>\n      <td>7.5525</td>\n      <td>5.882</td>\n      <td>1.4755</td>\n      <td>5.10450</td>\n      <td>6.0155</td>\n      <td>7.755667</td>\n      <td>5.3440</td>\n      <td>5.67475</td>\n      <td>5.8405</td>\n      <td>7.2745</td>\n      <td>4.9025</td>\n      <td>4.6880</td>\n      <td>43258,26387</td>\n    </tr>\n    <tr>\n      <th>224</th>\n      <td>Wroclaw</td>\n      <td>Poland</td>\n      <td>Europe</td>\n      <td>8.4520</td>\n      <td>8.434</td>\n      <td>2.2445</td>\n      <td>4.95475</td>\n      <td>8.1655</td>\n      <td>6.781333</td>\n      <td>4.1615</td>\n      <td>4.96475</td>\n      <td>4.7615</td>\n      <td>5.0970</td>\n      <td>5.7615</td>\n      <td>4.7495</td>\n      <td>15742,45373</td>\n    </tr>\n    <tr>\n      <th>225</th>\n      <td>Zagreb</td>\n      <td>Croatia</td>\n      <td>Europe</td>\n      <td>8.9100</td>\n      <td>7.194</td>\n      <td>2.0280</td>\n      <td>4.83000</td>\n      <td>8.6575</td>\n      <td>7.266000</td>\n      <td>3.2110</td>\n      <td>7.33150</td>\n      <td>2.2365</td>\n      <td>7.9935</td>\n      <td>5.0335</td>\n      <td>4.9945</td>\n      <td>14132,48656</td>\n    </tr>\n    <tr>\n      <th>226</th>\n      <td>Zurich</td>\n      <td>Switzerland</td>\n      <td>Europe</td>\n      <td>1.4730</td>\n      <td>1.000</td>\n      <td>7.7335</td>\n      <td>5.83950</td>\n      <td>9.0665</td>\n      <td>7.670333</td>\n      <td>7.2875</td>\n      <td>8.64300</td>\n      <td>6.5520</td>\n      <td>6.4285</td>\n      <td>7.2675</td>\n      <td>4.9655</td>\n      <td>87100,41482</td>\n    </tr>\n  </tbody>\n</table>\n<p>227 rows × 16 columns</p>\n</div>"
     },
     "execution_count": 153,
     "metadata": {},
     "output_type": "execute_result"
    }
   ],
   "source": [
    "ratings_with_gdp = pd.merge(ratings, gdp_addon, left_on='UA_Country', right_on='UA_Country', how='left')\n",
    "ratings_with_gdp"
   ],
   "metadata": {
    "collapsed": false,
    "pycharm": {
     "name": "#%%\n"
    }
   }
  },
  {
   "cell_type": "code",
   "execution_count": 154,
   "outputs": [],
   "source": [
    "ratings_with_gdp['GDP'] = ratings_with_gdp['GDP'].str.replace(',', '.').astype(float)"
   ],
   "metadata": {
    "collapsed": false,
    "pycharm": {
     "name": "#%%\n"
    }
   }
  },
  {
   "cell_type": "code",
   "execution_count": 155,
   "outputs": [],
   "source": [
    "ratings_with_gdp.to_csv('Data/ratingsWithGDP.csv')"
   ],
   "metadata": {
    "collapsed": false,
    "pycharm": {
     "name": "#%%\n"
    }
   }
  },
  {
   "cell_type": "code",
   "execution_count": 156,
   "outputs": [
    {
     "data": {
      "text/plain": "count       159.000000\nmean      33387.824710\nstd       22171.901814\nmin        1878.580703\n25%       12528.048600\n50%       39037.122630\n75%       46252.689300\nmax      116356.158000\nName: GDP, dtype: float64"
     },
     "execution_count": 156,
     "metadata": {},
     "output_type": "execute_result"
    }
   ],
   "source": [
    "ratings_with_gdp['GDP'].describe()"
   ],
   "metadata": {
    "collapsed": false,
    "pycharm": {
     "name": "#%%\n"
    }
   }
  },
  {
   "cell_type": "code",
   "execution_count": 157,
   "outputs": [
    {
     "data": {
      "text/plain": "<AxesSubplot:ylabel='GDP'>"
     },
     "execution_count": 157,
     "metadata": {},
     "output_type": "execute_result"
    },
    {
     "data": {
      "text/plain": "<Figure size 842.4x595.44 with 1 Axes>",
      "image/png": "[encoded data removed]"
     },
     "metadata": {},
     "output_type": "display_data"
    }
   ],
   "source": [
    "sns.set(rc=\n",
    "{\n",
    "    'figure.figsize': (11.7, 8.27),\n",
    "    \"font.size\": 18\n",
    "})\n",
    "sns.scatterplot(data=ratings_with_gdp.sort_values('GDP'), x=range(1, len(ratings_with_gdp) + 1), y='GDP')"
   ],
   "metadata": {
    "collapsed": false,
    "pycharm": {
     "name": "#%%\n"
    }
   }
  },
  {
   "cell_type": "code",
   "execution_count": 158,
   "outputs": [
    {
     "data": {
      "text/plain": "         UA_Name   UA_Country   UA_Continent  Housing  Cost of Living  \\\n0         Aarhus      Denmark         Europe   6.1315           4.015   \n1       Adelaide    Australia        Oceania   6.3095           4.692   \n2    Albuquerque   New Mexico  North America   7.2620           6.059   \n3         Almaty   Kazakhstan           Asia   9.2820           9.333   \n4      Amsterdam  Netherlands         Europe   3.0530           3.824   \n..           ...          ...            ...      ...             ...   \n222   Wellington  New Zealand        Oceania   5.1345           5.161   \n223     Winnipeg       Canada  North America   7.5525           5.882   \n224      Wroclaw       Poland         Europe   8.4520           8.434   \n225       Zagreb      Croatia         Europe   8.9100           7.194   \n226       Zurich  Switzerland         Europe   1.4730           1.000   \n\n     Travel Connectivity  Commute  Safety  Healthcare  Education  \\\n0                 3.5360  6.31175  9.6165    8.704333     5.3665   \n1                 1.7765  5.33625  7.9260    7.936667     5.1420   \n2                 1.4555  5.05575  1.3435    6.430000     4.1520   \n3                 4.5920  5.87125  7.3090    4.545667     2.2830   \n4                 8.3245  6.11850  8.5035    7.907333     6.1800   \n..                   ...      ...     ...         ...        ...   \n222               0.8525  6.03975  8.2230    8.078333     4.7560   \n223               1.4755  5.10450  6.0155    7.755667     5.3440   \n224               2.2445  4.95475  8.1655    6.781333     4.1615   \n225               2.0280  4.83000  8.6575    7.266000     3.2110   \n226               7.7335  5.83950  9.0665    7.670333     7.2875   \n\n     Environmental Quality  Economy  Taxation  Internet Access  \\\n0                  7.63300   4.8865    5.0680           8.3730   \n1                  8.33075   6.0695    4.5885           4.3410   \n2                  7.31950   6.5145    4.3460           5.3960   \n3                  3.85675   5.2690    8.5220           2.8860   \n4                  7.59725   5.0530    4.9550           4.5230   \n..                     ...      ...       ...              ...   \n222                9.60925   5.5055    5.9315           5.1745   \n223                5.67475   5.8405    7.2745           4.9025   \n224                4.96475   4.7615    5.0970           5.7615   \n225                7.33150   2.2365    7.9935           5.0335   \n226                8.64300   6.5520    6.4285           7.2675   \n\n     Leisure & Culture          GDP   Label  \n0               3.1870  61063.31643  better  \n1               4.3285  51680.31652  better  \n2               4.8900          NaN   worse  \n3               2.9370   9122.23343   worse  \n4               8.8740  52396.03221  better  \n..                 ...          ...     ...  \n222             4.5990  41441.46667  better  \n223             4.6880  43258.26387  better  \n224             4.7495  15742.45373   worse  \n225             4.9945  14132.48656   worse  \n226             4.9655  87100.41482  better  \n\n[227 rows x 17 columns]",
      "text/html": "<div>\n<style scoped>\n    .dataframe tbody tr th:only-of-type {\n        vertical-align: middle;\n    }\n\n    .dataframe tbody tr th {\n        vertical-align: top;\n    }\n\n    .dataframe thead th {\n        text-align: right;\n    }\n</style>\n<table border=\"1\" class=\"dataframe\">\n  <thead>\n    <tr style=\"text-align: right;\">\n      <th></th>\n      <th>UA_Name</th>\n      <th>UA_Country</th>\n      <th>UA_Continent</th>\n      <th>Housing</th>\n      <th>Cost of Living</th>\n      <th>Travel Connectivity</th>\n      <th>Commute</th>\n      <th>Safety</th>\n      <th>Healthcare</th>\n      <th>Education</th>\n      <th>Environmental Quality</th>\n      <th>Economy</th>\n      <th>Taxation</th>\n      <th>Internet Access</th>\n      <th>Leisure &amp; Culture</th>\n      <th>GDP</th>\n      <th>Label</th>\n    </tr>\n  </thead>\n  <tbody>\n    <tr>\n      <th>0</th>\n      <td>Aarhus</td>\n      <td>Denmark</td>\n      <td>Europe</td>\n      <td>6.1315</td>\n      <td>4.015</td>\n      <td>3.5360</td>\n      <td>6.31175</td>\n      <td>9.6165</td>\n      <td>8.704333</td>\n      <td>5.3665</td>\n      <td>7.63300</td>\n      <td>4.8865</td>\n      <td>5.0680</td>\n      <td>8.3730</td>\n      <td>3.1870</td>\n      <td>61063.31643</td>\n      <td>better</td>\n    </tr>\n    <tr>\n      <th>1</th>\n      <td>Adelaide</td>\n      <td>Australia</td>\n      <td>Oceania</td>\n      <td>6.3095</td>\n      <td>4.692</td>\n      <td>1.7765</td>\n      <td>5.33625</td>\n      <td>7.9260</td>\n      <td>7.936667</td>\n      <td>5.1420</td>\n      <td>8.33075</td>\n      <td>6.0695</td>\n      <td>4.5885</td>\n      <td>4.3410</td>\n      <td>4.3285</td>\n      <td>51680.31652</td>\n      <td>better</td>\n    </tr>\n    <tr>\n      <th>2</th>\n      <td>Albuquerque</td>\n      <td>New Mexico</td>\n      <td>North America</td>\n      <td>7.2620</td>\n      <td>6.059</td>\n      <td>1.4555</td>\n      <td>5.05575</td>\n      <td>1.3435</td>\n      <td>6.430000</td>\n      <td>4.1520</td>\n      <td>7.31950</td>\n      <td>6.5145</td>\n      <td>4.3460</td>\n      <td>5.3960</td>\n      <td>4.8900</td>\n      <td>NaN</td>\n      <td>worse</td>\n    </tr>\n    <tr>\n      <th>3</th>\n      <td>Almaty</td>\n      <td>Kazakhstan</td>\n      <td>Asia</td>\n      <td>9.2820</td>\n      <td>9.333</td>\n      <td>4.5920</td>\n      <td>5.87125</td>\n      <td>7.3090</td>\n      <td>4.545667</td>\n      <td>2.2830</td>\n      <td>3.85675</td>\n      <td>5.2690</td>\n      <td>8.5220</td>\n      <td>2.8860</td>\n      <td>2.9370</td>\n      <td>9122.23343</td>\n      <td>worse</td>\n    </tr>\n    <tr>\n      <th>4</th>\n      <td>Amsterdam</td>\n      <td>Netherlands</td>\n      <td>Europe</td>\n      <td>3.0530</td>\n      <td>3.824</td>\n      <td>8.3245</td>\n      <td>6.11850</td>\n      <td>8.5035</td>\n      <td>7.907333</td>\n      <td>6.1800</td>\n      <td>7.59725</td>\n      <td>5.0530</td>\n      <td>4.9550</td>\n      <td>4.5230</td>\n      <td>8.8740</td>\n      <td>52396.03221</td>\n      <td>better</td>\n    </tr>\n    <tr>\n      <th>...</th>\n      <td>...</td>\n      <td>...</td>\n      <td>...</td>\n      <td>...</td>\n      <td>...</td>\n      <td>...</td>\n      <td>...</td>\n      <td>...</td>\n      <td>...</td>\n      <td>...</td>\n      <td>...</td>\n      <td>...</td>\n      <td>...</td>\n      <td>...</td>\n      <td>...</td>\n      <td>...</td>\n      <td>...</td>\n    </tr>\n    <tr>\n      <th>222</th>\n      <td>Wellington</td>\n      <td>New Zealand</td>\n      <td>Oceania</td>\n      <td>5.1345</td>\n      <td>5.161</td>\n      <td>0.8525</td>\n      <td>6.03975</td>\n      <td>8.2230</td>\n      <td>8.078333</td>\n      <td>4.7560</td>\n      <td>9.60925</td>\n      <td>5.5055</td>\n      <td>5.9315</td>\n      <td>5.1745</td>\n      <td>4.5990</td>\n      <td>41441.46667</td>\n      <td>better</td>\n    </tr>\n    <tr>\n      <th>223</th>\n      <td>Winnipeg</td>\n      <td>Canada</td>\n      <td>North America</td>\n      <td>7.5525</td>\n      <td>5.882</td>\n      <td>1.4755</td>\n      <td>5.10450</td>\n      <td>6.0155</td>\n      <td>7.755667</td>\n      <td>5.3440</td>\n      <td>5.67475</td>\n      <td>5.8405</td>\n      <td>7.2745</td>\n      <td>4.9025</td>\n      <td>4.6880</td>\n      <td>43258.26387</td>\n      <td>better</td>\n    </tr>\n    <tr>\n      <th>224</th>\n      <td>Wroclaw</td>\n      <td>Poland</td>\n      <td>Europe</td>\n      <td>8.4520</td>\n      <td>8.434</td>\n      <td>2.2445</td>\n      <td>4.95475</td>\n      <td>8.1655</td>\n      <td>6.781333</td>\n      <td>4.1615</td>\n      <td>4.96475</td>\n      <td>4.7615</td>\n      <td>5.0970</td>\n      <td>5.7615</td>\n      <td>4.7495</td>\n      <td>15742.45373</td>\n      <td>worse</td>\n    </tr>\n    <tr>\n      <th>225</th>\n      <td>Zagreb</td>\n      <td>Croatia</td>\n      <td>Europe</td>\n      <td>8.9100</td>\n      <td>7.194</td>\n      <td>2.0280</td>\n      <td>4.83000</td>\n      <td>8.6575</td>\n      <td>7.266000</td>\n      <td>3.2110</td>\n      <td>7.33150</td>\n      <td>2.2365</td>\n      <td>7.9935</td>\n      <td>5.0335</td>\n      <td>4.9945</td>\n      <td>14132.48656</td>\n      <td>worse</td>\n    </tr>\n    <tr>\n      <th>226</th>\n      <td>Zurich</td>\n      <td>Switzerland</td>\n      <td>Europe</td>\n      <td>1.4730</td>\n      <td>1.000</td>\n      <td>7.7335</td>\n      <td>5.83950</td>\n      <td>9.0665</td>\n      <td>7.670333</td>\n      <td>7.2875</td>\n      <td>8.64300</td>\n      <td>6.5520</td>\n      <td>6.4285</td>\n      <td>7.2675</td>\n      <td>4.9655</td>\n      <td>87100.41482</td>\n      <td>better</td>\n    </tr>\n  </tbody>\n</table>\n<p>227 rows × 17 columns</p>\n</div>"
     },
     "execution_count": 158,
     "metadata": {},
     "output_type": "execute_result"
    }
   ],
   "source": [
    "split_point = ratings_with_gdp.GDP.quantile()\n",
    "\n",
    "def classify_based_on_gdp(x: float):\n",
    "    if split_point <= x:\n",
    "        return 'better'\n",
    "    return 'worse'\n",
    "\n",
    "ratings_with_gdp['Label'] = ratings_with_gdp['GDP'].map(classify_based_on_gdp)\n",
    "ratings_with_gdp"
   ],
   "metadata": {
    "collapsed": false,
    "pycharm": {
     "name": "#%%\n"
    }
   }
  },
  {
   "cell_type": "code",
   "execution_count": 159,
   "outputs": [
    {
     "data": {
      "text/plain": "worse     142\nbetter     85\nName: Label, dtype: int64"
     },
     "execution_count": 159,
     "metadata": {},
     "output_type": "execute_result"
    }
   ],
   "source": [
    "ratings_with_gdp['Label'].value_counts()"
   ],
   "metadata": {
    "collapsed": false,
    "pycharm": {
     "name": "#%%\n"
    }
   }
  },
  {
   "cell_type": "code",
   "execution_count": 160,
   "outputs": [],
   "source": [
    "ratings_with_gdp.drop(labels='GDP', axis=1, inplace=True)\n",
    "ratings_with_gdp.to_csv('Data/ratingsWithGDPClasses.csv')"
   ],
   "metadata": {
    "collapsed": false,
    "pycharm": {
     "name": "#%%\n"
    }
   }
  }
 ],
 "metadata": {
  "kernelspec": {
   "display_name": "Python 3",
   "language": "python",
   "name": "python3"
  },
  "language_info": {
   "codemirror_mode": {
    "name": "ipython",
    "version": 2
   },
   "file_extension": ".py",
   "mimetype": "text/x-python",
   "name": "python",
   "nbconvert_exporter": "python",
   "pygments_lexer": "ipython2",
   "version": "2.7.6"
  }
 },
 "nbformat": 4,
 "nbformat_minor": 0
}