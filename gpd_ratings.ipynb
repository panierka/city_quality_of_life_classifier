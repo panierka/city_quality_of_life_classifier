{
 "cells": [
  {
   "cell_type": "code",
   "execution_count": 117,
   "outputs": [],
   "source": [
    "import pandas as pd\n",
    "from IPython.display import display, HTML"
   ],
   "metadata": {
    "collapsed": false,
    "pycharm": {
     "name": "#%%\n"
    }
   }
  },
  {
   "cell_type": "code",
   "execution_count": 118,
   "outputs": [
    {
     "data": {
      "text/plain": "                    Country Name Country Code                Indicator Name  \\\n0                          Aruba          ABW  GDP per capita (current US$)   \n1    Africa Eastern and Southern          AFE  GDP per capita (current US$)   \n2                    Afghanistan          AFG  GDP per capita (current US$)   \n3     Africa Western and Central          AFW  GDP per capita (current US$)   \n4                         Angola          AGO  GDP per capita (current US$)   \n..                           ...          ...                           ...   \n261                       Kosovo          XKX  GDP per capita (current US$)   \n262                  Yemen, Rep.          YEM  GDP per capita (current US$)   \n263                 South Africa          ZAF  GDP per capita (current US$)   \n264                       Zambia          ZMB  GDP per capita (current US$)   \n265                     Zimbabwe          ZWE  GDP per capita (current US$)   \n\n     Indicator Code         1960         1961         1962         1963  \\\n0    NY.GDP.PCAP.CD          NaN          NaN          NaN          NaN   \n1    NY.GDP.PCAP.CD  153,4944391  152,8733129  162,4131876  189,5061698   \n2    NY.GDP.PCAP.CD   59,7732337  59,86089999   58,4580087  78,70642878   \n3    NY.GDP.PCAP.CD  107,9322333  113,0816466  118,8311067   123,442888   \n4    NY.GDP.PCAP.CD          NaN          NaN          NaN          NaN   \n..              ...          ...          ...          ...          ...   \n261  NY.GDP.PCAP.CD          NaN          NaN          NaN          NaN   \n262  NY.GDP.PCAP.CD          NaN          NaN          NaN          NaN   \n263  NY.GDP.PCAP.CD  443,0099197  454,9620132  473,0114048  511,4973636   \n264  NY.GDP.PCAP.CD  232,1885645  220,0420671  212,5784491  213,8967589   \n265  NY.GDP.PCAP.CD  278,8138468  280,8286629  276,6882328  277,4797151   \n\n            1964         1965  ...         2012         2013         2014  \\\n0            NaN          NaN  ...  24712,49326  26441,61994  26893,01151   \n1    168,8169946  187,3963064  ...   1736,16656  1713,899299  1703,596298   \n2    82,09530653  101,1083252  ...  638,8458516  624,3154545  614,2233424   \n3    131,8544019  138,5263324  ...  1965,118485  2157,481149  2212,853135   \n4            NaN          NaN  ...  5100,097027  5254,881126    5408,4117   \n..           ...          ...  ...          ...          ...          ...   \n261          NaN          NaN  ...   3410,85978  3704,784221  3902,676013   \n262          NaN          NaN  ...  1446,536472  1607,152173  1674,002572   \n263  548,9960578  584,7041627  ...  8222,197279  7467,079185  6988,808739   \n264  242,3844725  303,2817405  ...  1763,069442  1878,346811  1762,427817   \n265   281,558896   293,308788  ...  1304,968011  1429,998461  1434,896277   \n\n            2015         2016         2017         2018         2019  \\\n0    28396,90842  28452,17061  29350,80502  30253,27936          NaN   \n1     1549,03794  1431,778723  1573,063386  1574,978648  1530,059177   \n2    556,0072209  512,0127781  516,6798622  485,6684187  494,1793499   \n3    1894,310195  1673,835527  1613,473553  1704,139603  1777,918672   \n4    4166,979833  3506,073128  4095,810057  3289,643995  2809,626088   \n..           ...          ...          ...          ...          ...   \n261  3520,766449  3759,560246  4009,380987  4384,048892  4416,108358   \n262  1601,830063  1152,720966  964,2648105  758,1452416          NaN   \n263  6259,839681  5756,965741  6690,939847  7005,095413  6624,761865   \n264  1338,290927  1280,806543  1535,196574  1516,368371  1305,001031   \n265  1445,069702  1464,588957  1235,189032  1254,642265  1316,740657   \n\n            2020 2021  \n0            NaN  NaN  \n1    1359,618224  NaN  \n2    516,7478708  NaN  \n3    1710,073363  NaN  \n4    1776,166868  NaN  \n..           ...  ...  \n261  4310,811183  NaN  \n262          NaN  NaN  \n263  5655,867654  NaN  \n264   985,132436  NaN  \n265   1214,50982  NaN  \n\n[266 rows x 66 columns]",
      "text/html": "<div>\n<style scoped>\n    .dataframe tbody tr th:only-of-type {\n        vertical-align: middle;\n    }\n\n    .dataframe tbody tr th {\n        vertical-align: top;\n    }\n\n    .dataframe thead th {\n        text-align: right;\n    }\n</style>\n<table border=\"1\" class=\"dataframe\">\n  <thead>\n    <tr style=\"text-align: right;\">\n      <th></th>\n      <th>Country Name</th>\n      <th>Country Code</th>\n      <th>Indicator Name</th>\n      <th>Indicator Code</th>\n      <th>1960</th>\n      <th>1961</th>\n      <th>1962</th>\n      <th>1963</th>\n      <th>1964</th>\n      <th>1965</th>\n      <th>...</th>\n      <th>2012</th>\n      <th>2013</th>\n      <th>2014</th>\n      <th>2015</th>\n      <th>2016</th>\n      <th>2017</th>\n      <th>2018</th>\n      <th>2019</th>\n      <th>2020</th>\n      <th>2021</th>\n    </tr>\n  </thead>\n  <tbody>\n    <tr>\n      <th>0</th>\n      <td>Aruba</td>\n      <td>ABW</td>\n      <td>GDP per capita (current US$)</td>\n      <td>NY.GDP.PCAP.CD</td>\n      <td>NaN</td>\n      <td>NaN</td>\n      <td>NaN</td>\n      <td>NaN</td>\n      <td>NaN</td>\n      <td>NaN</td>\n      <td>...</td>\n      <td>24712,49326</td>\n      <td>26441,61994</td>\n      <td>26893,01151</td>\n      <td>28396,90842</td>\n      <td>28452,17061</td>\n      <td>29350,80502</td>\n      <td>30253,27936</td>\n      <td>NaN</td>\n      <td>NaN</td>\n      <td>NaN</td>\n    </tr>\n    <tr>\n      <th>1</th>\n      <td>Africa Eastern and Southern</td>\n      <td>AFE</td>\n      <td>GDP per capita (current US$)</td>\n      <td>NY.GDP.PCAP.CD</td>\n      <td>153,4944391</td>\n      <td>152,8733129</td>\n      <td>162,4131876</td>\n      <td>189,5061698</td>\n      <td>168,8169946</td>\n      <td>187,3963064</td>\n      <td>...</td>\n      <td>1736,16656</td>\n      <td>1713,899299</td>\n      <td>1703,596298</td>\n      <td>1549,03794</td>\n      <td>1431,778723</td>\n      <td>1573,063386</td>\n      <td>1574,978648</td>\n      <td>1530,059177</td>\n      <td>1359,618224</td>\n      <td>NaN</td>\n    </tr>\n    <tr>\n      <th>2</th>\n      <td>Afghanistan</td>\n      <td>AFG</td>\n      <td>GDP per capita (current US$)</td>\n      <td>NY.GDP.PCAP.CD</td>\n      <td>59,7732337</td>\n      <td>59,86089999</td>\n      <td>58,4580087</td>\n      <td>78,70642878</td>\n      <td>82,09530653</td>\n      <td>101,1083252</td>\n      <td>...</td>\n      <td>638,8458516</td>\n      <td>624,3154545</td>\n      <td>614,2233424</td>\n      <td>556,0072209</td>\n      <td>512,0127781</td>\n      <td>516,6798622</td>\n      <td>485,6684187</td>\n      <td>494,1793499</td>\n      <td>516,7478708</td>\n      <td>NaN</td>\n    </tr>\n    <tr>\n      <th>3</th>\n      <td>Africa Western and Central</td>\n      <td>AFW</td>\n      <td>GDP per capita (current US$)</td>\n      <td>NY.GDP.PCAP.CD</td>\n      <td>107,9322333</td>\n      <td>113,0816466</td>\n      <td>118,8311067</td>\n      <td>123,442888</td>\n      <td>131,8544019</td>\n      <td>138,5263324</td>\n      <td>...</td>\n      <td>1965,118485</td>\n      <td>2157,481149</td>\n      <td>2212,853135</td>\n      <td>1894,310195</td>\n      <td>1673,835527</td>\n      <td>1613,473553</td>\n      <td>1704,139603</td>\n      <td>1777,918672</td>\n      <td>1710,073363</td>\n      <td>NaN</td>\n    </tr>\n    <tr>\n      <th>4</th>\n      <td>Angola</td>\n      <td>AGO</td>\n      <td>GDP per capita (current US$)</td>\n      <td>NY.GDP.PCAP.CD</td>\n      <td>NaN</td>\n      <td>NaN</td>\n      <td>NaN</td>\n      <td>NaN</td>\n      <td>NaN</td>\n      <td>NaN</td>\n      <td>...</td>\n      <td>5100,097027</td>\n      <td>5254,881126</td>\n      <td>5408,4117</td>\n      <td>4166,979833</td>\n      <td>3506,073128</td>\n      <td>4095,810057</td>\n      <td>3289,643995</td>\n      <td>2809,626088</td>\n      <td>1776,166868</td>\n      <td>NaN</td>\n    </tr>\n    <tr>\n      <th>...</th>\n      <td>...</td>\n      <td>...</td>\n      <td>...</td>\n      <td>...</td>\n      <td>...</td>\n      <td>...</td>\n      <td>...</td>\n      <td>...</td>\n      <td>...</td>\n      <td>...</td>\n      <td>...</td>\n      <td>...</td>\n      <td>...</td>\n      <td>...</td>\n      <td>...</td>\n      <td>...</td>\n      <td>...</td>\n      <td>...</td>\n      <td>...</td>\n      <td>...</td>\n      <td>...</td>\n    </tr>\n    <tr>\n      <th>261</th>\n      <td>Kosovo</td>\n      <td>XKX</td>\n      <td>GDP per capita (current US$)</td>\n      <td>NY.GDP.PCAP.CD</td>\n      <td>NaN</td>\n      <td>NaN</td>\n      <td>NaN</td>\n      <td>NaN</td>\n      <td>NaN</td>\n      <td>NaN</td>\n      <td>...</td>\n      <td>3410,85978</td>\n      <td>3704,784221</td>\n      <td>3902,676013</td>\n      <td>3520,766449</td>\n      <td>3759,560246</td>\n      <td>4009,380987</td>\n      <td>4384,048892</td>\n      <td>4416,108358</td>\n      <td>4310,811183</td>\n      <td>NaN</td>\n    </tr>\n    <tr>\n      <th>262</th>\n      <td>Yemen, Rep.</td>\n      <td>YEM</td>\n      <td>GDP per capita (current US$)</td>\n      <td>NY.GDP.PCAP.CD</td>\n      <td>NaN</td>\n      <td>NaN</td>\n      <td>NaN</td>\n      <td>NaN</td>\n      <td>NaN</td>\n      <td>NaN</td>\n      <td>...</td>\n      <td>1446,536472</td>\n      <td>1607,152173</td>\n      <td>1674,002572</td>\n      <td>1601,830063</td>\n      <td>1152,720966</td>\n      <td>964,2648105</td>\n      <td>758,1452416</td>\n      <td>NaN</td>\n      <td>NaN</td>\n      <td>NaN</td>\n    </tr>\n    <tr>\n      <th>263</th>\n      <td>South Africa</td>\n      <td>ZAF</td>\n      <td>GDP per capita (current US$)</td>\n      <td>NY.GDP.PCAP.CD</td>\n      <td>443,0099197</td>\n      <td>454,9620132</td>\n      <td>473,0114048</td>\n      <td>511,4973636</td>\n      <td>548,9960578</td>\n      <td>584,7041627</td>\n      <td>...</td>\n      <td>8222,197279</td>\n      <td>7467,079185</td>\n      <td>6988,808739</td>\n      <td>6259,839681</td>\n      <td>5756,965741</td>\n      <td>6690,939847</td>\n      <td>7005,095413</td>\n      <td>6624,761865</td>\n      <td>5655,867654</td>\n      <td>NaN</td>\n    </tr>\n    <tr>\n      <th>264</th>\n      <td>Zambia</td>\n      <td>ZMB</td>\n      <td>GDP per capita (current US$)</td>\n      <td>NY.GDP.PCAP.CD</td>\n      <td>232,1885645</td>\n      <td>220,0420671</td>\n      <td>212,5784491</td>\n      <td>213,8967589</td>\n      <td>242,3844725</td>\n      <td>303,2817405</td>\n      <td>...</td>\n      <td>1763,069442</td>\n      <td>1878,346811</td>\n      <td>1762,427817</td>\n      <td>1338,290927</td>\n      <td>1280,806543</td>\n      <td>1535,196574</td>\n      <td>1516,368371</td>\n      <td>1305,001031</td>\n      <td>985,132436</td>\n      <td>NaN</td>\n    </tr>\n    <tr>\n      <th>265</th>\n      <td>Zimbabwe</td>\n      <td>ZWE</td>\n      <td>GDP per capita (current US$)</td>\n      <td>NY.GDP.PCAP.CD</td>\n      <td>278,8138468</td>\n      <td>280,8286629</td>\n      <td>276,6882328</td>\n      <td>277,4797151</td>\n      <td>281,558896</td>\n      <td>293,308788</td>\n      <td>...</td>\n      <td>1304,968011</td>\n      <td>1429,998461</td>\n      <td>1434,896277</td>\n      <td>1445,069702</td>\n      <td>1464,588957</td>\n      <td>1235,189032</td>\n      <td>1254,642265</td>\n      <td>1316,740657</td>\n      <td>1214,50982</td>\n      <td>NaN</td>\n    </tr>\n  </tbody>\n</table>\n<p>266 rows × 66 columns</p>\n</div>"
     },
     "metadata": {},
     "output_type": "display_data"
    }
   ],
   "source": [
    "gdp = pd.read_csv('Data/gdpData.csv', header=0, sep=';')\n",
    "ratings = pd.read_csv('Data/uaScoresDataFrame.csv', index_col=0)\n",
    "display(gdp)"
   ],
   "metadata": {
    "collapsed": false,
    "pycharm": {
     "name": "#%%\n"
    }
   }
  },
  {
   "cell_type": "code",
   "execution_count": 119,
   "outputs": [
    {
     "name": "stdout",
     "output_type": "stream",
     "text": [
      "['GDP per capita (current US$)']\n",
      "['NY.GDP.PCAP.CD']\n"
     ]
    }
   ],
   "source": [
    "print(gdp['Indicator Name'].unique())\n",
    "print(gdp['Indicator Code'].unique())"
   ],
   "metadata": {
    "collapsed": false,
    "pycharm": {
     "name": "#%%\n"
    }
   }
  },
  {
   "cell_type": "code",
   "execution_count": 120,
   "outputs": [],
   "source": [
    "gdp = gdp.drop(labels=['Indicator Name', 'Indicator Code'], axis=1)"
   ],
   "metadata": {
    "collapsed": false,
    "pycharm": {
     "name": "#%%\n"
    }
   }
  },
  {
   "cell_type": "code",
   "execution_count": 121,
   "outputs": [],
   "source": [
    "ratings['UA_Country'] = ratings['UA_Country'].str.strip()\n",
    "relevant_countries = ratings['UA_Country'].unique()\n",
    "gdp = gdp[gdp['Country Name'].isin(relevant_countries)].reset_index(drop=True)"
   ],
   "metadata": {
    "collapsed": false,
    "pycharm": {
     "name": "#%%\n"
    }
   }
  },
  {
   "cell_type": "code",
   "execution_count": 122,
   "outputs": [
    {
     "data": {
      "text/plain": "            Country Name Country Code         1960         1961         1962  \\\n0                Andorra          AND          NaN          NaN          NaN   \n1   United Arab Emirates          ARE          NaN          NaN          NaN   \n2              Argentina          ARG          NaN          NaN  1155,890717   \n3                Armenia          ARM          NaN          NaN          NaN   \n4              Australia          AUS   1810,61923  1877,616638  1854,656834   \n..                   ...          ...          ...          ...          ...   \n82               Ukraine          UKR          NaN          NaN          NaN   \n83               Uruguay          URY   489,350725  601,7030027  656,7132268   \n84            Uzbekistan          UZB          NaN          NaN          NaN   \n85               Vietnam          VNM          NaN          NaN          NaN   \n86          South Africa          ZAF  443,0099197  454,9620132  473,0114048   \n\n           1963         1964         1965         1966         1967  ...  \\\n0           NaN          NaN          NaN          NaN          NaN  ...   \n1           NaN          NaN          NaN          NaN          NaN  ...   \n2   850,3045786  1173,238105  1279,113778  1272,803204  1062,543412  ...   \n3           NaN          NaN          NaN          NaN          NaN  ...   \n4   1967,116537  2131,377948  2281,098797   2343,99529  2580,271096  ...   \n..          ...          ...          ...          ...          ...  ...   \n82          NaN          NaN          NaN          NaN          NaN  ...   \n83  584,2916335   741,244998  701,7047182  664,4398411  580,9702588  ...   \n84          NaN          NaN          NaN          NaN          NaN  ...   \n85          NaN          NaN          NaN          NaN          NaN  ...   \n86  511,4973636  548,9960578  584,7041627  621,2205434  675,1353451  ...   \n\n           2012         2013         2014         2015         2016  \\\n0   38686,46126  39540,72481  41303,92937   35770,7767  37475,63506   \n1   40976,49075   42412,6395  43751,80565   38663,4005  38141,86713   \n2   13082,66433  13080,25473  12334,79825  13789,06042  12790,24247   \n3   3681,844691   3838,17388  3986,231624  3607,289299  3591,828052   \n4   68027,84171  68156,62792  62511,69059  56707,02208  49881,76371   \n..          ...          ...          ...          ...          ...   \n82  4004,804396  4187,739845  3104,643206  2124,662319   2187,73051   \n83  15171,58017  16973,68924  16831,94819  15613,74597  16715,63347   \n84  2267,623275  2419,718703  2628,460008  2753,971072  2704,677188   \n85  1735,152116   1886,69017  2030,278447  2085,101349  2192,174482   \n86  8222,197279  7467,079185  6988,808739  6259,839681  5756,965741   \n\n           2017         2018         2019         2020 2021  \n0   38964,90448  41791,96984  40897,33087          NaN  NaN  \n1   40644,79119  43839,32449  42701,44305  36284,55524  NaN  \n2   14613,04182  11795,15939  10056,63794  8579,017773  NaN  \n3   3914,527854  4220,540321  4604,646324  4266,018074  NaN  \n4   53934,25018   57180,7794  54875,28596  51680,31652  NaN  \n..          ...          ...          ...          ...  ...  \n82  2638,326055  3096,561697  3661,456204  3724,938437  NaN  \n83  18690,89384  18703,86029  17688,01501  15438,41167  NaN  \n84  1916,764642  1597,068337  1784,009816  1750,697113  NaN  \n85  2365,521615  2566,447487   2715,27598  2785,724161  NaN  \n86  6690,939847  7005,095413  6624,761865  5655,867654  NaN  \n\n[87 rows x 64 columns]",
      "text/html": "<div>\n<style scoped>\n    .dataframe tbody tr th:only-of-type {\n        vertical-align: middle;\n    }\n\n    .dataframe tbody tr th {\n        vertical-align: top;\n    }\n\n    .dataframe thead th {\n        text-align: right;\n    }\n</style>\n<table border=\"1\" class=\"dataframe\">\n  <thead>\n    <tr style=\"text-align: right;\">\n      <th></th>\n      <th>Country Name</th>\n      <th>Country Code</th>\n      <th>1960</th>\n      <th>1961</th>\n      <th>1962</th>\n      <th>1963</th>\n      <th>1964</th>\n      <th>1965</th>\n      <th>1966</th>\n      <th>1967</th>\n      <th>...</th>\n      <th>2012</th>\n      <th>2013</th>\n      <th>2014</th>\n      <th>2015</th>\n      <th>2016</th>\n      <th>2017</th>\n      <th>2018</th>\n      <th>2019</th>\n      <th>2020</th>\n      <th>2021</th>\n    </tr>\n  </thead>\n  <tbody>\n    <tr>\n      <th>0</th>\n      <td>Andorra</td>\n      <td>AND</td>\n      <td>NaN</td>\n      <td>NaN</td>\n      <td>NaN</td>\n      <td>NaN</td>\n      <td>NaN</td>\n      <td>NaN</td>\n      <td>NaN</td>\n      <td>NaN</td>\n      <td>...</td>\n      <td>38686,46126</td>\n      <td>39540,72481</td>\n      <td>41303,92937</td>\n      <td>35770,7767</td>\n      <td>37475,63506</td>\n      <td>38964,90448</td>\n      <td>41791,96984</td>\n      <td>40897,33087</td>\n      <td>NaN</td>\n      <td>NaN</td>\n    </tr>\n    <tr>\n      <th>1</th>\n      <td>United Arab Emirates</td>\n      <td>ARE</td>\n      <td>NaN</td>\n      <td>NaN</td>\n      <td>NaN</td>\n      <td>NaN</td>\n      <td>NaN</td>\n      <td>NaN</td>\n      <td>NaN</td>\n      <td>NaN</td>\n      <td>...</td>\n      <td>40976,49075</td>\n      <td>42412,6395</td>\n      <td>43751,80565</td>\n      <td>38663,4005</td>\n      <td>38141,86713</td>\n      <td>40644,79119</td>\n      <td>43839,32449</td>\n      <td>42701,44305</td>\n      <td>36284,55524</td>\n      <td>NaN</td>\n    </tr>\n    <tr>\n      <th>2</th>\n      <td>Argentina</td>\n      <td>ARG</td>\n      <td>NaN</td>\n      <td>NaN</td>\n      <td>1155,890717</td>\n      <td>850,3045786</td>\n      <td>1173,238105</td>\n      <td>1279,113778</td>\n      <td>1272,803204</td>\n      <td>1062,543412</td>\n      <td>...</td>\n      <td>13082,66433</td>\n      <td>13080,25473</td>\n      <td>12334,79825</td>\n      <td>13789,06042</td>\n      <td>12790,24247</td>\n      <td>14613,04182</td>\n      <td>11795,15939</td>\n      <td>10056,63794</td>\n      <td>8579,017773</td>\n      <td>NaN</td>\n    </tr>\n    <tr>\n      <th>3</th>\n      <td>Armenia</td>\n      <td>ARM</td>\n      <td>NaN</td>\n      <td>NaN</td>\n      <td>NaN</td>\n      <td>NaN</td>\n      <td>NaN</td>\n      <td>NaN</td>\n      <td>NaN</td>\n      <td>NaN</td>\n      <td>...</td>\n      <td>3681,844691</td>\n      <td>3838,17388</td>\n      <td>3986,231624</td>\n      <td>3607,289299</td>\n      <td>3591,828052</td>\n      <td>3914,527854</td>\n      <td>4220,540321</td>\n      <td>4604,646324</td>\n      <td>4266,018074</td>\n      <td>NaN</td>\n    </tr>\n    <tr>\n      <th>4</th>\n      <td>Australia</td>\n      <td>AUS</td>\n      <td>1810,61923</td>\n      <td>1877,616638</td>\n      <td>1854,656834</td>\n      <td>1967,116537</td>\n      <td>2131,377948</td>\n      <td>2281,098797</td>\n      <td>2343,99529</td>\n      <td>2580,271096</td>\n      <td>...</td>\n      <td>68027,84171</td>\n      <td>68156,62792</td>\n      <td>62511,69059</td>\n      <td>56707,02208</td>\n      <td>49881,76371</td>\n      <td>53934,25018</td>\n      <td>57180,7794</td>\n      <td>54875,28596</td>\n      <td>51680,31652</td>\n      <td>NaN</td>\n    </tr>\n    <tr>\n      <th>...</th>\n      <td>...</td>\n      <td>...</td>\n      <td>...</td>\n      <td>...</td>\n      <td>...</td>\n      <td>...</td>\n      <td>...</td>\n      <td>...</td>\n      <td>...</td>\n      <td>...</td>\n      <td>...</td>\n      <td>...</td>\n      <td>...</td>\n      <td>...</td>\n      <td>...</td>\n      <td>...</td>\n      <td>...</td>\n      <td>...</td>\n      <td>...</td>\n      <td>...</td>\n      <td>...</td>\n    </tr>\n    <tr>\n      <th>82</th>\n      <td>Ukraine</td>\n      <td>UKR</td>\n      <td>NaN</td>\n      <td>NaN</td>\n      <td>NaN</td>\n      <td>NaN</td>\n      <td>NaN</td>\n      <td>NaN</td>\n      <td>NaN</td>\n      <td>NaN</td>\n      <td>...</td>\n      <td>4004,804396</td>\n      <td>4187,739845</td>\n      <td>3104,643206</td>\n      <td>2124,662319</td>\n      <td>2187,73051</td>\n      <td>2638,326055</td>\n      <td>3096,561697</td>\n      <td>3661,456204</td>\n      <td>3724,938437</td>\n      <td>NaN</td>\n    </tr>\n    <tr>\n      <th>83</th>\n      <td>Uruguay</td>\n      <td>URY</td>\n      <td>489,350725</td>\n      <td>601,7030027</td>\n      <td>656,7132268</td>\n      <td>584,2916335</td>\n      <td>741,244998</td>\n      <td>701,7047182</td>\n      <td>664,4398411</td>\n      <td>580,9702588</td>\n      <td>...</td>\n      <td>15171,58017</td>\n      <td>16973,68924</td>\n      <td>16831,94819</td>\n      <td>15613,74597</td>\n      <td>16715,63347</td>\n      <td>18690,89384</td>\n      <td>18703,86029</td>\n      <td>17688,01501</td>\n      <td>15438,41167</td>\n      <td>NaN</td>\n    </tr>\n    <tr>\n      <th>84</th>\n      <td>Uzbekistan</td>\n      <td>UZB</td>\n      <td>NaN</td>\n      <td>NaN</td>\n      <td>NaN</td>\n      <td>NaN</td>\n      <td>NaN</td>\n      <td>NaN</td>\n      <td>NaN</td>\n      <td>NaN</td>\n      <td>...</td>\n      <td>2267,623275</td>\n      <td>2419,718703</td>\n      <td>2628,460008</td>\n      <td>2753,971072</td>\n      <td>2704,677188</td>\n      <td>1916,764642</td>\n      <td>1597,068337</td>\n      <td>1784,009816</td>\n      <td>1750,697113</td>\n      <td>NaN</td>\n    </tr>\n    <tr>\n      <th>85</th>\n      <td>Vietnam</td>\n      <td>VNM</td>\n      <td>NaN</td>\n      <td>NaN</td>\n      <td>NaN</td>\n      <td>NaN</td>\n      <td>NaN</td>\n      <td>NaN</td>\n      <td>NaN</td>\n      <td>NaN</td>\n      <td>...</td>\n      <td>1735,152116</td>\n      <td>1886,69017</td>\n      <td>2030,278447</td>\n      <td>2085,101349</td>\n      <td>2192,174482</td>\n      <td>2365,521615</td>\n      <td>2566,447487</td>\n      <td>2715,27598</td>\n      <td>2785,724161</td>\n      <td>NaN</td>\n    </tr>\n    <tr>\n      <th>86</th>\n      <td>South Africa</td>\n      <td>ZAF</td>\n      <td>443,0099197</td>\n      <td>454,9620132</td>\n      <td>473,0114048</td>\n      <td>511,4973636</td>\n      <td>548,9960578</td>\n      <td>584,7041627</td>\n      <td>621,2205434</td>\n      <td>675,1353451</td>\n      <td>...</td>\n      <td>8222,197279</td>\n      <td>7467,079185</td>\n      <td>6988,808739</td>\n      <td>6259,839681</td>\n      <td>5756,965741</td>\n      <td>6690,939847</td>\n      <td>7005,095413</td>\n      <td>6624,761865</td>\n      <td>5655,867654</td>\n      <td>NaN</td>\n    </tr>\n  </tbody>\n</table>\n<p>87 rows × 64 columns</p>\n</div>"
     },
     "metadata": {},
     "output_type": "display_data"
    }
   ],
   "source": [
    "display(gdp)"
   ],
   "metadata": {
    "collapsed": false,
    "pycharm": {
     "name": "#%%\n"
    }
   }
  },
  {
   "cell_type": "code",
   "execution_count": 123,
   "outputs": [
    {
     "data": {
      "text/plain": "'2019'"
     },
     "execution_count": 123,
     "metadata": {},
     "output_type": "execute_result"
    }
   ],
   "source": [
    "gdp.loc[:, '1960':'2021'].isna().sum(0)[::-1].idxmin()"
   ],
   "metadata": {
    "collapsed": false,
    "pycharm": {
     "name": "#%%\n"
    }
   }
  },
  {
   "cell_type": "code",
   "execution_count": 124,
   "outputs": [
    {
     "data": {
      "text/plain": "32    Gibraltar\nName: Country Name, dtype: object"
     },
     "execution_count": 124,
     "metadata": {},
     "output_type": "execute_result"
    }
   ],
   "source": [
    "gdp[gdp.loc[:, '2019'].isna()]['Country Name']"
   ],
   "metadata": {
    "collapsed": false,
    "pycharm": {
     "name": "#%%\n"
    }
   }
  },
  {
   "cell_type": "code",
   "execution_count": 125,
   "outputs": [
    {
     "data": {
      "text/plain": "              UA_Country          GDP\n0                Andorra  40897,33087\n1   United Arab Emirates  42701,44305\n2              Argentina  10056,63794\n3                Armenia  4604,646324\n4              Australia  54875,28596\n..                   ...          ...\n82               Ukraine  3661,456204\n83               Uruguay  17688,01501\n84            Uzbekistan  1784,009816\n85               Vietnam   2715,27598\n86          South Africa  6624,761865\n\n[87 rows x 2 columns]",
      "text/html": "<div>\n<style scoped>\n    .dataframe tbody tr th:only-of-type {\n        vertical-align: middle;\n    }\n\n    .dataframe tbody tr th {\n        vertical-align: top;\n    }\n\n    .dataframe thead th {\n        text-align: right;\n    }\n</style>\n<table border=\"1\" class=\"dataframe\">\n  <thead>\n    <tr style=\"text-align: right;\">\n      <th></th>\n      <th>UA_Country</th>\n      <th>GDP</th>\n    </tr>\n  </thead>\n  <tbody>\n    <tr>\n      <th>0</th>\n      <td>Andorra</td>\n      <td>40897,33087</td>\n    </tr>\n    <tr>\n      <th>1</th>\n      <td>United Arab Emirates</td>\n      <td>42701,44305</td>\n    </tr>\n    <tr>\n      <th>2</th>\n      <td>Argentina</td>\n      <td>10056,63794</td>\n    </tr>\n    <tr>\n      <th>3</th>\n      <td>Armenia</td>\n      <td>4604,646324</td>\n    </tr>\n    <tr>\n      <th>4</th>\n      <td>Australia</td>\n      <td>54875,28596</td>\n    </tr>\n    <tr>\n      <th>...</th>\n      <td>...</td>\n      <td>...</td>\n    </tr>\n    <tr>\n      <th>82</th>\n      <td>Ukraine</td>\n      <td>3661,456204</td>\n    </tr>\n    <tr>\n      <th>83</th>\n      <td>Uruguay</td>\n      <td>17688,01501</td>\n    </tr>\n    <tr>\n      <th>84</th>\n      <td>Uzbekistan</td>\n      <td>1784,009816</td>\n    </tr>\n    <tr>\n      <th>85</th>\n      <td>Vietnam</td>\n      <td>2715,27598</td>\n    </tr>\n    <tr>\n      <th>86</th>\n      <td>South Africa</td>\n      <td>6624,761865</td>\n    </tr>\n  </tbody>\n</table>\n<p>87 rows × 2 columns</p>\n</div>"
     },
     "metadata": {},
     "output_type": "display_data"
    }
   ],
   "source": [
    "gdp_addon = pd.DataFrame(data={\n",
    "    'UA_Country': gdp['Country Name'],\n",
    "    'GDP': gdp['2019']\n",
    "})\n",
    "gdp_addon.loc[32, 'GDP'] = 92843\n",
    "display(gdp_addon)"
   ],
   "metadata": {
    "collapsed": false,
    "pycharm": {
     "name": "#%%\n"
    }
   }
  },
  {
   "cell_type": "code",
   "execution_count": 126,
   "outputs": [
    {
     "data": {
      "text/plain": "        UA_Name UA_Country UA_Continent  Housing  Cost of Living  Startups  \\\n0        Aarhus    Denmark       Europe   6.1315           4.015    2.8270   \n1    Copenhagen    Denmark       Europe   4.2270           3.426    6.2070   \n2      Adelaide  Australia      Oceania   6.3095           4.692    3.1365   \n3      Brisbane  Australia      Oceania   5.2120           5.177    6.3430   \n4     Melbourne  Australia      Oceania   4.8300           4.798    8.2040   \n..          ...        ...          ...      ...             ...       ...   \n185       Tunis    Tunisia       Africa   9.9680           9.998    2.9690   \n186    Valletta      Malta       Europe   3.1530           0.000    3.9095   \n187     Vilnius  Lithuania       Europe   8.6210           7.576    4.2230   \n188     Yerevan    Armenia         Asia   9.6945           9.431    3.9265   \n189      Zagreb    Croatia       Europe   8.9100           7.194    4.4530   \n\n     Venture Capital  Travel Connectivity  Commute  Business Freedom  ...  \\\n0              2.512               3.5360  6.31175          9.940000  ...   \n1              4.467               6.3000  6.29550          9.940000  ...   \n2              2.640               1.7765  5.33625          9.399667  ...   \n3              3.240               2.4345  4.61775          9.399667  ...   \n4              5.020               2.8465  4.87200          9.399667  ...   \n..               ...                  ...      ...               ...  ...   \n185            0.000               2.6080  5.61450          6.621667  ...   \n186            2.148               1.8890  0.00000          5.377000  ...   \n187            2.828               2.1050  5.92775          7.600333  ...   \n188            0.000               1.7870  5.64925          6.501000  ...   \n189            1.775               2.0280  4.83000          5.720333  ...   \n\n     Healthcare  Education  Environmental Quality  Economy  Taxation  \\\n0      8.704333     5.3665                7.63300   4.8865    5.0680   \n1      7.985333     5.3010                8.27225   4.8865    5.0680   \n2      7.936667     5.1420                8.33075   6.0695    4.5885   \n3      8.317667     5.9210                8.82775   6.0695    4.5885   \n4      8.016000     6.2205                7.89150   6.0695    4.5885   \n..          ...        ...                    ...      ...       ...   \n185    6.292667     0.5000                3.27975   3.0920    2.5990   \n186    8.107000     2.8195                3.77575   5.5395    5.7835   \n187    6.330667     3.7000                8.71775   4.6910    6.5925   \n188    5.102000     0.0000                4.43950   3.4580    8.0550   \n189    7.266000     3.2110                7.33150   2.2365    7.9935   \n\n     Internet Access  Leisure & Culture  Tolerance  Outdoors          GDP  \n0             8.3730             3.1870     9.7385    4.1300   59775,7351  \n1             7.2395             7.0630     9.0955    4.6710   59775,7351  \n2             4.3410             4.3285     7.8220    5.5310  54875,28596  \n3             4.4075             4.0100     7.4895    6.2565  54875,28596  \n4             5.8960             6.4610     7.0005    6.2030  54875,28596  \n..               ...                ...        ...       ...          ...  \n185           1.0725             5.7425     4.7270    5.3655  3574,654024  \n186           3.2015             5.8270     7.5630    4.7170  30186,19596  \n187           7.9265             5.1985     7.3930    4.1060  19575,76848  \n188           3.9000             4.7370     7.3465    7.7765  4604,646324  \n189           5.0335             4.9945     7.9545    4.8090   15311,7669  \n\n[190 rows x 21 columns]",
      "text/html": "<div>\n<style scoped>\n    .dataframe tbody tr th:only-of-type {\n        vertical-align: middle;\n    }\n\n    .dataframe tbody tr th {\n        vertical-align: top;\n    }\n\n    .dataframe thead th {\n        text-align: right;\n    }\n</style>\n<table border=\"1\" class=\"dataframe\">\n  <thead>\n    <tr style=\"text-align: right;\">\n      <th></th>\n      <th>UA_Name</th>\n      <th>UA_Country</th>\n      <th>UA_Continent</th>\n      <th>Housing</th>\n      <th>Cost of Living</th>\n      <th>Startups</th>\n      <th>Venture Capital</th>\n      <th>Travel Connectivity</th>\n      <th>Commute</th>\n      <th>Business Freedom</th>\n      <th>...</th>\n      <th>Healthcare</th>\n      <th>Education</th>\n      <th>Environmental Quality</th>\n      <th>Economy</th>\n      <th>Taxation</th>\n      <th>Internet Access</th>\n      <th>Leisure &amp; Culture</th>\n      <th>Tolerance</th>\n      <th>Outdoors</th>\n      <th>GDP</th>\n    </tr>\n  </thead>\n  <tbody>\n    <tr>\n      <th>0</th>\n      <td>Aarhus</td>\n      <td>Denmark</td>\n      <td>Europe</td>\n      <td>6.1315</td>\n      <td>4.015</td>\n      <td>2.8270</td>\n      <td>2.512</td>\n      <td>3.5360</td>\n      <td>6.31175</td>\n      <td>9.940000</td>\n      <td>...</td>\n      <td>8.704333</td>\n      <td>5.3665</td>\n      <td>7.63300</td>\n      <td>4.8865</td>\n      <td>5.0680</td>\n      <td>8.3730</td>\n      <td>3.1870</td>\n      <td>9.7385</td>\n      <td>4.1300</td>\n      <td>59775,7351</td>\n    </tr>\n    <tr>\n      <th>1</th>\n      <td>Copenhagen</td>\n      <td>Denmark</td>\n      <td>Europe</td>\n      <td>4.2270</td>\n      <td>3.426</td>\n      <td>6.2070</td>\n      <td>4.467</td>\n      <td>6.3000</td>\n      <td>6.29550</td>\n      <td>9.940000</td>\n      <td>...</td>\n      <td>7.985333</td>\n      <td>5.3010</td>\n      <td>8.27225</td>\n      <td>4.8865</td>\n      <td>5.0680</td>\n      <td>7.2395</td>\n      <td>7.0630</td>\n      <td>9.0955</td>\n      <td>4.6710</td>\n      <td>59775,7351</td>\n    </tr>\n    <tr>\n      <th>2</th>\n      <td>Adelaide</td>\n      <td>Australia</td>\n      <td>Oceania</td>\n      <td>6.3095</td>\n      <td>4.692</td>\n      <td>3.1365</td>\n      <td>2.640</td>\n      <td>1.7765</td>\n      <td>5.33625</td>\n      <td>9.399667</td>\n      <td>...</td>\n      <td>7.936667</td>\n      <td>5.1420</td>\n      <td>8.33075</td>\n      <td>6.0695</td>\n      <td>4.5885</td>\n      <td>4.3410</td>\n      <td>4.3285</td>\n      <td>7.8220</td>\n      <td>5.5310</td>\n      <td>54875,28596</td>\n    </tr>\n    <tr>\n      <th>3</th>\n      <td>Brisbane</td>\n      <td>Australia</td>\n      <td>Oceania</td>\n      <td>5.2120</td>\n      <td>5.177</td>\n      <td>6.3430</td>\n      <td>3.240</td>\n      <td>2.4345</td>\n      <td>4.61775</td>\n      <td>9.399667</td>\n      <td>...</td>\n      <td>8.317667</td>\n      <td>5.9210</td>\n      <td>8.82775</td>\n      <td>6.0695</td>\n      <td>4.5885</td>\n      <td>4.4075</td>\n      <td>4.0100</td>\n      <td>7.4895</td>\n      <td>6.2565</td>\n      <td>54875,28596</td>\n    </tr>\n    <tr>\n      <th>4</th>\n      <td>Melbourne</td>\n      <td>Australia</td>\n      <td>Oceania</td>\n      <td>4.8300</td>\n      <td>4.798</td>\n      <td>8.2040</td>\n      <td>5.020</td>\n      <td>2.8465</td>\n      <td>4.87200</td>\n      <td>9.399667</td>\n      <td>...</td>\n      <td>8.016000</td>\n      <td>6.2205</td>\n      <td>7.89150</td>\n      <td>6.0695</td>\n      <td>4.5885</td>\n      <td>5.8960</td>\n      <td>6.4610</td>\n      <td>7.0005</td>\n      <td>6.2030</td>\n      <td>54875,28596</td>\n    </tr>\n    <tr>\n      <th>...</th>\n      <td>...</td>\n      <td>...</td>\n      <td>...</td>\n      <td>...</td>\n      <td>...</td>\n      <td>...</td>\n      <td>...</td>\n      <td>...</td>\n      <td>...</td>\n      <td>...</td>\n      <td>...</td>\n      <td>...</td>\n      <td>...</td>\n      <td>...</td>\n      <td>...</td>\n      <td>...</td>\n      <td>...</td>\n      <td>...</td>\n      <td>...</td>\n      <td>...</td>\n      <td>...</td>\n    </tr>\n    <tr>\n      <th>185</th>\n      <td>Tunis</td>\n      <td>Tunisia</td>\n      <td>Africa</td>\n      <td>9.9680</td>\n      <td>9.998</td>\n      <td>2.9690</td>\n      <td>0.000</td>\n      <td>2.6080</td>\n      <td>5.61450</td>\n      <td>6.621667</td>\n      <td>...</td>\n      <td>6.292667</td>\n      <td>0.5000</td>\n      <td>3.27975</td>\n      <td>3.0920</td>\n      <td>2.5990</td>\n      <td>1.0725</td>\n      <td>5.7425</td>\n      <td>4.7270</td>\n      <td>5.3655</td>\n      <td>3574,654024</td>\n    </tr>\n    <tr>\n      <th>186</th>\n      <td>Valletta</td>\n      <td>Malta</td>\n      <td>Europe</td>\n      <td>3.1530</td>\n      <td>0.000</td>\n      <td>3.9095</td>\n      <td>2.148</td>\n      <td>1.8890</td>\n      <td>0.00000</td>\n      <td>5.377000</td>\n      <td>...</td>\n      <td>8.107000</td>\n      <td>2.8195</td>\n      <td>3.77575</td>\n      <td>5.5395</td>\n      <td>5.7835</td>\n      <td>3.2015</td>\n      <td>5.8270</td>\n      <td>7.5630</td>\n      <td>4.7170</td>\n      <td>30186,19596</td>\n    </tr>\n    <tr>\n      <th>187</th>\n      <td>Vilnius</td>\n      <td>Lithuania</td>\n      <td>Europe</td>\n      <td>8.6210</td>\n      <td>7.576</td>\n      <td>4.2230</td>\n      <td>2.828</td>\n      <td>2.1050</td>\n      <td>5.92775</td>\n      <td>7.600333</td>\n      <td>...</td>\n      <td>6.330667</td>\n      <td>3.7000</td>\n      <td>8.71775</td>\n      <td>4.6910</td>\n      <td>6.5925</td>\n      <td>7.9265</td>\n      <td>5.1985</td>\n      <td>7.3930</td>\n      <td>4.1060</td>\n      <td>19575,76848</td>\n    </tr>\n    <tr>\n      <th>188</th>\n      <td>Yerevan</td>\n      <td>Armenia</td>\n      <td>Asia</td>\n      <td>9.6945</td>\n      <td>9.431</td>\n      <td>3.9265</td>\n      <td>0.000</td>\n      <td>1.7870</td>\n      <td>5.64925</td>\n      <td>6.501000</td>\n      <td>...</td>\n      <td>5.102000</td>\n      <td>0.0000</td>\n      <td>4.43950</td>\n      <td>3.4580</td>\n      <td>8.0550</td>\n      <td>3.9000</td>\n      <td>4.7370</td>\n      <td>7.3465</td>\n      <td>7.7765</td>\n      <td>4604,646324</td>\n    </tr>\n    <tr>\n      <th>189</th>\n      <td>Zagreb</td>\n      <td>Croatia</td>\n      <td>Europe</td>\n      <td>8.9100</td>\n      <td>7.194</td>\n      <td>4.4530</td>\n      <td>1.775</td>\n      <td>2.0280</td>\n      <td>4.83000</td>\n      <td>5.720333</td>\n      <td>...</td>\n      <td>7.266000</td>\n      <td>3.2110</td>\n      <td>7.33150</td>\n      <td>2.2365</td>\n      <td>7.9935</td>\n      <td>5.0335</td>\n      <td>4.9945</td>\n      <td>7.9545</td>\n      <td>4.8090</td>\n      <td>15311,7669</td>\n    </tr>\n  </tbody>\n</table>\n<p>190 rows × 21 columns</p>\n</div>"
     },
     "execution_count": 126,
     "metadata": {},
     "output_type": "execute_result"
    }
   ],
   "source": [
    "ratings_with_gdp = pd.merge(ratings, gdp_addon, left_on='UA_Country', right_on='UA_Country')\n",
    "ratings_with_gdp"
   ],
   "metadata": {
    "collapsed": false,
    "pycharm": {
     "name": "#%%\n"
    }
   }
  },
  {
   "cell_type": "code",
   "execution_count": 131,
   "outputs": [],
   "source": [
    "ratings_with_gdp.to_csv('Data/ratingsWithGDP.csv')"
   ],
   "metadata": {
    "collapsed": false,
    "pycharm": {
     "name": "#%%\n"
    }
   }
  }
 ],
 "metadata": {
  "kernelspec": {
   "display_name": "Python 3",
   "language": "python",
   "name": "python3"
  },
  "language_info": {
   "codemirror_mode": {
    "name": "ipython",
    "version": 2
   },
   "file_extension": ".py",
   "mimetype": "text/x-python",
   "name": "python",
   "nbconvert_exporter": "python",
   "pygments_lexer": "ipython2",
   "version": "2.7.6"
  }
 },
 "nbformat": 4,
 "nbformat_minor": 0
}