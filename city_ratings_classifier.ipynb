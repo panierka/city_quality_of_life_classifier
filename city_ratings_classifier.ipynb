{
 "cells": [
  {
   "cell_type": "code",
   "execution_count": 6,
   "metadata": {
    "collapsed": true,
    "pycharm": {
     "name": "#%%\n"
    }
   },
   "outputs": [],
   "source": [
    "import pandas as pd"
   ]
  },
  {
   "cell_type": "code",
   "execution_count": 7,
   "outputs": [],
   "source": [
    "csv_file = open(\"uaScoresDataFrame.csv\")\n",
    "scores = pd.read_csv(csv_file)\n",
    "scores = scores.drop('id', axis=1)\n",
    "scores = scores.drop('Venture Capital', axis=1)"
   ],
   "metadata": {
    "collapsed": false,
    "pycharm": {
     "name": "#%%\n"
    }
   }
  },
  {
   "cell_type": "code",
   "execution_count": 8,
   "outputs": [
    {
     "name": "stdout",
     "output_type": "stream",
     "text": [
      "                       UA_Name               UA_Country  number\n",
      "0                      Andorra                  Andorra       6\n",
      "1                    Gibraltar                Gibraltar       5\n",
      "2                      Managua                Nicaragua       3\n",
      "3                     Tashkent               Uzbekistan       3\n",
      "4                  Belize City                   Belize       3\n",
      "5                       Panama                   Panama       3\n",
      "6                    Palo Alto               California       2\n",
      "7                       La Paz                  Bolivia       2\n",
      "8                     Portland                    Maine       2\n",
      "9                       Havana                     Cuba       2\n",
      "10                     Fukuoka                    Japan       2\n",
      "11                    San Juan              Puerto Rico       2\n",
      "12                     Bozeman                  Montana       2\n",
      "13                   Baltimore                 Maryland       2\n",
      "14                    Valletta                    Malta       2\n",
      "15             San Luis Obispo               California       1\n",
      "16                       Quito                  Ecuador       1\n",
      "17                San Salvador              El Salvador       1\n",
      "18                  Providence             Rhode Island       1\n",
      "19                    Sarajevo   Bosnia and Herzegovina       1\n",
      "20                  Phnom Penh                 Cambodia       1\n",
      "21                        Oulu                  Finland       1\n",
      "22                      Manila              Philippines       1\n",
      "23                       Lagos                  Nigeria       1\n",
      "24                      Madrid                    Spain       1\n",
      "25                        Lviv                  Ukraine       1\n",
      "26  Las Palmas de Gran Canaria                    Spain       1\n",
      "27                    Asuncion                 Paraguay       1\n",
      "28                       Kyoto                    Japan       1\n",
      "29                    Kingston                  Jamaica       1\n",
      "30                   Kathmandu                    Nepal       1\n",
      "31                   Hyderabad                    India       1\n",
      "32              Guatemala City                Guatemala       1\n",
      "33                Fort Collins                 Colorado       1\n",
      "34               Dar es Salaam                 Tanzania       1\n",
      "35                  Casablanca                  Morocco       1\n",
      "36                     Caracas                Venezuela       1\n",
      "37                        Bali                Indonesia       1\n",
      "38                        Baku               Azerbaijan       1\n",
      "39                     Yerevan                  Armenia       1\n"
     ]
    }
   ],
   "source": [
    "def check_zero(dataset):\n",
    "    invalid_rows = []\n",
    "    for element in dataset.columns.tolist():\n",
    "        invalid = dataset[dataset[element] == 0.0]\n",
    "        invalid_rows.append(invalid[['UA_Name','UA_Country']])\n",
    "    df = pd.concat(invalid_rows).reset_index(drop=True).value_counts()\n",
    "    return df\n",
    "results = check_zero(scores).to_frame().reset_index().rename(columns={0:\"number\"})\n",
    "print(results)"
   ],
   "metadata": {
    "collapsed": false,
    "pycharm": {
     "name": "#%%\n"
    }
   }
  },
  {
   "cell_type": "code",
   "execution_count": 9,
   "outputs": [],
   "source": [
    "scores = scores[(scores != 0).all(1)]"
   ],
   "metadata": {
    "collapsed": false,
    "pycharm": {
     "name": "#%%\n"
    }
   }
  },
  {
   "cell_type": "code",
   "execution_count": 10,
   "outputs": [],
   "source": [
    "weights_data = {\n",
    "    'Housing' : 1.5,\n",
    "    'Cost of Living' : 1.5,\n",
    "    'Startups' : 0.5,\n",
    "    'Business Freedom' : 0.8,\n",
    "    'Safety' : 1.5,\n",
    "    'Healthcare' : 1.5,\n",
    "    'Education' : 0.5,\n",
    "    'Travel Connectivity' : 1.5,\n",
    "}\n",
    "\n",
    "weights_vector = pd.Series(0.0, index=scores.columns[3:-1])\n",
    "for i in range(len(weights_vector)):\n",
    "    row_name = weights_vector.index[i]\n",
    "    weights_vector[i] = weights_data.get(row_name, 1)"
   ],
   "metadata": {
    "collapsed": false,
    "pycharm": {
     "name": "#%%\n"
    }
   }
  },
  {
   "cell_type": "code",
   "execution_count": 11,
   "outputs": [],
   "source": [
    "summable_values = list(scores)\n",
    "if 'Naive Sum' in summable_values:\n",
    "    summable_values.remove('Naive Sum')\n",
    "weighted_scores = scores.copy()\n",
    "weighted_scores = weighted_scores * weights_vector\n",
    "scores['Naive Sum'] = weighted_scores[summable_values].sum(numeric_only=True, axis=1)"
   ],
   "metadata": {
    "collapsed": false,
    "pycharm": {
     "name": "#%%\n"
    }
   }
  },
  {
   "cell_type": "code",
   "execution_count": 33,
   "outputs": [],
   "source": [
    "# scores['Naive Sum']\n",
    "# better, worse\n",
    "\n",
    "midpoint = scores['Naive Sum'].quantile()\n",
    "scores['Label'] = ''\n",
    "scores.loc[scores['Naive Sum'] < midpoint, 'Label'] = 'worse'\n",
    "scores.loc[scores['Naive Sum'] >= midpoint, 'Label'] = 'better'"
   ],
   "metadata": {
    "collapsed": false,
    "pycharm": {
     "name": "#%%\n"
    }
   }
  },
  {
   "cell_type": "code",
   "execution_count": 42,
   "outputs": [
    {
     "data": {
      "text/plain": "<matplotlib.collections.PathCollection at 0x12cca678940>"
     },
     "execution_count": 42,
     "metadata": {},
     "output_type": "execute_result"
    },
    {
     "data": {
      "text/plain": "<Figure size 720x432 with 1 Axes>",
      "image/png": "[encoded data removed]"
     },
     "metadata": {
      "needs_background": "light"
     },
     "output_type": "display_data"
    }
   ],
   "source": [
    "import matplotlib.pyplot as plt\n",
    "import numpy as np\n",
    "\n",
    "fig, ax = plt.subplots()\n",
    "fig.set_size_inches(10, 6)\n",
    "vals = scores['Naive Sum'].sort_values()\n",
    "color = np.where(vals >= midpoint, 'b', 'r')\n",
    "ax.scatter(scores.index, vals, c=color, marker='+')"
   ],
   "metadata": {
    "collapsed": false,
    "pycharm": {
     "name": "#%%\n"
    }
   }
  },
  {
   "cell_type": "code",
   "execution_count": 45,
   "outputs": [
    {
     "data": {
      "text/plain": "          UA_Name       UA_Country   UA_Continent   Housing  Cost of Living  \\\n0       Edinburgh   United Kingdom         Europe  0.538333        0.457111   \n1        Istanbul           Turkey           Asia  0.904167        0.865222   \n2       Vancouver           Canada  North America  0.342278        0.473222   \n3          Zagreb          Croatia         Europe  0.878889        0.688222   \n4          Denver         Colorado  North America  0.315278        0.455778   \n188    Louisville         Kentucky  North America  0.695333        0.595333   \n189   Guadalajara           Mexico  North America  0.947444        0.943333   \n190      Brussels          Belgium         Europe  0.595000        0.386333   \n192       Toronto           Canada  North America  0.406667        0.474556   \n193  Johannesburg     South Africa         Africa  0.779111        0.730556   \n\n     Startups  Travel Connectivity   Commute  Business Freedom    Safety  ...  \\\n0    0.345444             0.483203  0.871702          0.860368  0.824987  ...   \n1    0.661500             0.553021  0.551083          0.438750  0.641137  ...   \n2    0.796667             0.224106  0.697926          0.856767  0.719228  ...   \n3    0.383667             0.144360  0.679929          0.407166  0.844914  ...   \n4    0.762722             0.382097  0.629352          0.815902  0.465257  ...   \n188  0.361556             0.084791  0.195060          0.815902  0.262693  ...   \n189  0.371611             0.112322  0.598247          0.413354  0.592445  ...   \n190  0.521278             0.728185  0.773792          0.844438  0.619130  ...   \n192  0.997889             0.391972  0.655146          0.856767  0.733553  ...   \n193  0.437500             0.270473  0.525794          0.270259  0.441518  ...   \n\n     Education  Environmental Quality   Economy  Taxation  Internet Access  \\\n0     0.607154               0.760510  0.512971  0.528167         0.479061   \n1     0.179405               0.258884  0.347280  0.337940         0.286886   \n2     0.693627               0.836503  0.562573  0.682120         0.407354   \n3     0.294322               0.710845  0.118430  0.765979         0.462770   \n4     0.339214               0.686128  0.645634  0.340564         0.506941   \n188   0.339214               0.626795  0.645634  0.307441         0.519390   \n189   0.077027               0.251806  0.274201  0.339107         0.354807   \n190   0.668006               0.395419  0.435763  0.053301         0.753958   \n192   0.771089               0.693120  0.562573  0.682120         0.388137   \n193   0.028064               0.364861  0.183930  0.434453         0.210819   \n\n     Leisure & Culture  Tolerance  Outdoors  Naive Sum   Label  \n0             0.688944   0.778759  0.623032   0.877156  better  \n1             1.000000   0.287985  0.705435   0.653933  better  \n2             0.524111   0.824189  0.928293   0.717996  better  \n3             0.443833   0.782717  0.579712   0.680578  better  \n4             0.580389   0.771268  1.000000   0.473892   worse  \n188           0.521500   0.517691  0.107628   0.279379   worse  \n189           0.739667   0.807442  0.400444   0.534404   worse  \n190           0.793778   0.603252  0.487421   0.732634  better  \n192           0.758444   0.779490  0.685322   0.841679  better  \n193           0.377944   0.259728  0.330418   0.041828   worse  \n\n[10 rows x 21 columns]",
      "text/html": "<div>\n<style scoped>\n    .dataframe tbody tr th:only-of-type {\n        vertical-align: middle;\n    }\n\n    .dataframe tbody tr th {\n        vertical-align: top;\n    }\n\n    .dataframe thead th {\n        text-align: right;\n    }\n</style>\n<table border=\"1\" class=\"dataframe\">\n  <thead>\n    <tr style=\"text-align: right;\">\n      <th></th>\n      <th>UA_Name</th>\n      <th>UA_Country</th>\n      <th>UA_Continent</th>\n      <th>Housing</th>\n      <th>Cost of Living</th>\n      <th>Startups</th>\n      <th>Travel Connectivity</th>\n      <th>Commute</th>\n      <th>Business Freedom</th>\n      <th>Safety</th>\n      <th>...</th>\n      <th>Education</th>\n      <th>Environmental Quality</th>\n      <th>Economy</th>\n      <th>Taxation</th>\n      <th>Internet Access</th>\n      <th>Leisure &amp; Culture</th>\n      <th>Tolerance</th>\n      <th>Outdoors</th>\n      <th>Naive Sum</th>\n      <th>Label</th>\n    </tr>\n  </thead>\n  <tbody>\n    <tr>\n      <th>0</th>\n      <td>Edinburgh</td>\n      <td>United Kingdom</td>\n      <td>Europe</td>\n      <td>0.538333</td>\n      <td>0.457111</td>\n      <td>0.345444</td>\n      <td>0.483203</td>\n      <td>0.871702</td>\n      <td>0.860368</td>\n      <td>0.824987</td>\n      <td>...</td>\n      <td>0.607154</td>\n      <td>0.760510</td>\n      <td>0.512971</td>\n      <td>0.528167</td>\n      <td>0.479061</td>\n      <td>0.688944</td>\n      <td>0.778759</td>\n      <td>0.623032</td>\n      <td>0.877156</td>\n      <td>better</td>\n    </tr>\n    <tr>\n      <th>1</th>\n      <td>Istanbul</td>\n      <td>Turkey</td>\n      <td>Asia</td>\n      <td>0.904167</td>\n      <td>0.865222</td>\n      <td>0.661500</td>\n      <td>0.553021</td>\n      <td>0.551083</td>\n      <td>0.438750</td>\n      <td>0.641137</td>\n      <td>...</td>\n      <td>0.179405</td>\n      <td>0.258884</td>\n      <td>0.347280</td>\n      <td>0.337940</td>\n      <td>0.286886</td>\n      <td>1.000000</td>\n      <td>0.287985</td>\n      <td>0.705435</td>\n      <td>0.653933</td>\n      <td>better</td>\n    </tr>\n    <tr>\n      <th>2</th>\n      <td>Vancouver</td>\n      <td>Canada</td>\n      <td>North America</td>\n      <td>0.342278</td>\n      <td>0.473222</td>\n      <td>0.796667</td>\n      <td>0.224106</td>\n      <td>0.697926</td>\n      <td>0.856767</td>\n      <td>0.719228</td>\n      <td>...</td>\n      <td>0.693627</td>\n      <td>0.836503</td>\n      <td>0.562573</td>\n      <td>0.682120</td>\n      <td>0.407354</td>\n      <td>0.524111</td>\n      <td>0.824189</td>\n      <td>0.928293</td>\n      <td>0.717996</td>\n      <td>better</td>\n    </tr>\n    <tr>\n      <th>3</th>\n      <td>Zagreb</td>\n      <td>Croatia</td>\n      <td>Europe</td>\n      <td>0.878889</td>\n      <td>0.688222</td>\n      <td>0.383667</td>\n      <td>0.144360</td>\n      <td>0.679929</td>\n      <td>0.407166</td>\n      <td>0.844914</td>\n      <td>...</td>\n      <td>0.294322</td>\n      <td>0.710845</td>\n      <td>0.118430</td>\n      <td>0.765979</td>\n      <td>0.462770</td>\n      <td>0.443833</td>\n      <td>0.782717</td>\n      <td>0.579712</td>\n      <td>0.680578</td>\n      <td>better</td>\n    </tr>\n    <tr>\n      <th>4</th>\n      <td>Denver</td>\n      <td>Colorado</td>\n      <td>North America</td>\n      <td>0.315278</td>\n      <td>0.455778</td>\n      <td>0.762722</td>\n      <td>0.382097</td>\n      <td>0.629352</td>\n      <td>0.815902</td>\n      <td>0.465257</td>\n      <td>...</td>\n      <td>0.339214</td>\n      <td>0.686128</td>\n      <td>0.645634</td>\n      <td>0.340564</td>\n      <td>0.506941</td>\n      <td>0.580389</td>\n      <td>0.771268</td>\n      <td>1.000000</td>\n      <td>0.473892</td>\n      <td>worse</td>\n    </tr>\n    <tr>\n      <th>188</th>\n      <td>Louisville</td>\n      <td>Kentucky</td>\n      <td>North America</td>\n      <td>0.695333</td>\n      <td>0.595333</td>\n      <td>0.361556</td>\n      <td>0.084791</td>\n      <td>0.195060</td>\n      <td>0.815902</td>\n      <td>0.262693</td>\n      <td>...</td>\n      <td>0.339214</td>\n      <td>0.626795</td>\n      <td>0.645634</td>\n      <td>0.307441</td>\n      <td>0.519390</td>\n      <td>0.521500</td>\n      <td>0.517691</td>\n      <td>0.107628</td>\n      <td>0.279379</td>\n      <td>worse</td>\n    </tr>\n    <tr>\n      <th>189</th>\n      <td>Guadalajara</td>\n      <td>Mexico</td>\n      <td>North America</td>\n      <td>0.947444</td>\n      <td>0.943333</td>\n      <td>0.371611</td>\n      <td>0.112322</td>\n      <td>0.598247</td>\n      <td>0.413354</td>\n      <td>0.592445</td>\n      <td>...</td>\n      <td>0.077027</td>\n      <td>0.251806</td>\n      <td>0.274201</td>\n      <td>0.339107</td>\n      <td>0.354807</td>\n      <td>0.739667</td>\n      <td>0.807442</td>\n      <td>0.400444</td>\n      <td>0.534404</td>\n      <td>worse</td>\n    </tr>\n    <tr>\n      <th>190</th>\n      <td>Brussels</td>\n      <td>Belgium</td>\n      <td>Europe</td>\n      <td>0.595000</td>\n      <td>0.386333</td>\n      <td>0.521278</td>\n      <td>0.728185</td>\n      <td>0.773792</td>\n      <td>0.844438</td>\n      <td>0.619130</td>\n      <td>...</td>\n      <td>0.668006</td>\n      <td>0.395419</td>\n      <td>0.435763</td>\n      <td>0.053301</td>\n      <td>0.753958</td>\n      <td>0.793778</td>\n      <td>0.603252</td>\n      <td>0.487421</td>\n      <td>0.732634</td>\n      <td>better</td>\n    </tr>\n    <tr>\n      <th>192</th>\n      <td>Toronto</td>\n      <td>Canada</td>\n      <td>North America</td>\n      <td>0.406667</td>\n      <td>0.474556</td>\n      <td>0.997889</td>\n      <td>0.391972</td>\n      <td>0.655146</td>\n      <td>0.856767</td>\n      <td>0.733553</td>\n      <td>...</td>\n      <td>0.771089</td>\n      <td>0.693120</td>\n      <td>0.562573</td>\n      <td>0.682120</td>\n      <td>0.388137</td>\n      <td>0.758444</td>\n      <td>0.779490</td>\n      <td>0.685322</td>\n      <td>0.841679</td>\n      <td>better</td>\n    </tr>\n    <tr>\n      <th>193</th>\n      <td>Johannesburg</td>\n      <td>South Africa</td>\n      <td>Africa</td>\n      <td>0.779111</td>\n      <td>0.730556</td>\n      <td>0.437500</td>\n      <td>0.270473</td>\n      <td>0.525794</td>\n      <td>0.270259</td>\n      <td>0.441518</td>\n      <td>...</td>\n      <td>0.028064</td>\n      <td>0.364861</td>\n      <td>0.183930</td>\n      <td>0.434453</td>\n      <td>0.210819</td>\n      <td>0.377944</td>\n      <td>0.259728</td>\n      <td>0.330418</td>\n      <td>0.041828</td>\n      <td>worse</td>\n    </tr>\n  </tbody>\n</table>\n<p>10 rows × 21 columns</p>\n</div>"
     },
     "execution_count": 45,
     "metadata": {},
     "output_type": "execute_result"
    }
   ],
   "source": [
    "from Modules.dataprocessing import ProcessingData\n",
    "\n",
    "a, b = ProcessingData.prepare_data(scores)\n",
    "\n",
    "pd.concat([a.head(), b.head()])"
   ],
   "metadata": {
    "collapsed": false,
    "pycharm": {
     "name": "#%%\n"
    }
   }
  }
 ],
 "metadata": {
  "kernelspec": {
   "display_name": "Python 3",
   "language": "python",
   "name": "python3"
  },
  "language_info": {
   "codemirror_mode": {
    "name": "ipython",
    "version": 2
   },
   "file_extension": ".py",
   "mimetype": "text/x-python",
   "name": "python",
   "nbconvert_exporter": "python",
   "pygments_lexer": "ipython2",
   "version": "2.7.6"
  }
 },
 "nbformat": 4,
 "nbformat_minor": 0
}