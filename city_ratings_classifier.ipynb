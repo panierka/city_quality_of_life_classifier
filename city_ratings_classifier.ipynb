{
 "cells": [
  {
   "cell_type": "code",
   "execution_count": 72,
   "metadata": {
    "collapsed": true,
    "pycharm": {
     "name": "#%%\n"
    }
   },
   "outputs": [
    {
     "name": "stdout",
     "output_type": "stream",
     "text": [
      "The autoreload extension is already loaded. To reload it, use:\n",
      "  %reload_ext autoreload\n"
     ]
    }
   ],
   "source": [
    "import pandas as pd\n",
    "from IPython.display import display, HTML\n",
    "%load_ext autoreload\n",
    "%autoreload 2\n",
    "\n",
    "import importlib"
   ]
  },
  {
   "cell_type": "code",
   "execution_count": 7,
   "metadata": {
    "pycharm": {
     "name": "#%%\n"
    }
   },
   "outputs": [],
   "source": [
    "csv_file = open(\"uaScoresDataFrame.csv\")\n",
    "scores = pd.read_csv(csv_file)\n",
    "scores = scores.drop('id', axis=1)\n",
    "scores = scores.drop('Venture Capital', axis=1)"
   ]
  },
  {
   "cell_type": "code",
   "execution_count": 8,
   "metadata": {
    "pycharm": {
     "name": "#%%\n"
    }
   },
   "outputs": [
    {
     "name": "stdout",
     "output_type": "stream",
     "text": [
      "                       UA_Name               UA_Country  number\n",
      "0                      Andorra                  Andorra       6\n",
      "1                    Gibraltar                Gibraltar       5\n",
      "2                      Managua                Nicaragua       3\n",
      "3                     Tashkent               Uzbekistan       3\n",
      "4                  Belize City                   Belize       3\n",
      "5                       Panama                   Panama       3\n",
      "6                    Palo Alto               California       2\n",
      "7                       La Paz                  Bolivia       2\n",
      "8                     Portland                    Maine       2\n",
      "9                       Havana                     Cuba       2\n",
      "10                     Fukuoka                    Japan       2\n",
      "11                    San Juan              Puerto Rico       2\n",
      "12                     Bozeman                  Montana       2\n",
      "13                   Baltimore                 Maryland       2\n",
      "14                    Valletta                    Malta       2\n",
      "15             San Luis Obispo               California       1\n",
      "16                       Quito                  Ecuador       1\n",
      "17                San Salvador              El Salvador       1\n",
      "18                  Providence             Rhode Island       1\n",
      "19                    Sarajevo   Bosnia and Herzegovina       1\n",
      "20                  Phnom Penh                 Cambodia       1\n",
      "21                        Oulu                  Finland       1\n",
      "22                      Manila              Philippines       1\n",
      "23                       Lagos                  Nigeria       1\n",
      "24                      Madrid                    Spain       1\n",
      "25                        Lviv                  Ukraine       1\n",
      "26  Las Palmas de Gran Canaria                    Spain       1\n",
      "27                    Asuncion                 Paraguay       1\n",
      "28                       Kyoto                    Japan       1\n",
      "29                    Kingston                  Jamaica       1\n",
      "30                   Kathmandu                    Nepal       1\n",
      "31                   Hyderabad                    India       1\n",
      "32              Guatemala City                Guatemala       1\n",
      "33                Fort Collins                 Colorado       1\n",
      "34               Dar es Salaam                 Tanzania       1\n",
      "35                  Casablanca                  Morocco       1\n",
      "36                     Caracas                Venezuela       1\n",
      "37                        Bali                Indonesia       1\n",
      "38                        Baku               Azerbaijan       1\n",
      "39                     Yerevan                  Armenia       1\n"
     ]
    }
   ],
   "source": [
    "def check_zero(dataset):\n",
    "    invalid_rows = []\n",
    "    for element in dataset.columns.tolist():\n",
    "        invalid = dataset[dataset[element] == 0.0]\n",
    "        invalid_rows.append(invalid[['UA_Name','UA_Country']])\n",
    "    df = pd.concat(invalid_rows).reset_index(drop=True).value_counts()\n",
    "    return df\n",
    "results = check_zero(scores).to_frame().reset_index().rename(columns={0:\"number\"})\n",
    "print(results)"
   ]
  },
  {
   "cell_type": "code",
   "execution_count": 9,
   "metadata": {
    "pycharm": {
     "name": "#%%\n"
    }
   },
   "outputs": [],
   "source": [
    "scores = scores[(scores != 0).all(1)]"
   ]
  },
  {
   "cell_type": "code",
   "execution_count": 10,
   "metadata": {
    "pycharm": {
     "name": "#%%\n"
    }
   },
   "outputs": [],
   "source": [
    "weights_data = {\n",
    "    'Housing' : 1.5,\n",
    "    'Cost of Living' : 1.5,\n",
    "    'Startups' : 0.5,\n",
    "    'Business Freedom' : 0.8,\n",
    "    'Safety' : 1.5,\n",
    "    'Healthcare' : 1.5,\n",
    "    'Education' : 0.5,\n",
    "    'Travel Connectivity' : 1.5,\n",
    "}\n",
    "\n",
    "weights_vector = pd.Series(0.0, index=scores.columns[3:-1])\n",
    "for i in range(len(weights_vector)):\n",
    "    row_name = weights_vector.index[i]\n",
    "    weights_vector[i] = weights_data.get(row_name, 1)"
   ]
  },
  {
   "cell_type": "code",
   "execution_count": 11,
   "metadata": {
    "pycharm": {
     "name": "#%%\n"
    }
   },
   "outputs": [],
   "source": [
    "summable_values = list(scores)\n",
    "if 'Naive Sum' in summable_values:\n",
    "    summable_values.remove('Naive Sum')\n",
    "weighted_scores = scores.copy()\n",
    "weighted_scores = weighted_scores * weights_vector\n",
    "scores['Naive Sum'] = weighted_scores[summable_values].sum(numeric_only=True, axis=1)"
   ]
  },
  {
   "cell_type": "code",
   "execution_count": 33,
   "metadata": {
    "pycharm": {
     "name": "#%%\n"
    }
   },
   "outputs": [],
   "source": [
    "# scores['Naive Sum']\n",
    "# better, worse\n",
    "\n",
    "midpoint = scores['Naive Sum'].quantile()\n",
    "scores['Label'] = ''\n",
    "scores.loc[scores['Naive Sum'] < midpoint, 'Label'] = 'worse'\n",
    "scores.loc[scores['Naive Sum'] >= midpoint, 'Label'] = 'better'"
   ]
  },
  {
   "cell_type": "code",
   "execution_count": 42,
   "metadata": {
    "pycharm": {
     "name": "#%%\n"
    }
   },
   "outputs": [
    {
     "data": {
      "text/plain": [
       "<matplotlib.collections.PathCollection at 0x12cca678940>"
      ]
     },
     "execution_count": 42,
     "metadata": {},
     "output_type": "execute_result"
    },
    {
     "data": {
      "image/png": "[encoded data removed]",
      "text/plain": [
       "<Figure size 720x432 with 1 Axes>"
      ]
     },
     "metadata": {
      "needs_background": "light"
     },
     "output_type": "display_data"
    }
   ],
   "source": [
    "import matplotlib.pyplot as plt\n",
    "import numpy as np\n",
    "\n",
    "fig, ax = plt.subplots()\n",
    "fig.set_size_inches(10, 6)\n",
    "vals = scores['Naive Sum'].sort_values()\n",
    "colors = np.where(vals >= midpoint, 'b', 'r')\n",
    "ax.scatter(scores.index, vals, c=colors, marker='+')"
   ]
  },
  {
   "cell_type": "markdown",
   "metadata": {
    "pycharm": {
     "name": "#%% md\n"
    }
   },
   "source": []
  },
  {
   "cell_type": "code",
   "execution_count": 48,
   "metadata": {
    "pycharm": {
     "name": "#%%\n"
    }
   },
   "outputs": [
    {
     "data": {
      "text/html": [
       "<div>\n",
       "<style scoped>\n",
       "    .dataframe tbody tr th:only-of-type {\n",
       "        vertical-align: middle;\n",
       "    }\n",
       "\n",
       "    .dataframe tbody tr th {\n",
       "        vertical-align: top;\n",
       "    }\n",
       "\n",
       "    .dataframe thead th {\n",
       "        text-align: right;\n",
       "    }\n",
       "</style>\n",
       "<table border=\"1\" class=\"dataframe\">\n",
       "  <thead>\n",
       "    <tr style=\"text-align: right;\">\n",
       "      <th></th>\n",
       "      <th>UA_Name</th>\n",
       "      <th>UA_Country</th>\n",
       "      <th>UA_Continent</th>\n",
       "      <th>Housing</th>\n",
       "      <th>Cost of Living</th>\n",
       "      <th>Startups</th>\n",
       "      <th>Travel Connectivity</th>\n",
       "      <th>Commute</th>\n",
       "      <th>Business Freedom</th>\n",
       "      <th>Safety</th>\n",
       "      <th>...</th>\n",
       "      <th>Education</th>\n",
       "      <th>Environmental Quality</th>\n",
       "      <th>Economy</th>\n",
       "      <th>Taxation</th>\n",
       "      <th>Internet Access</th>\n",
       "      <th>Leisure &amp; Culture</th>\n",
       "      <th>Tolerance</th>\n",
       "      <th>Outdoors</th>\n",
       "      <th>Naive Sum</th>\n",
       "      <th>Label</th>\n",
       "    </tr>\n",
       "  </thead>\n",
       "  <tbody>\n",
       "    <tr>\n",
       "      <th>0</th>\n",
       "      <td>Adelaide</td>\n",
       "      <td>Australia</td>\n",
       "      <td>Oceania</td>\n",
       "      <td>0.589944</td>\n",
       "      <td>0.410222</td>\n",
       "      <td>0.237389</td>\n",
       "      <td>0.117366</td>\n",
       "      <td>0.765279</td>\n",
       "      <td>0.916840</td>\n",
       "      <td>0.760411</td>\n",
       "      <td>...</td>\n",
       "      <td>0.503963</td>\n",
       "      <td>0.825857</td>\n",
       "      <td>0.590794</td>\n",
       "      <td>0.368848</td>\n",
       "      <td>0.383318</td>\n",
       "      <td>0.369833</td>\n",
       "      <td>0.766579</td>\n",
       "      <td>0.676846</td>\n",
       "      <td>0.566347</td>\n",
       "      <td>worse</td>\n",
       "    </tr>\n",
       "    <tr>\n",
       "      <th>1</th>\n",
       "      <td>Quebec</td>\n",
       "      <td>Canada</td>\n",
       "      <td>Europe</td>\n",
       "      <td>0.835278</td>\n",
       "      <td>0.559667</td>\n",
       "      <td>0.303833</td>\n",
       "      <td>0.074970</td>\n",
       "      <td>0.755795</td>\n",
       "      <td>0.856767</td>\n",
       "      <td>0.902905</td>\n",
       "      <td>...</td>\n",
       "      <td>0.534144</td>\n",
       "      <td>0.709004</td>\n",
       "      <td>0.562573</td>\n",
       "      <td>0.682120</td>\n",
       "      <td>0.263710</td>\n",
       "      <td>0.515167</td>\n",
       "      <td>0.864016</td>\n",
       "      <td>0.567604</td>\n",
       "      <td>0.809336</td>\n",
       "      <td>better</td>\n",
       "    </tr>\n",
       "    <tr>\n",
       "      <th>2</th>\n",
       "      <td>Brussels</td>\n",
       "      <td>Belgium</td>\n",
       "      <td>Europe</td>\n",
       "      <td>0.595000</td>\n",
       "      <td>0.386333</td>\n",
       "      <td>0.521278</td>\n",
       "      <td>0.728185</td>\n",
       "      <td>0.773792</td>\n",
       "      <td>0.844438</td>\n",
       "      <td>0.619130</td>\n",
       "      <td>...</td>\n",
       "      <td>0.668006</td>\n",
       "      <td>0.395419</td>\n",
       "      <td>0.435763</td>\n",
       "      <td>0.053301</td>\n",
       "      <td>0.753958</td>\n",
       "      <td>0.793778</td>\n",
       "      <td>0.603252</td>\n",
       "      <td>0.487421</td>\n",
       "      <td>0.732634</td>\n",
       "      <td>better</td>\n",
       "    </tr>\n",
       "    <tr>\n",
       "      <th>3</th>\n",
       "      <td>Los Angeles</td>\n",
       "      <td>California</td>\n",
       "      <td>North America</td>\n",
       "      <td>0.058611</td>\n",
       "      <td>0.395111</td>\n",
       "      <td>1.000000</td>\n",
       "      <td>0.351562</td>\n",
       "      <td>0.485543</td>\n",
       "      <td>0.802558</td>\n",
       "      <td>0.503841</td>\n",
       "      <td>...</td>\n",
       "      <td>0.882043</td>\n",
       "      <td>0.411590</td>\n",
       "      <td>0.645634</td>\n",
       "      <td>0.389725</td>\n",
       "      <td>0.515890</td>\n",
       "      <td>0.910667</td>\n",
       "      <td>0.661592</td>\n",
       "      <td>0.840441</td>\n",
       "      <td>0.430683</td>\n",
       "      <td>worse</td>\n",
       "    </tr>\n",
       "    <tr>\n",
       "      <th>4</th>\n",
       "      <td>Saskatoon</td>\n",
       "      <td>Canada</td>\n",
       "      <td>North America</td>\n",
       "      <td>0.684389</td>\n",
       "      <td>0.449111</td>\n",
       "      <td>0.234944</td>\n",
       "      <td>0.061769</td>\n",
       "      <td>0.844390</td>\n",
       "      <td>0.856767</td>\n",
       "      <td>0.611621</td>\n",
       "      <td>...</td>\n",
       "      <td>0.525893</td>\n",
       "      <td>0.759934</td>\n",
       "      <td>0.562573</td>\n",
       "      <td>0.682120</td>\n",
       "      <td>0.446306</td>\n",
       "      <td>0.000000</td>\n",
       "      <td>0.707387</td>\n",
       "      <td>0.000000</td>\n",
       "      <td>0.496402</td>\n",
       "      <td>worse</td>\n",
       "    </tr>\n",
       "    <tr>\n",
       "      <th>188</th>\n",
       "      <td>Nantes</td>\n",
       "      <td>France</td>\n",
       "      <td>Europe</td>\n",
       "      <td>0.746944</td>\n",
       "      <td>0.446778</td>\n",
       "      <td>0.261444</td>\n",
       "      <td>0.462166</td>\n",
       "      <td>0.876802</td>\n",
       "      <td>0.735190</td>\n",
       "      <td>0.726853</td>\n",
       "      <td>...</td>\n",
       "      <td>0.423895</td>\n",
       "      <td>0.709867</td>\n",
       "      <td>0.360959</td>\n",
       "      <td>0.142524</td>\n",
       "      <td>0.443667</td>\n",
       "      <td>0.372333</td>\n",
       "      <td>0.673223</td>\n",
       "      <td>0.292210</td>\n",
       "      <td>0.623389</td>\n",
       "      <td>better</td>\n",
       "    </tr>\n",
       "    <tr>\n",
       "      <th>189</th>\n",
       "      <td>Lille</td>\n",
       "      <td>France</td>\n",
       "      <td>Europe</td>\n",
       "      <td>0.725778</td>\n",
       "      <td>0.488778</td>\n",
       "      <td>0.250944</td>\n",
       "      <td>0.572824</td>\n",
       "      <td>0.252339</td>\n",
       "      <td>0.735190</td>\n",
       "      <td>0.646739</td>\n",
       "      <td>...</td>\n",
       "      <td>0.422701</td>\n",
       "      <td>0.354962</td>\n",
       "      <td>0.360959</td>\n",
       "      <td>0.142524</td>\n",
       "      <td>0.324346</td>\n",
       "      <td>0.456611</td>\n",
       "      <td>0.691188</td>\n",
       "      <td>0.241154</td>\n",
       "      <td>0.484625</td>\n",
       "      <td>worse</td>\n",
       "    </tr>\n",
       "    <tr>\n",
       "      <th>190</th>\n",
       "      <td>Tokyo</td>\n",
       "      <td>Japan</td>\n",
       "      <td>Asia</td>\n",
       "      <td>0.517444</td>\n",
       "      <td>0.270111</td>\n",
       "      <td>0.588556</td>\n",
       "      <td>0.801599</td>\n",
       "      <td>0.878446</td>\n",
       "      <td>0.775269</td>\n",
       "      <td>1.000000</td>\n",
       "      <td>...</td>\n",
       "      <td>0.703561</td>\n",
       "      <td>0.552499</td>\n",
       "      <td>0.301682</td>\n",
       "      <td>0.537322</td>\n",
       "      <td>0.439995</td>\n",
       "      <td>0.926889</td>\n",
       "      <td>0.690153</td>\n",
       "      <td>0.810238</td>\n",
       "      <td>0.955654</td>\n",
       "      <td>better</td>\n",
       "    </tr>\n",
       "    <tr>\n",
       "      <th>192</th>\n",
       "      <td>Shanghai</td>\n",
       "      <td>China</td>\n",
       "      <td>Asia</td>\n",
       "      <td>0.527111</td>\n",
       "      <td>0.686556</td>\n",
       "      <td>0.525056</td>\n",
       "      <td>0.663196</td>\n",
       "      <td>0.722836</td>\n",
       "      <td>0.154407</td>\n",
       "      <td>0.677526</td>\n",
       "      <td>...</td>\n",
       "      <td>0.564488</td>\n",
       "      <td>0.193739</td>\n",
       "      <td>0.594923</td>\n",
       "      <td>0.008164</td>\n",
       "      <td>0.187701</td>\n",
       "      <td>0.632611</td>\n",
       "      <td>0.147738</td>\n",
       "      <td>0.701937</td>\n",
       "      <td>0.328667</td>\n",
       "      <td>worse</td>\n",
       "    </tr>\n",
       "    <tr>\n",
       "      <th>193</th>\n",
       "      <td>Wroclaw</td>\n",
       "      <td>Poland</td>\n",
       "      <td>Europe</td>\n",
       "      <td>0.828000</td>\n",
       "      <td>0.826000</td>\n",
       "      <td>0.287333</td>\n",
       "      <td>0.167597</td>\n",
       "      <td>0.700961</td>\n",
       "      <td>0.404950</td>\n",
       "      <td>0.788078</td>\n",
       "      <td>...</td>\n",
       "      <td>0.397514</td>\n",
       "      <td>0.438437</td>\n",
       "      <td>0.429601</td>\n",
       "      <td>0.428155</td>\n",
       "      <td>0.546294</td>\n",
       "      <td>0.416611</td>\n",
       "      <td>0.289446</td>\n",
       "      <td>0.482309</td>\n",
       "      <td>0.522765</td>\n",
       "      <td>worse</td>\n",
       "    </tr>\n",
       "  </tbody>\n",
       "</table>\n",
       "<p>10 rows × 21 columns</p>\n",
       "</div>"
      ],
      "text/plain": [
       "         UA_Name   UA_Country   UA_Continent   Housing  Cost of Living  \\\n",
       "0       Adelaide    Australia        Oceania  0.589944        0.410222   \n",
       "1         Quebec       Canada         Europe  0.835278        0.559667   \n",
       "2       Brussels      Belgium         Europe  0.595000        0.386333   \n",
       "3    Los Angeles   California  North America  0.058611        0.395111   \n",
       "4      Saskatoon       Canada  North America  0.684389        0.449111   \n",
       "188       Nantes       France         Europe  0.746944        0.446778   \n",
       "189        Lille       France         Europe  0.725778        0.488778   \n",
       "190        Tokyo        Japan           Asia  0.517444        0.270111   \n",
       "192     Shanghai        China           Asia  0.527111        0.686556   \n",
       "193      Wroclaw       Poland         Europe  0.828000        0.826000   \n",
       "\n",
       "     Startups  Travel Connectivity   Commute  Business Freedom    Safety  ...  \\\n",
       "0    0.237389             0.117366  0.765279          0.916840  0.760411  ...   \n",
       "1    0.303833             0.074970  0.755795          0.856767  0.902905  ...   \n",
       "2    0.521278             0.728185  0.773792          0.844438  0.619130  ...   \n",
       "3    1.000000             0.351562  0.485543          0.802558  0.503841  ...   \n",
       "4    0.234944             0.061769  0.844390          0.856767  0.611621  ...   \n",
       "188  0.261444             0.462166  0.876802          0.735190  0.726853  ...   \n",
       "189  0.250944             0.572824  0.252339          0.735190  0.646739  ...   \n",
       "190  0.588556             0.801599  0.878446          0.775269  1.000000  ...   \n",
       "192  0.525056             0.663196  0.722836          0.154407  0.677526  ...   \n",
       "193  0.287333             0.167597  0.700961          0.404950  0.788078  ...   \n",
       "\n",
       "     Education  Environmental Quality   Economy  Taxation  Internet Access  \\\n",
       "0     0.503963               0.825857  0.590794  0.368848         0.383318   \n",
       "1     0.534144               0.709004  0.562573  0.682120         0.263710   \n",
       "2     0.668006               0.395419  0.435763  0.053301         0.753958   \n",
       "3     0.882043               0.411590  0.645634  0.389725         0.515890   \n",
       "4     0.525893               0.759934  0.562573  0.682120         0.446306   \n",
       "188   0.423895               0.709867  0.360959  0.142524         0.443667   \n",
       "189   0.422701               0.354962  0.360959  0.142524         0.324346   \n",
       "190   0.703561               0.552499  0.301682  0.537322         0.439995   \n",
       "192   0.564488               0.193739  0.594923  0.008164         0.187701   \n",
       "193   0.397514               0.438437  0.429601  0.428155         0.546294   \n",
       "\n",
       "     Leisure & Culture  Tolerance  Outdoors  Naive Sum   Label  \n",
       "0             0.369833   0.766579  0.676846   0.566347   worse  \n",
       "1             0.515167   0.864016  0.567604   0.809336  better  \n",
       "2             0.793778   0.603252  0.487421   0.732634  better  \n",
       "3             0.910667   0.661592  0.840441   0.430683   worse  \n",
       "4             0.000000   0.707387  0.000000   0.496402   worse  \n",
       "188           0.372333   0.673223  0.292210   0.623389  better  \n",
       "189           0.456611   0.691188  0.241154   0.484625   worse  \n",
       "190           0.926889   0.690153  0.810238   0.955654  better  \n",
       "192           0.632611   0.147738  0.701937   0.328667   worse  \n",
       "193           0.416611   0.289446  0.482309   0.522765   worse  \n",
       "\n",
       "[10 rows x 21 columns]"
      ]
     },
     "metadata": {},
     "output_type": "display_data"
    }
   ],
   "source": [
    "from Modules.dataprocessing import ProcessingData\n",
    "\n",
    "a, b = ProcessingData.prepare_data(scores)\n",
    "\n",
    "preview_table = pd.concat([a.head(), b.head()])\n",
    "display(preview_table)"
   ]
  },
  {
   "cell_type": "code",
   "execution_count": 71,
   "metadata": {
    "pycharm": {
     "name": "#%%\n"
    }
   },
   "outputs": [
    {
     "name": "stdout",
     "output_type": "stream",
     "text": [
      "Adelaide -> {'Housing': 'Mid', 'Startups': 'Bad'}\n",
      "Quebec -> {'Housing': 'Good', 'Startups': 'Mid'}\n",
      "Brussels -> {'Housing': 'Mid', 'Startups': 'Mid'}\n",
      "Los Angeles -> {'Housing': 'Bad', 'Startups': 'Bad'}\n",
      "Saskatoon -> {'Housing': 'Mid', 'Startups': 'Bad'}\n"
     ]
    }
   ],
   "source": [
    "import Modules.fuzzysys as fsys\n",
    "from Modules.membership_functions import TriangularFunction\n",
    "importlib.reload(fsys)\n",
    "\n",
    "fuzzy = fsys.FuzzySystem()\n",
    "fuzzy.add_antecedent('Housing', 'Bad', TriangularFunction(0, 0, 0.4))\n",
    "fuzzy.add_antecedent('Housing', 'Mid', TriangularFunction(0.3, 0.4, 0.8))\n",
    "fuzzy.add_antecedent('Housing', 'Good', TriangularFunction(0.7, 1, 1))\n",
    "\n",
    "fuzzy.add_antecedent('Startups', 'Bad', TriangularFunction(0, 0, 0.3))\n",
    "fuzzy.add_antecedent('Startups', 'Mid', TriangularFunction(0.2, 0.4, 0.6))\n",
    "fuzzy.add_antecedent('Startups', 'Good', TriangularFunction(0.5, 0.8, 1))\n",
    "\n",
    "for i in range(5):\n",
    "    sample = a.iloc[i].to_dict()\n",
    "    fuzzified_sample = fuzzy.fuzzify(sample)\n",
    "    print(f'{sample[\"UA_Name\"]} -> {fuzzified_sample}')"
   ]
  },
  {
   "cell_type": "code",
   "execution_count": null,
   "metadata": {},
   "outputs": [],
   "source": [
    "import Modules.fuzzysys as fsys\n",
    "from Modules.membership_functions import TrapezoidalFunction\n",
    "importlib.reload(fsys)\n",
    "\n",
    "fuzzy = fsys.FuzzySystem()\n",
    "fuzzy.add_antecedent('Housing', 'Bad', TrapezoidalFunction(0, 0.2, 0.4, 0.6))\n",
    "fuzzy.add_antecedent('Housing', 'Mid', TrapezoidalFunction(0.1, 0.3, 0.5, 0.7))\n",
    "fuzzy.add_antecedent('Housing', 'Good', TrapezoidalFunction(0.3, 0.5, 0.7, 1))\n",
    "\n",
    "fuzzy.add_antecedent('Startups', 'Bad', TrapezoidalFunction(0, 0.3, 0.6, 0.9))\n",
    "fuzzy.add_antecedent('Startups', 'Mid', TrapezoidalFunction(0.1, 0.4, 0.7, 1))\n",
    "fuzzy.add_antecedent('Startups', 'Good', TrapezoidalFunction(0.05, 0.25, 0.45, 0.65))\n",
    "\n",
    "for i in range(5):\n",
    "    sample = a.iloc[i].to_dict()\n",
    "    fuzzified_sample = fuzzy.fuzzify(sample)\n",
    "    print(f'{sample[\"UA_Name\"]} -> {fuzzified_sample}')"
   ]
  }
 ],
 "metadata": {
  "kernelspec": {
   "display_name": "Python 3 (ipykernel)",
   "language": "python",
   "name": "python3"
  },
  "language_info": {
   "codemirror_mode": {
    "name": "ipython",
    "version": 3
   },
   "file_extension": ".py",
   "mimetype": "text/x-python",
   "name": "python",
   "nbconvert_exporter": "python",
   "pygments_lexer": "ipython3",
   "version": "3.9.7"
  }
 },
 "nbformat": 4,
 "nbformat_minor": 1
}
