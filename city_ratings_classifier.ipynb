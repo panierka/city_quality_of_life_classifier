{
 "cells": [
  {
   "cell_type": "code",
   "execution_count": 6,
   "metadata": {
    "collapsed": true,
    "pycharm": {
     "name": "#%%\n"
    }
   },
   "outputs": [],
   "source": [
    "import pandas as pd"
   ]
  },
  {
   "cell_type": "code",
   "execution_count": 7,
   "outputs": [],
   "source": [
    "csv_file = open(\"uaScoresDataFrame.csv\")\n",
    "scores = pd.read_csv(csv_file)\n",
    "scores = scores.drop('id', axis=1)\n",
    "scores = scores.drop('Venture Capital', axis=1)"
   ],
   "metadata": {
    "collapsed": false,
    "pycharm": {
     "name": "#%%\n"
    }
   }
  },
  {
   "cell_type": "code",
   "execution_count": 8,
   "outputs": [
    {
     "name": "stdout",
     "output_type": "stream",
     "text": [
      "                       UA_Name               UA_Country  number\n",
      "0                      Andorra                  Andorra       6\n",
      "1                    Gibraltar                Gibraltar       5\n",
      "2                      Managua                Nicaragua       3\n",
      "3                     Tashkent               Uzbekistan       3\n",
      "4                  Belize City                   Belize       3\n",
      "5                       Panama                   Panama       3\n",
      "6                    Palo Alto               California       2\n",
      "7                       La Paz                  Bolivia       2\n",
      "8                     Portland                    Maine       2\n",
      "9                       Havana                     Cuba       2\n",
      "10                     Fukuoka                    Japan       2\n",
      "11                    San Juan              Puerto Rico       2\n",
      "12                     Bozeman                  Montana       2\n",
      "13                   Baltimore                 Maryland       2\n",
      "14                    Valletta                    Malta       2\n",
      "15             San Luis Obispo               California       1\n",
      "16                       Quito                  Ecuador       1\n",
      "17                San Salvador              El Salvador       1\n",
      "18                  Providence             Rhode Island       1\n",
      "19                    Sarajevo   Bosnia and Herzegovina       1\n",
      "20                  Phnom Penh                 Cambodia       1\n",
      "21                        Oulu                  Finland       1\n",
      "22                      Manila              Philippines       1\n",
      "23                       Lagos                  Nigeria       1\n",
      "24                      Madrid                    Spain       1\n",
      "25                        Lviv                  Ukraine       1\n",
      "26  Las Palmas de Gran Canaria                    Spain       1\n",
      "27                    Asuncion                 Paraguay       1\n",
      "28                       Kyoto                    Japan       1\n",
      "29                    Kingston                  Jamaica       1\n",
      "30                   Kathmandu                    Nepal       1\n",
      "31                   Hyderabad                    India       1\n",
      "32              Guatemala City                Guatemala       1\n",
      "33                Fort Collins                 Colorado       1\n",
      "34               Dar es Salaam                 Tanzania       1\n",
      "35                  Casablanca                  Morocco       1\n",
      "36                     Caracas                Venezuela       1\n",
      "37                        Bali                Indonesia       1\n",
      "38                        Baku               Azerbaijan       1\n",
      "39                     Yerevan                  Armenia       1\n"
     ]
    }
   ],
   "source": [
    "def check_zero(dataset):\n",
    "    invalid_rows = []\n",
    "    for element in dataset.columns.tolist():\n",
    "        invalid = dataset[dataset[element] == 0.0]\n",
    "        invalid_rows.append(invalid[['UA_Name','UA_Country']])\n",
    "    df = pd.concat(invalid_rows).reset_index(drop=True).value_counts()\n",
    "    return df\n",
    "results = check_zero(scores).to_frame().reset_index().rename(columns={0:\"number\"})\n",
    "print(results)"
   ],
   "metadata": {
    "collapsed": false,
    "pycharm": {
     "name": "#%%\n"
    }
   }
  },
  {
   "cell_type": "code",
   "execution_count": 9,
   "outputs": [],
   "source": [
    "scores = scores[(scores != 0).all(1)]"
   ],
   "metadata": {
    "collapsed": false,
    "pycharm": {
     "name": "#%%\n"
    }
   }
  },
  {
   "cell_type": "code",
   "execution_count": 10,
   "outputs": [],
   "source": [
    "weights_data = {\n",
    "    'Housing' : 1.5,\n",
    "    'Cost of Living' : 1.5,\n",
    "    'Startups' : 0.5,\n",
    "    'Business Freedom' : 0.8,\n",
    "    'Safety' : 1.5,\n",
    "    'Healthcare' : 1.5,\n",
    "    'Education' : 0.5,\n",
    "    'Travel Connectivity' : 1.5,\n",
    "}\n",
    "\n",
    "weights_vector = pd.Series(0.0, index=scores.columns[3:-1])\n",
    "for i in range(len(weights_vector)):\n",
    "    row_name = weights_vector.index[i]\n",
    "    weights_vector[i] = weights_data.get(row_name, 1)"
   ],
   "metadata": {
    "collapsed": false,
    "pycharm": {
     "name": "#%%\n"
    }
   }
  },
  {
   "cell_type": "code",
   "execution_count": 11,
   "outputs": [],
   "source": [
    "summable_values = list(scores)\n",
    "if 'Naive Sum' in summable_values:\n",
    "    summable_values.remove('Naive Sum')\n",
    "weighted_scores = scores.copy()\n",
    "weighted_scores = weighted_scores * weights_vector\n",
    "scores['Naive Sum'] = weighted_scores[summable_values].sum(numeric_only=True, axis=1)"
   ],
   "metadata": {
    "collapsed": false,
    "pycharm": {
     "name": "#%%\n"
    }
   }
  },
  {
   "cell_type": "code",
   "execution_count": 33,
   "outputs": [],
   "source": [
    "# scores['Naive Sum']\n",
    "# better, worse\n",
    "\n",
    "midpoint = scores['Naive Sum'].quantile()\n",
    "scores['Label'] = ''\n",
    "scores.loc[scores['Naive Sum'] < midpoint, 'Label'] = 'worse'\n",
    "scores.loc[scores['Naive Sum'] >= midpoint, 'Label'] = 'better'"
   ],
   "metadata": {
    "collapsed": false,
    "pycharm": {
     "name": "#%%\n"
    }
   }
  },
  {
   "cell_type": "code",
   "execution_count": 42,
   "outputs": [
    {
     "data": {
      "text/plain": "<matplotlib.collections.PathCollection at 0x12cca678940>"
     },
     "execution_count": 42,
     "metadata": {},
     "output_type": "execute_result"
    },
    {
     "data": {
      "text/plain": "<Figure size 720x432 with 1 Axes>",
      "image/png": "[encoded data removed]"
     },
     "metadata": {
      "needs_background": "light"
     },
     "output_type": "display_data"
    }
   ],
   "source": [
    "import matplotlib.pyplot as plt\n",
    "import numpy as np\n",
    "\n",
    "fig, ax = plt.subplots()\n",
    "fig.set_size_inches(10, 6)\n",
    "vals = scores['Naive Sum'].sort_values()\n",
    "color = np.where(vals >= midpoint, 'b', 'r')\n",
    "ax.scatter(scores.index, vals, c=color, marker='+')"
   ],
   "metadata": {
    "collapsed": false,
    "pycharm": {
     "name": "#%%\n"
    }
   }
  },
  {
   "cell_type": "code",
   "execution_count": 46,
   "outputs": [
    {
     "name": "stdout",
     "output_type": "stream",
     "text": [
      "abc\n"
     ]
    }
   ],
   "source": [
    "from Modules.dataprocessing import ProcessingData\n",
    "\n",
    "a, b = ProcessingData.prepare_data(scores)\n",
    "\n",
    "pd.concat([a.head(), b.head()])"
   ],
   "metadata": {
    "collapsed": false,
    "pycharm": {
     "name": "#%%\n"
    }
   }
  }
 ],
 "metadata": {
  "kernelspec": {
   "display_name": "Python 3",
   "language": "python",
   "name": "python3"
  },
  "language_info": {
   "codemirror_mode": {
    "name": "ipython",
    "version": 2
   },
   "file_extension": ".py",
   "mimetype": "text/x-python",
   "name": "python",
   "nbconvert_exporter": "python",
   "pygments_lexer": "ipython2",
   "version": "2.7.6"
  }
 },
 "nbformat": 4,
 "nbformat_minor": 0
}