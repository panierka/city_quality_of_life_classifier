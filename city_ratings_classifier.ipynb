{
 "cells": [
  {
   "cell_type": "code",
   "execution_count": 113,
   "metadata": {
    "pycharm": {
     "name": "#%%\n"
    }
   },
   "outputs": [
    {
     "name": "stdout",
     "output_type": "stream",
     "text": [
      "The autoreload extension is already loaded. To reload it, use:\n",
      "  %reload_ext autoreload\n"
     ]
    }
   ],
   "source": [
    "import pandas as pd\n",
    "from IPython.display import display, HTML\n",
    "%load_ext autoreload\n",
    "%autoreload 2\n",
    "\n",
    "import importlib"
   ]
  },
  {
   "cell_type": "code",
   "execution_count": 114,
   "metadata": {
    "pycharm": {
     "name": "#%%\n"
    }
   },
   "outputs": [],
   "source": [
    "csv_file = open(\"uaScoresDataFrame.csv\")\n",
    "scores = pd.read_csv(csv_file)\n",
    "scores = scores.drop('id', axis=1)\n",
    "scores = scores.drop('Venture Capital', axis=1)"
   ]
  },
  {
   "cell_type": "code",
   "execution_count": 115,
   "metadata": {
    "pycharm": {
     "name": "#%%\n"
    }
   },
   "outputs": [
    {
     "name": "stdout",
     "output_type": "stream",
     "text": [
      "                       UA_Name               UA_Country  number\n",
      "0                      Andorra                  Andorra       6\n",
      "1                    Gibraltar                Gibraltar       5\n",
      "2                      Managua                Nicaragua       3\n",
      "3                     Tashkent               Uzbekistan       3\n",
      "4                  Belize City                   Belize       3\n",
      "5                       Panama                   Panama       3\n",
      "6                    Palo Alto               California       2\n",
      "7                       La Paz                  Bolivia       2\n",
      "8                     Portland                    Maine       2\n",
      "9                       Havana                     Cuba       2\n",
      "10                     Fukuoka                    Japan       2\n",
      "11                    San Juan              Puerto Rico       2\n",
      "12                     Bozeman                  Montana       2\n",
      "13                   Baltimore                 Maryland       2\n",
      "14                    Valletta                    Malta       2\n",
      "15             San Luis Obispo               California       1\n",
      "16                       Quito                  Ecuador       1\n",
      "17                San Salvador              El Salvador       1\n",
      "18                  Providence             Rhode Island       1\n",
      "19                    Sarajevo   Bosnia and Herzegovina       1\n",
      "20                  Phnom Penh                 Cambodia       1\n",
      "21                        Oulu                  Finland       1\n",
      "22                      Manila              Philippines       1\n",
      "23                       Lagos                  Nigeria       1\n",
      "24                      Madrid                    Spain       1\n",
      "25                        Lviv                  Ukraine       1\n",
      "26  Las Palmas de Gran Canaria                    Spain       1\n",
      "27                    Asuncion                 Paraguay       1\n",
      "28                       Kyoto                    Japan       1\n",
      "29                    Kingston                  Jamaica       1\n",
      "30                   Kathmandu                    Nepal       1\n",
      "31                   Hyderabad                    India       1\n",
      "32              Guatemala City                Guatemala       1\n",
      "33                Fort Collins                 Colorado       1\n",
      "34               Dar es Salaam                 Tanzania       1\n",
      "35                  Casablanca                  Morocco       1\n",
      "36                     Caracas                Venezuela       1\n",
      "37                        Bali                Indonesia       1\n",
      "38                        Baku               Azerbaijan       1\n",
      "39                     Yerevan                  Armenia       1\n"
     ]
    }
   ],
   "source": [
    "def check_zero(dataset):\n",
    "    invalid_rows = []\n",
    "    for element in dataset.columns.tolist():\n",
    "        invalid = dataset[dataset[element] == 0.0]\n",
    "        invalid_rows.append(invalid[['UA_Name','UA_Country']])\n",
    "    df = pd.concat(invalid_rows).reset_index(drop=True).value_counts()\n",
    "    return df\n",
    "results = check_zero(scores).to_frame().reset_index().rename(columns={0:\"number\"})\n",
    "print(results)"
   ]
  },
  {
   "cell_type": "code",
   "execution_count": 116,
   "metadata": {
    "pycharm": {
     "name": "#%%\n"
    }
   },
   "outputs": [],
   "source": [
    "scores = scores[(scores != 0).all(1)]"
   ]
  },
  {
   "cell_type": "code",
   "execution_count": 117,
   "metadata": {
    "pycharm": {
     "name": "#%%\n"
    }
   },
   "outputs": [],
   "source": [
    "weights_data = {\n",
    "    'Housing' : 1.5,\n",
    "    'Cost of Living' : 1.5,\n",
    "    'Startups' : 0.5,\n",
    "    'Business Freedom' : 0.8,\n",
    "    'Safety' : 1.5,\n",
    "    'Healthcare' : 1.5,\n",
    "    'Education' : 0.5,\n",
    "    'Travel Connectivity' : 1.5,\n",
    "}\n",
    "\n",
    "weights_vector = pd.Series(0.0, index=scores.columns[3:-1])\n",
    "for i in range(len(weights_vector)):\n",
    "    row_name = weights_vector.index[i]\n",
    "    weights_vector[i] = weights_data.get(row_name, 1)"
   ]
  },
  {
   "cell_type": "code",
   "execution_count": 118,
   "metadata": {
    "pycharm": {
     "name": "#%%\n"
    }
   },
   "outputs": [],
   "source": [
    "summable_values = list(scores)\n",
    "if 'Naive Sum' in summable_values:\n",
    "    summable_values.remove('Naive Sum')\n",
    "weighted_scores = scores.copy()\n",
    "weighted_scores = weighted_scores * weights_vector\n",
    "scores['Naive Sum'] = weighted_scores[summable_values].sum(numeric_only=True, axis=1)"
   ]
  },
  {
   "cell_type": "code",
   "execution_count": 119,
   "metadata": {
    "pycharm": {
     "name": "#%%\n"
    }
   },
   "outputs": [],
   "source": [
    "# scores['Naive Sum']\n",
    "# better, worse\n",
    "\n",
    "midpoint = scores['Naive Sum'].quantile()\n",
    "scores['Label'] = ''\n",
    "scores.loc[scores['Naive Sum'] < midpoint, 'Label'] = 'worse'\n",
    "scores.loc[scores['Naive Sum'] >= midpoint, 'Label'] = 'better'"
   ]
  },
  {
   "cell_type": "code",
   "execution_count": 120,
   "metadata": {
    "pycharm": {
     "name": "#%%\n"
    }
   },
   "outputs": [
    {
     "data": {
      "text/plain": [
       "<matplotlib.collections.PathCollection at 0x28f8c0eaf70>"
      ]
     },
     "execution_count": 120,
     "metadata": {},
     "output_type": "execute_result"
    },
    {
     "data": {
      "image/png": "[encoded data removed]",
      "text/plain": [
       "<Figure size 720x432 with 1 Axes>"
      ]
     },
     "metadata": {
      "needs_background": "light"
     },
     "output_type": "display_data"
    }
   ],
   "source": [
    "import matplotlib.pyplot as plt\n",
    "import numpy as np\n",
    "\n",
    "fig, ax = plt.subplots()\n",
    "fig.set_size_inches(10, 6)\n",
    "vals = scores['Naive Sum'].sort_values()\n",
    "colors = np.where(vals >= midpoint, 'b', 'r')\n",
    "ax.scatter(scores.index, vals, c=colors, marker='+')"
   ]
  },
  {
   "cell_type": "markdown",
   "metadata": {
    "pycharm": {
     "name": "#%% md\n"
    }
   },
   "source": []
  },
  {
   "cell_type": "code",
   "execution_count": 121,
   "metadata": {
    "pycharm": {
     "name": "#%%\n"
    }
   },
   "outputs": [],
   "source": [
    "from Modules.dataprocessing import ProcessingData\n",
    "ProcessingData.normalize(scores)\n",
    "a, b = ProcessingData.prepare_data(scores)\n",
    "\n",
    "preview_table = pd.concat([a.head(), b.head()])"
   ]
  },
  {
   "cell_type": "code",
   "execution_count": 131,
   "metadata": {
    "pycharm": {
     "name": "#%%\n"
    },
    "scrolled": true
   },
   "outputs": [
    {
     "name": "stdout",
     "output_type": "stream",
     "text": [
      "FOR NORM = ZadehNorm, DEFUZZIFICATION METHOD = fom, THRESHOLD = 70\n",
      " > accuracy: 78.8%\n",
      " > recall: 69.0%\n",
      " > specificity: 88.5%\n",
      " > precision: 85.7%\n",
      "----------------------------------------------------------------------------------\n",
      "FOR NORM = ZadehNorm, DEFUZZIFICATION METHOD = mom, THRESHOLD = 70\n",
      " > accuracy: 79.2%\n",
      " > recall: 71.7%\n",
      " > specificity: 86.7%\n",
      " > precision: 84.4%\n",
      "----------------------------------------------------------------------------------\n",
      "FOR NORM = ZadehNorm, DEFUZZIFICATION METHOD = lom, THRESHOLD = 70\n",
      " > accuracy: 69.5%\n",
      " > recall: 92.9%\n",
      " > specificity: 46.0%\n",
      " > precision: 63.3%\n",
      "----------------------------------------------------------------------------------\n",
      "FOR NORM = ZadehNorm, DEFUZZIFICATION METHOD = centroid, THRESHOLD = 70\n",
      " > accuracy: 79.2%\n",
      " > recall: 71.7%\n",
      " > specificity: 86.7%\n",
      " > precision: 84.4%\n",
      "----------------------------------------------------------------------------------\n",
      "FOR NORM = ExtendedMangerNorm, DEFUZZIFICATION METHOD = fom, THRESHOLD = 70\n",
      " > accuracy: 78.8%\n",
      " > recall: 69.0%\n",
      " > specificity: 88.5%\n",
      " > precision: 85.7%\n",
      "----------------------------------------------------------------------------------\n",
      "FOR NORM = ExtendedMangerNorm, DEFUZZIFICATION METHOD = mom, THRESHOLD = 70\n",
      " > accuracy: 79.2%\n",
      " > recall: 71.7%\n",
      " > specificity: 86.7%\n",
      " > precision: 84.4%\n",
      "----------------------------------------------------------------------------------\n",
      "FOR NORM = ExtendedMangerNorm, DEFUZZIFICATION METHOD = lom, THRESHOLD = 70\n",
      " > accuracy: 69.5%\n",
      " > recall: 92.9%\n",
      " > specificity: 46.0%\n",
      " > precision: 63.3%\n",
      "----------------------------------------------------------------------------------\n",
      "FOR NORM = ExtendedMangerNorm, DEFUZZIFICATION METHOD = centroid, THRESHOLD = 70\n",
      " > accuracy: 79.2%\n",
      " > recall: 71.7%\n",
      " > specificity: 86.7%\n",
      " > precision: 84.4%\n",
      "----------------------------------------------------------------------------------\n"
     ]
    }
   ],
   "source": [
    "from itertools import product\n",
    "import Modules.fuzzytesting as test\n",
    "from Modules.fuzzytesting import FuzzyTest\n",
    "importlib.reload(test)\n",
    "import Modules.fuzzysys as fsys\n",
    "from Modules.norms import ZadehNorm\n",
    "from Modules.membership_functions import TriangularFunction, TrapezoidalFunction\n",
    "importlib.reload(fsys)\n",
    "import Modules.rule as rule\n",
    "from Modules.rule import RuleCondition as R\n",
    "importlib.reload(rule)\n",
    "\n",
    "from Modules.norms import ZadehNorm, ExtendedMangerNorm\n",
    "\n",
    "ling1 = 'Bad'\n",
    "ling2 = 'Mid'\n",
    "ling3 = 'Good'\n",
    "\n",
    "fuzzy = fsys.FuzzySystem()\n",
    "fuzzy.add_antecedent('Housing', ling1, TriangularFunction(0, 0.3, 0.55))\n",
    "fuzzy.add_antecedent('Housing', ling2, TriangularFunction(0.5, 0.6, 0.7))\n",
    "fuzzy.add_antecedent('Housing', ling3, TriangularFunction(0.6, 0.8, 1))\n",
    "\n",
    "fuzzy.add_antecedent('Cost of Living', ling1, TriangularFunction(0, 0.25, 0.47))\n",
    "fuzzy.add_antecedent('Cost of Living', ling2, TriangularFunction(0.4, 0.55, 0.7))\n",
    "fuzzy.add_antecedent('Cost of Living', ling3, TriangularFunction(0.6, 0.75, 1))\n",
    "\n",
    "fuzzy.add_antecedent('Safety', ling1, TriangularFunction(0, 0.3, 0.6))\n",
    "fuzzy.add_antecedent('Safety', ling2, TriangularFunction(0.5, 0.6, 0.7))\n",
    "fuzzy.add_antecedent('Safety', ling3, TriangularFunction(0.6, 0.8, 1))\n",
    "\n",
    "fuzzy.add_antecedent('Healthcare', ling1, TriangularFunction(0, 0.25, 0.5))\n",
    "fuzzy.add_antecedent('Healthcare', ling2, TriangularFunction(0.4, 0.6, 0.8))\n",
    "fuzzy.add_antecedent('Healthcare', ling3, TriangularFunction(0.7, 0.85, 1))\n",
    "\n",
    "fuzzy.add_antecedent('Travel Connectivity', ling1, TrapezoidalFunction(0, 0.07, 0.14, 0.2))\n",
    "fuzzy.add_antecedent('Travel Connectivity', ling2, TrapezoidalFunction(0.15, 0.25, 0.33, 0.4))\n",
    "fuzzy.add_antecedent('Travel Connectivity', ling3, TrapezoidalFunction(0.35, 0.5, 0.7, 1))\n",
    "\n",
    "fuzzy.add_antecedent('Commute', ling1, TrapezoidalFunction(0, 0.23, 0.46, 0.7))\n",
    "fuzzy.add_antecedent('Commute', ling2, TrapezoidalFunction(0.6, 0.67, 0.74, 0.8))\n",
    "fuzzy.add_antecedent('Commute', ling3, TrapezoidalFunction(0.7, 0.8, 0.9, 1))\n",
    "\n",
    "fuzzy.add_antecedent('Education', ling1, TriangularFunction(0, 0.2, 0.4))\n",
    "fuzzy.add_antecedent('Education', ling2, TriangularFunction(0.3, 0.42, 0.5))\n",
    "fuzzy.add_antecedent('Education', ling3, TriangularFunction(0.4, 0.7, 1))\n",
    "\n",
    "fuzzy.add_antecedent('Environmental Quality', ling1, TriangularFunction(0, 0.25, 0.5))\n",
    "fuzzy.add_antecedent('Environmental Quality', ling2, TriangularFunction(0.45, 0.52, 0.7))\n",
    "fuzzy.add_antecedent('Environmental Quality', ling3, TriangularFunction(0.6, 0.8, 1))\n",
    "\n",
    "fuzzy.add_antecedent('Economy', ling1, TriangularFunction(0, 0.25, 0.5))\n",
    "fuzzy.add_antecedent('Economy', ling2, TriangularFunction(0.4, 0.5, 0.6))\n",
    "fuzzy.add_antecedent('Economy', ling3, TriangularFunction(0.5, 0.75, 1))\n",
    "\n",
    "fuzzy.add_antecedent('Taxation', ling1, TrapezoidalFunction(0, 0.13, 0.26, 0.4))\n",
    "fuzzy.add_antecedent('Taxation', ling2, TrapezoidalFunction(0.3, 0.37, 0.44, 0.5))\n",
    "fuzzy.add_antecedent('Taxation', ling3, TrapezoidalFunction(0.4, 0.6, 0.8, 1))\n",
    "\n",
    "fuzzy.add_antecedent('Internet Access', ling1, TriangularFunction(0, 0.2, 0.4))\n",
    "fuzzy.add_antecedent('Internet Access', ling2, TriangularFunction(0.3, 0.45, 0.6))\n",
    "fuzzy.add_antecedent('Internet Access', ling3, TriangularFunction(0.5, 0.75, 1))\n",
    "\n",
    "fuzzy.add_antecedent('Leisure & Culture', ling1, TriangularFunction(0, 0.25, 0.5))\n",
    "fuzzy.add_antecedent('Leisure & Culture', ling2, TriangularFunction(0.4, 0.52, 0.7))\n",
    "fuzzy.add_antecedent('Leisure & Culture', ling3, TriangularFunction(0.6, 0.8, 1))\n",
    "\n",
    "fuzzy.add_rule((R('Housing', ling3) & R('Cost of Living', ling3) & R('Safety', ling3)) | (R('Housing', ling3) & R('Cost of Living', ling3) & R('Healthcare', ling3)) | (R('Housing', ling3) & R('Cost of Living', ling3) & R('Travel Connectivity', ling3)) | (R('Housing', ling3) & R('Safety', ling3) & R('Healthcare', ling3)) | (R('Housing', ling3) & R('Safety', ling3) & R('Travel Connectivity', ling3)) | (R('Housing', ling3) & R('Healthcare', ling3) & R('Travel Connectivity', ling3)) | (R('Healthcare', ling3) & R('Cost of Living', ling3) & R('Safety', ling3)) | (R('Travel Connectivity', ling3) & R('Cost of Living', ling3) & R('Safety', ling3)) | (R('Housing', ling3) & R('Cost of Living', ling3) & R('Safety', ling3)) | (R('Healthcare', ling3) & R('Cost of Living', ling3) & R('Travel Connectivity', ling3)) | (R('Safety', ling3) & R('Cost of Living', ling3) & R('Travel Connectivity', ling3)) | (R('Healthcare', ling3) & R('Cost of Living', ling3) & R('Travel Connectivity', ling3)) | (R('Travel Connectivity', ling3) & R('Healthcare', ling3) & R('Safety', ling3)),ling3)\n",
    "fuzzy.add_rule((R('Housing', ling2) & R('Cost of Living', ling2) & R('Safety', ling2)) | (R('Housing', ling2) & R('Cost of Living', ling2) & R('Healthcare', ling2)) | (R('Housing', ling2) & R('Cost of Living', ling2) & R('Travel Connectivity', ling2)) | (R('Housing', ling2) & R('Safety', ling2) & R('Healthcare', ling2)) | (R('Housing', ling2) & R('Safety', ling2) & R('Travel Connectivity', ling2)) | (R('Housing', ling2) & R('Healthcare', ling2) & R('Travel Connectivity', ling2)) | (R('Healthcare', ling2) & R('Cost of Living', ling2) & R('Safety', ling2)) | (R('Travel Connectivity', ling2) & R('Cost of Living', ling2) & R('Safety', ling2)) | (R('Housing', ling2) & R('Cost of Living', ling2) & R('Safety', ling2)) | (R('Healthcare', ling2) & R('Cost of Living', ling2) & R('Travel Connectivity', ling2)) | (R('Safety', ling2) & R('Cost of Living', ling2) & R('Travel Connectivity', ling2)) | (R('Healthcare', ling2) & R('Cost of Living', ling2) & R('Travel Connectivity', ling2)) | (R('Travel Connectivity', ling2) & R('Healthcare', ling2) & R('Safety', ling2)),ling2)\n",
    "fuzzy.add_rule((R('Housing', ling1) & R('Cost of Living', ling1) & R('Safety', ling1)) | (R('Housing', ling1) & R('Cost of Living', ling1) & R('Healthcare', ling1)) | (R('Housing', ling1) & R('Cost of Living', ling1) & R('Travel Connectivity', ling1)) | (R('Housing', ling1) & R('Safety', ling1) & R('Healthcare', ling1)) | (R('Housing', ling1) & R('Safety', ling1) & R('Travel Connectivity', ling1)) | (R('Housing', ling1) & R('Healthcare', ling1) & R('Travel Connectivity', ling1)) | (R('Healthcare', ling1) & R('Cost of Living', ling1) & R('Safety', ling1)) | (R('Travel Connectivity', ling1) & R('Cost of Living', ling1) & R('Safety', ling1)) | (R('Housing', ling1) & R('Cost of Living', ling1) & R('Safety', ling1)) | (R('Healthcare', ling1) & R('Cost of Living', ling1) & R('Travel Connectivity', ling1)) | (R('Safety', ling1) & R('Cost of Living', ling1) & R('Travel Connectivity', ling1)) | (R('Healthcare', ling1) & R('Cost of Living', ling1) & R('Travel Connectivity', ling1)) | (R('Travel Connectivity', ling1) & R('Healthcare', ling1) & R('Safety', ling1)),ling1)\n",
    "fuzzy.add_rule(((((R('Housing', ling3) & ~R('Cost of Living', ling3) & ~R('Safety', ling3) & ~R('Healthcare', ling3) & ~R('Travel Connectivity', ling3)) | (~R('Housing', ling3) & R('Cost of Living', ling3) & ~R('Safety', ling3) & ~R('Healthcare', ling3) & ~R('Travel Connectivity', ling3)) | (~R('Housing', ling3) & ~R('Cost of Living', ling3) & R('Safety', ling3) & ~R('Healthcare', ling3) & ~R('Travel Connectivity', ling3)) | (~R('Housing', ling3) & ~R('Cost of Living', ling3) & ~R('Safety', ling3) & R('Healthcare', ling3) & ~R('Travel Connectivity', ling3)) | (~R('Housing', ling3) & ~R('Cost of Living', ling3) & ~R('Safety', ling3) & ~R('Healthcare', ling3) & R('Travel Connectivity', ling3))) & ((R('Commute', ling3) & R('Education', ling3) & R('Environmental Quality', ling3) & R('Economy', ling3) & R('Taxation', ling3)) | (R('Internet Access', ling3) & R('Leisure & Culture', ling3) & R('Environmental Quality', ling3) & R('Economy', ling3) & R('Taxation', ling3)) | (R('Internet Access', ling3) & R('Education', ling3) & R('Leisure & Culture', ling3) & R('Environmental Quality', ling3) & R('Taxation', ling3)) | (R('Internet Access', ling3) & R('Education', ling3) & R('Environmental Quality', ling3) & R('Economy', ling3) & R('Leisure & Culture', ling3)) | (R('Leisure & Culture', ling3) & R('Education', ling3) & R('Environmental Quality', ling3) & R('Economy', ling3) & R('Taxation', ling3)) | (R('Internet Access', ling3) & R('Education', ling3) & R('Environmental Quality', ling3) & R('Economy', ling3) & R('Taxation', ling3)) | (R('Commute', ling3) & R('Internet Access', ling3) & R('Leisure & Culture', ling3) & R('Economy', ling3) & R('Taxation', ling3)) | (R('Commute', ling3) & R('Internet Access', ling3) & R('Environmental Quality', ling3) & R('Leisure & Culture', ling3) & R('Taxation', ling3)) | (R('Commute', ling3) & R('Internet Access', ling3) & R('Environmental Quality', ling3) & R('Economy', ling3) & R('Leisure & Culture', ling3)) | (R('Commute', ling3) & R('Leisure & Culture', ling3) & R('Environmental Quality', ling3) & R('Economy', ling3) & R('Taxation', ling3)) | (R('Commute', ling3) & R('Internet Access', ling3) & R('Environmental Quality', ling3) & R('Economy', ling3) & R('Taxation', ling3)) | (R('Commute', ling3) & R('Education', ling3) & R('Internet Access', ling3) & R('Leisure & Culture', ling3) & R('Taxation', ling3)) & (R('Commute', ling3) & R('Education', ling3) & R('Internet Access', ling3) & R('Economy', ling3) & R('Leisure & Culture', ling3)) | (R('Commute', ling3) & R('Education', ling3) & R('Leisure & Culture', ling3) & R('Economy', ling3) & R('Taxation', ling3)) | (R('Commute', ling3) & R('Education', ling3) & R('Internet Access', ling3) & R('Economy', ling3) & R('Taxation', ling3)) | (R('Commute', ling3) & R('Education', ling3) & R('Environmental Quality', ling3) & R('Internet Access', ling3) & R('Leisure & Culture', ling3)) | (R('Commute', ling3) & R('Education', ling3) & R('Environmental Quality', ling3) & R('Leisure & Culture', ling3) & R('Taxation', ling3)) | (R('Commute', ling3) & R('Education', ling3) & R('Environmental Quality', ling3) & R('Internet Access', ling3) & R('Taxation', ling3)) | (R('Commute', ling3) & R('Education', ling3) & R('Environmental Quality', ling3) & R('Economy', ling3) & R('Leisure & Culture', ling3)) | (R('Commute', ling3) & R('Education', ling3) & R('Environmental Quality', ling3) & R('Economy', ling3) & R('Internet Access', ling3)) | (R('Commute', ling3) & R('Education', ling3) & R('Environmental Quality', ling3) & R('Economy', ling3) & R('Taxation', ling3))))),ling3)\n",
    "fuzzy.add_rule(((((R('Housing', ling2) & ~R('Cost of Living', ling2) & ~R('Safety', ling2) & ~R('Healthcare', ling2) & ~R('Travel Connectivity', ling2)) | (~R('Housing', ling2) & R('Cost of Living', ling2) & ~R('Safety', ling2) & ~R('Healthcare', ling2) & ~R('Travel Connectivity', ling2)) | (~R('Housing', ling2) & ~R('Cost of Living', ling2) & R('Safety', ling2) & ~R('Healthcare', ling2) & ~R('Travel Connectivity', ling2)) | (~R('Housing', ling2) & ~R('Cost of Living', ling2) & ~R('Safety', ling2) & R('Healthcare', ling2) & ~R('Travel Connectivity', ling2)) | (~R('Housing', ling2) & ~R('Cost of Living', ling2) & ~R('Safety', ling2) & ~R('Healthcare', ling2) & R('Travel Connectivity', ling2))) & ((R('Commute', ling2) & R('Education', ling2) & R('Environmental Quality', ling2) & R('Economy', ling2) & R('Taxation', ling2)) | (R('Internet Access', ling2) & R('Leisure & Culture', ling2) & R('Environmental Quality', ling2) & R('Economy', ling2) & R('Taxation', ling2)) | (R('Internet Access', ling2) & R('Education', ling2) & R('Leisure & Culture', ling2) & R('Environmental Quality', ling2) & R('Taxation', ling2)) | (R('Internet Access', ling2) & R('Education', ling2) & R('Environmental Quality', ling2) & R('Economy', ling2) & R('Leisure & Culture', ling2)) | (R('Leisure & Culture', ling2) & R('Education', ling2) & R('Environmental Quality', ling2) & R('Economy', ling2) & R('Taxation', ling2)) | (R('Internet Access', ling2) & R('Education', ling2) & R('Environmental Quality', ling2) & R('Economy', ling2) & R('Taxation', ling2)) | (R('Commute', ling2) & R('Internet Access', ling2) & R('Leisure & Culture', ling2) & R('Economy', ling2) & R('Taxation', ling2)) | (R('Commute', ling2) & R('Internet Access', ling2) & R('Environmental Quality', ling2) & R('Leisure & Culture', ling2) & R('Taxation', ling2)) | (R('Commute', ling2) & R('Internet Access', ling2) & R('Environmental Quality', ling2) & R('Economy', ling2) & R('Leisure & Culture', ling2)) | (R('Commute', ling2) & R('Leisure & Culture', ling2) & R('Environmental Quality', ling2) & R('Economy', ling2) & R('Taxation', ling2)) | (R('Commute', ling2) & R('Internet Access', ling2) & R('Environmental Quality', ling2) & R('Economy', ling2) & R('Taxation', ling2)) | (R('Commute', ling2) & R('Education', ling2) & R('Internet Access', ling2) & R('Leisure & Culture', ling2) & R('Taxation', ling2)) & (R('Commute', ling2) & R('Education', ling2) & R('Internet Access', ling2) & R('Economy', ling2) & R('Leisure & Culture', ling2)) | (R('Commute', ling2) & R('Education', ling2) & R('Leisure & Culture', ling2) & R('Economy', ling2) & R('Taxation', ling2)) | (R('Commute', ling2) & R('Education', ling2) & R('Internet Access', ling2) & R('Economy', ling2) & R('Taxation', ling2)) | (R('Commute', ling2) & R('Education', ling2) & R('Environmental Quality', ling2) & R('Internet Access', ling2) & R('Leisure & Culture', ling2)) | (R('Commute', ling2) & R('Education', ling2) & R('Environmental Quality', ling2) & R('Leisure & Culture', ling2) & R('Taxation', ling2)) | (R('Commute', ling2) & R('Education', ling2) & R('Environmental Quality', ling2) & R('Internet Access', ling2) & R('Taxation', ling2)) | (R('Commute', ling2) & R('Education', ling2) & R('Environmental Quality', ling2) & R('Economy', ling2) & R('Leisure & Culture', ling2)) | (R('Commute', ling2) & R('Education', ling2) & R('Environmental Quality', ling2) & R('Economy', ling2) & R('Internet Access', ling2)) | (R('Commute', ling2) & R('Education', ling2) & R('Environmental Quality', ling2) & R('Economy', ling2) & R('Taxation', ling2))))),ling2)\n",
    "fuzzy.add_rule(((((R('Housing', ling1) & ~R('Cost of Living', ling1) & ~R('Safety', ling1) & ~R('Healthcare', ling1) & ~R('Travel Connectivity', ling1)) | (~R('Housing', ling1) & R('Cost of Living', ling1) & ~R('Safety', ling1) & ~R('Healthcare', ling1) & ~R('Travel Connectivity', ling1)) | (~R('Housing', ling1) & ~R('Cost of Living', ling1) & R('Safety', ling1) & ~R('Healthcare', ling1) & ~R('Travel Connectivity', ling1)) | (~R('Housing', ling1) & ~R('Cost of Living', ling1) & ~R('Safety', ling1) & R('Healthcare', ling1) & ~R('Travel Connectivity', ling1)) | (~R('Housing', ling1) & ~R('Cost of Living', ling1) & ~R('Safety', ling1) & ~R('Healthcare', ling1) & R('Travel Connectivity', ling1))) & ((R('Commute', ling1) & R('Education', ling1) & R('Environmental Quality', ling1) & R('Economy', ling1) & R('Taxation', ling1)) | (R('Internet Access', ling1) & R('Leisure & Culture', ling1) & R('Environmental Quality', ling1) & R('Economy', ling1) & R('Taxation', ling1)) | (R('Internet Access', ling1) & R('Education', ling1) & R('Leisure & Culture', ling1) & R('Environmental Quality', ling1) & R('Taxation', ling1)) | (R('Internet Access', ling1) & R('Education', ling1) & R('Environmental Quality', ling1) & R('Economy', ling1) & R('Leisure & Culture', ling1)) | (R('Leisure & Culture', ling1) & R('Education', ling1) & R('Environmental Quality', ling1) & R('Economy', ling1) & R('Taxation', ling1)) | (R('Internet Access', ling1) & R('Education', ling1) & R('Environmental Quality', ling1) & R('Economy', ling1) & R('Taxation', ling1)) | (R('Commute', ling1) & R('Internet Access', ling1) & R('Leisure & Culture', ling1) & R('Economy', ling1) & R('Taxation', ling1)) | (R('Commute', ling1) & R('Internet Access', ling1) & R('Environmental Quality', ling1) & R('Leisure & Culture', ling1) & R('Taxation', ling1)) | (R('Commute', ling1) & R('Internet Access', ling1) & R('Environmental Quality', ling1) & R('Economy', ling1) & R('Leisure & Culture', ling1)) | (R('Commute', ling1) & R('Leisure & Culture', ling1) & R('Environmental Quality', ling1) & R('Economy', ling1) & R('Taxation', ling1)) | (R('Commute', ling1) & R('Internet Access', ling1) & R('Environmental Quality', ling1) & R('Economy', ling1) & R('Taxation', ling1)) | (R('Commute', ling1) & R('Education', ling1) & R('Internet Access', ling1) & R('Leisure & Culture', ling1) & R('Taxation', ling1)) & (R('Commute', ling1) & R('Education', ling1) & R('Internet Access', ling1) & R('Economy', ling1) & R('Leisure & Culture', ling1)) | (R('Commute', ling1) & R('Education', ling1) & R('Leisure & Culture', ling1) & R('Economy', ling1) & R('Taxation', ling1)) | (R('Commute', ling1) & R('Education', ling1) & R('Internet Access', ling1) & R('Economy', ling1) & R('Taxation', ling1)) | (R('Commute', ling1) & R('Education', ling1) & R('Environmental Quality', ling1) & R('Internet Access', ling1) & R('Leisure & Culture', ling1)) | (R('Commute', ling1) & R('Education', ling1) & R('Environmental Quality', ling1) & R('Leisure & Culture', ling1) & R('Taxation', ling1)) | (R('Commute', ling1) & R('Education', ling1) & R('Environmental Quality', ling1) & R('Internet Access', ling1) & R('Taxation', ling1)) | (R('Commute', ling1) & R('Education', ling1) & R('Environmental Quality', ling1) & R('Economy', ling1) & R('Leisure & Culture', ling1)) | (R('Commute', ling1) & R('Education', ling1) & R('Environmental Quality', ling1) & R('Economy', ling1) & R('Internet Access', ling1)) | (R('Commute', ling1) & R('Education', ling1) & R('Environmental Quality', ling1) & R('Economy', ling1) & R('Taxation', ling1))))),ling1)\n",
    "\n",
    "fuzzy.add_consequent('Bad', TriangularFunction(0, 0, 0.4))\n",
    "fuzzy.add_consequent('Mid', TriangularFunction(0.3, 0.5, 0.8))\n",
    "fuzzy.add_consequent('Good', TriangularFunction(0.7, 1, 1))\n",
    "\n",
    "for (norm, defuzz_method) in product([ZadehNorm, ExtendedMangerNorm], ['fom', 'mom', 'lom', 'centroid']):\n",
    "    fuzzy_test = FuzzyTest(norm=norm(), defuzzification_method=defuzz_method)\n",
    "    fuzzy_test.run(fuzzy, pd.concat([a, b]))"
   ]
  },
  {
   "cell_type": "code",
   "execution_count": 123,
   "metadata": {
    "pycharm": {
     "name": "#%%\n"
    }
   },
   "outputs": [
    {
     "data": {
      "text/html": [
       "<div>\n",
       "<style scoped>\n",
       "    .dataframe tbody tr th:only-of-type {\n",
       "        vertical-align: middle;\n",
       "    }\n",
       "\n",
       "    .dataframe tbody tr th {\n",
       "        vertical-align: top;\n",
       "    }\n",
       "\n",
       "    .dataframe thead th {\n",
       "        text-align: right;\n",
       "    }\n",
       "</style>\n",
       "<table border=\"1\" class=\"dataframe\">\n",
       "  <thead>\n",
       "    <tr style=\"text-align: right;\">\n",
       "      <th></th>\n",
       "      <th>UA_Name</th>\n",
       "      <th>UA_Country</th>\n",
       "      <th>UA_Continent</th>\n",
       "      <th>Housing</th>\n",
       "      <th>Cost of Living</th>\n",
       "      <th>Startups</th>\n",
       "      <th>Travel Connectivity</th>\n",
       "      <th>Commute</th>\n",
       "      <th>Business Freedom</th>\n",
       "      <th>Safety</th>\n",
       "      <th>...</th>\n",
       "      <th>Education</th>\n",
       "      <th>Environmental Quality</th>\n",
       "      <th>Economy</th>\n",
       "      <th>Taxation</th>\n",
       "      <th>Internet Access</th>\n",
       "      <th>Leisure &amp; Culture</th>\n",
       "      <th>Tolerance</th>\n",
       "      <th>Outdoors</th>\n",
       "      <th>Naive Sum</th>\n",
       "      <th>Label</th>\n",
       "    </tr>\n",
       "  </thead>\n",
       "  <tbody>\n",
       "    <tr>\n",
       "      <th>72</th>\n",
       "      <td>Dallas</td>\n",
       "      <td>Texas</td>\n",
       "      <td>North America</td>\n",
       "      <td>0.473222</td>\n",
       "      <td>0.565667</td>\n",
       "      <td>0.771056</td>\n",
       "      <td>0.436138</td>\n",
       "      <td>0.619321</td>\n",
       "      <td>0.815902</td>\n",
       "      <td>0.346041</td>\n",
       "      <td>...</td>\n",
       "      <td>0.410813</td>\n",
       "      <td>0.637355</td>\n",
       "      <td>0.645634</td>\n",
       "      <td>0.39025</td>\n",
       "      <td>0.626549</td>\n",
       "      <td>0.685389</td>\n",
       "      <td>0.458681</td>\n",
       "      <td>0.53841</td>\n",
       "      <td>0.534593</td>\n",
       "      <td>worse</td>\n",
       "    </tr>\n",
       "  </tbody>\n",
       "</table>\n",
       "<p>1 rows × 21 columns</p>\n",
       "</div>"
      ],
      "text/plain": [
       "   UA_Name UA_Country   UA_Continent   Housing  Cost of Living  Startups  \\\n",
       "72  Dallas      Texas  North America  0.473222        0.565667  0.771056   \n",
       "\n",
       "    Travel Connectivity   Commute  Business Freedom    Safety  ...  Education  \\\n",
       "72             0.436138  0.619321          0.815902  0.346041  ...   0.410813   \n",
       "\n",
       "    Environmental Quality   Economy  Taxation  Internet Access  \\\n",
       "72               0.637355  0.645634   0.39025         0.626549   \n",
       "\n",
       "    Leisure & Culture  Tolerance  Outdoors  Naive Sum  Label  \n",
       "72           0.685389   0.458681   0.53841   0.534593  worse  \n",
       "\n",
       "[1 rows x 21 columns]"
      ]
     },
     "execution_count": 123,
     "metadata": {},
     "output_type": "execute_result"
    }
   ],
   "source": [
    "scores[scores.UA_Name=='Dallas']"
   ]
  },
  {
   "cell_type": "code",
   "execution_count": 124,
   "metadata": {
    "pycharm": {
     "name": "#%%\n"
    }
   },
   "outputs": [
    {
     "name": "stdout",
     "output_type": "stream",
     "text": [
      "0.95\n"
     ]
    }
   ],
   "source": [
    "d2 = {\n",
    "    'Housing': {\n",
    "        'linguistic': 'Mid',\n",
    "        'numerical': 0.5\n",
    "    },\n",
    "    'Startups': {\n",
    "        'linguistic': 'Bad',\n",
    "        'numerical': 0.1\n",
    "    }\n",
    "}\n",
    "r = ~(R('Housing', 'Mid') & R('Startups', 'Bad'))\n",
    "print(r.evaluate(d2))"
   ]
  },
  {
   "cell_type": "code",
   "execution_count": 125,
   "metadata": {},
   "outputs": [
    {
     "name": "stdout",
     "output_type": "stream",
     "text": [
      "Commute\n",
      "count    226.000000\n",
      "mean       0.699696\n",
      "std        0.184982\n",
      "min        0.000000\n",
      "25%        0.635663\n",
      "50%        0.737609\n",
      "75%        0.817848\n",
      "max        1.000000\n",
      "Name: Commute, dtype: float64\n",
      "Education\n",
      "count    226.000000\n",
      "mean       0.407454\n",
      "std        0.210492\n",
      "min        0.000000\n",
      "25%        0.339214\n",
      "50%        0.422755\n",
      "75%        0.526015\n",
      "max        1.000000\n",
      "Name: Education, dtype: float64\n",
      "Environmental Quality\n",
      "count    226.000000\n",
      "mean       0.597109\n",
      "std        0.237380\n",
      "min        0.000000\n",
      "25%        0.402418\n",
      "50%        0.647282\n",
      "75%        0.789579\n",
      "max        1.000000\n",
      "Name: Environmental Quality, dtype: float64\n",
      "Economy\n",
      "count    226.000000\n",
      "mean       0.486514\n",
      "std        0.171030\n",
      "min        0.000000\n",
      "25%        0.360959\n",
      "50%        0.512971\n",
      "75%        0.645634\n",
      "max        1.000000\n",
      "Name: Economy, dtype: float64\n",
      "Taxation\n",
      "count    226.000000\n",
      "mean       0.405032\n",
      "std        0.195222\n",
      "min        0.000000\n",
      "25%        0.290938\n",
      "50%        0.388821\n",
      "75%        0.528167\n",
      "max        1.000000\n",
      "Name: Taxation, dtype: float64\n",
      "Internet Access\n",
      "count    226.000000\n",
      "mean       0.509285\n",
      "std        0.200842\n",
      "min        0.000000\n",
      "25%        0.395895\n",
      "50%        0.527708\n",
      "75%        0.623939\n",
      "max        1.000000\n",
      "Name: Internet Access, dtype: float64\n",
      "Leisure & Culture\n",
      "count    226.000000\n",
      "mean       0.555794\n",
      "std        0.201082\n",
      "min        0.000000\n",
      "25%        0.411111\n",
      "50%        0.551083\n",
      "75%        0.688417\n",
      "max        1.000000\n",
      "Name: Leisure & Culture, dtype: float64\n"
     ]
    }
   ],
   "source": [
    "student = ['Commute', 'Education', 'Environmental Quality', 'Economy', 'Taxation', 'Internet Access', 'Leisure & Culture']\n",
    "for element in student:\n",
    "    print(element)\n",
    "    print(scores[element].describe())"
   ]
  },
  {
   "cell_type": "code",
   "execution_count": null,
   "metadata": {},
   "outputs": [],
   "source": []
  }
 ],
 "metadata": {
  "kernelspec": {
   "display_name": "Python 3 (ipykernel)",
   "language": "python",
   "name": "python3"
  },
  "language_info": {
   "codemirror_mode": {
    "name": "ipython",
    "version": 3
   },
   "file_extension": ".py",
   "mimetype": "text/x-python",
   "name": "python",
   "nbconvert_exporter": "python",
   "pygments_lexer": "ipython3",
   "version": "3.9.7"
  }
 },
 "nbformat": 4,
 "nbformat_minor": 1
}
