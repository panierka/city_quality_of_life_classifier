{
 "cells": [
  {
   "cell_type": "code",
   "execution_count": 2,
   "metadata": {
    "collapsed": true,
    "pycharm": {
     "name": "#%%\n"
    }
   },
   "outputs": [],
   "source": [
    "import pandas as pd\n",
    "from IPython.display import display, HTML\n",
    "%load_ext autoreload\n",
    "%autoreload 2\n",
    "\n",
    "import importlib"
   ]
  },
  {
   "cell_type": "code",
   "execution_count": 3,
   "metadata": {
    "pycharm": {
     "name": "#%%\n"
    }
   },
   "outputs": [],
   "source": [
    "csv_file = open(\"uaScoresDataFrame.csv\")\n",
    "scores = pd.read_csv(csv_file)\n",
    "scores = scores.drop('id', axis=1)\n",
    "scores = scores.drop('Venture Capital', axis=1)"
   ]
  },
  {
   "cell_type": "code",
   "execution_count": 4,
   "metadata": {
    "pycharm": {
     "name": "#%%\n"
    }
   },
   "outputs": [
    {
     "name": "stdout",
     "output_type": "stream",
     "text": [
      "                       UA_Name               UA_Country  number\n",
      "0                      Andorra                  Andorra       6\n",
      "1                    Gibraltar                Gibraltar       5\n",
      "2                      Managua                Nicaragua       3\n",
      "3                     Tashkent               Uzbekistan       3\n",
      "4                  Belize City                   Belize       3\n",
      "5                       Panama                   Panama       3\n",
      "6                    Palo Alto               California       2\n",
      "7                       La Paz                  Bolivia       2\n",
      "8                     Portland                    Maine       2\n",
      "9                       Havana                     Cuba       2\n",
      "10                     Fukuoka                    Japan       2\n",
      "11                    San Juan              Puerto Rico       2\n",
      "12                     Bozeman                  Montana       2\n",
      "13                   Baltimore                 Maryland       2\n",
      "14                    Valletta                    Malta       2\n",
      "15             San Luis Obispo               California       1\n",
      "16                       Quito                  Ecuador       1\n",
      "17                San Salvador              El Salvador       1\n",
      "18                  Providence             Rhode Island       1\n",
      "19                    Sarajevo   Bosnia and Herzegovina       1\n",
      "20                  Phnom Penh                 Cambodia       1\n",
      "21                        Oulu                  Finland       1\n",
      "22                      Manila              Philippines       1\n",
      "23                       Lagos                  Nigeria       1\n",
      "24                      Madrid                    Spain       1\n",
      "25                        Lviv                  Ukraine       1\n",
      "26  Las Palmas de Gran Canaria                    Spain       1\n",
      "27                    Asuncion                 Paraguay       1\n",
      "28                       Kyoto                    Japan       1\n",
      "29                    Kingston                  Jamaica       1\n",
      "30                   Kathmandu                    Nepal       1\n",
      "31                   Hyderabad                    India       1\n",
      "32              Guatemala City                Guatemala       1\n",
      "33                Fort Collins                 Colorado       1\n",
      "34               Dar es Salaam                 Tanzania       1\n",
      "35                  Casablanca                  Morocco       1\n",
      "36                     Caracas                Venezuela       1\n",
      "37                        Bali                Indonesia       1\n",
      "38                        Baku               Azerbaijan       1\n",
      "39                     Yerevan                  Armenia       1\n"
     ]
    }
   ],
   "source": [
    "def check_zero(dataset):\n",
    "    invalid_rows = []\n",
    "    for element in dataset.columns.tolist():\n",
    "        invalid = dataset[dataset[element] == 0.0]\n",
    "        invalid_rows.append(invalid[['UA_Name','UA_Country']])\n",
    "    df = pd.concat(invalid_rows).reset_index(drop=True).value_counts()\n",
    "    return df\n",
    "results = check_zero(scores).to_frame().reset_index().rename(columns={0:\"number\"})\n",
    "print(results)"
   ]
  },
  {
   "cell_type": "code",
   "execution_count": 5,
   "metadata": {
    "pycharm": {
     "name": "#%%\n"
    }
   },
   "outputs": [],
   "source": [
    "scores = scores[(scores != 0).all(1)]"
   ]
  },
  {
   "cell_type": "code",
   "execution_count": 6,
   "metadata": {
    "pycharm": {
     "name": "#%%\n"
    }
   },
   "outputs": [],
   "source": [
    "weights_data = {\n",
    "    'Housing' : 1.5,\n",
    "    'Cost of Living' : 1.5,\n",
    "    'Startups' : 0.5,\n",
    "    'Business Freedom' : 0.8,\n",
    "    'Safety' : 1.5,\n",
    "    'Healthcare' : 1.5,\n",
    "    'Education' : 0.5,\n",
    "    'Travel Connectivity' : 1.5,\n",
    "}\n",
    "\n",
    "weights_vector = pd.Series(0.0, index=scores.columns[3:-1])\n",
    "for i in range(len(weights_vector)):\n",
    "    row_name = weights_vector.index[i]\n",
    "    weights_vector[i] = weights_data.get(row_name, 1)"
   ]
  },
  {
   "cell_type": "code",
   "execution_count": 7,
   "metadata": {
    "pycharm": {
     "name": "#%%\n"
    }
   },
   "outputs": [],
   "source": [
    "summable_values = list(scores)\n",
    "if 'Naive Sum' in summable_values:\n",
    "    summable_values.remove('Naive Sum')\n",
    "weighted_scores = scores.copy()\n",
    "weighted_scores = weighted_scores * weights_vector\n",
    "scores['Naive Sum'] = weighted_scores[summable_values].sum(numeric_only=True, axis=1)"
   ]
  },
  {
   "cell_type": "code",
   "execution_count": 8,
   "metadata": {
    "pycharm": {
     "name": "#%%\n"
    }
   },
   "outputs": [],
   "source": [
    "# scores['Naive Sum']\n",
    "# better, worse\n",
    "\n",
    "midpoint = scores['Naive Sum'].quantile()\n",
    "scores['Label'] = ''\n",
    "scores.loc[scores['Naive Sum'] < midpoint, 'Label'] = 'worse'\n",
    "scores.loc[scores['Naive Sum'] >= midpoint, 'Label'] = 'better'"
   ]
  },
  {
   "cell_type": "code",
   "execution_count": 9,
   "metadata": {
    "pycharm": {
     "name": "#%%\n"
    }
   },
   "outputs": [
    {
     "data": {
      "text/plain": "<matplotlib.collections.PathCollection at 0x147356b1360>"
     },
     "execution_count": 9,
     "metadata": {},
     "output_type": "execute_result"
    },
    {
     "data": {
      "text/plain": "<Figure size 720x432 with 1 Axes>",
      "image/png": "[encoded data removed]"
     },
     "metadata": {
      "needs_background": "light"
     },
     "output_type": "display_data"
    }
   ],
   "source": [
    "import matplotlib.pyplot as plt\n",
    "import numpy as np\n",
    "\n",
    "fig, ax = plt.subplots()\n",
    "fig.set_size_inches(10, 6)\n",
    "vals = scores['Naive Sum'].sort_values()\n",
    "colors = np.where(vals >= midpoint, 'b', 'r')\n",
    "ax.scatter(scores.index, vals, c=colors, marker='+')"
   ]
  },
  {
   "cell_type": "markdown",
   "metadata": {
    "pycharm": {
     "name": "#%% md\n"
    }
   },
   "source": []
  },
  {
   "cell_type": "code",
   "execution_count": 36,
   "metadata": {
    "pycharm": {
     "name": "#%%\n"
    }
   },
   "outputs": [
    {
     "data": {
      "text/plain": "        UA_Name    UA_Country   UA_Continent   Housing  Cost of Living  \\\n0     Barcelona         Spain         Europe  0.591444        0.563778   \n1        Geneva   Switzerland         Europe  0.008611        0.000000   \n2     Sao Paulo        Brazil  South America  0.812889        0.758111   \n3    Louisville      Kentucky  North America  0.695333        0.595333   \n4     Innsbruck       Austria         Europe  0.634222        0.414667   \n188       Tokyo         Japan           Asia  0.517444        0.270111   \n189     Boulder      Colorado  North America  0.300444        0.392333   \n190     Orlando       Florida  North America  0.530944        0.476000   \n192    Belgrade        Serbia         Europe  0.917500        0.838444   \n193   Stuttgart       Germany         Europe  0.590444        0.519222   \n\n     Startups  Travel Connectivity   Commute  Business Freedom    Safety  ...  \\\n0    0.750944             0.549855  0.826477          0.601007  0.700514  ...   \n1    0.410222             0.556349  0.877687          0.845962  0.818287  ...   \n2    0.624722             0.169851  0.609458          0.000000  0.456536  ...   \n3    0.361556             0.084791  0.195060          0.815902  0.262693  ...   \n4    0.125056             0.524471  0.940234          0.666990  0.800497  ...   \n188  0.588556             0.801599  0.878446          0.775269  1.000000  ...   \n189  0.539222             0.378233  0.900447          0.815902  0.661930  ...   \n190  0.621944             0.331705  0.597109          0.815902  0.322359  ...   \n192  0.434389             0.156005  0.806078          0.360576  0.618726  ...   \n193  0.306278             0.566867  0.911827          0.871497  0.800092  ...   \n\n     Education  Environmental Quality   Economy  Taxation  Internet Access  \\\n0     0.491695               0.288896  0.372235  0.287847         0.627352   \n1     0.508740               0.857048  0.650256  0.583450         0.846547   \n2     0.065574               0.172417  0.112330  0.166375         0.274151   \n3     0.339214               0.626795  0.645634  0.307441         0.519390   \n4     0.415807               0.714816  0.417463  0.144623         0.465753   \n188   0.703561               0.552499  0.301682  0.537322         0.439995   \n189   0.453697               1.000000  0.645634  0.340564         0.605553   \n190   0.339214               0.635398  0.645634  0.390250         0.445847   \n192   0.000000               0.429056  0.044673  0.319629         0.328476   \n193   0.494029               0.698587  0.505022  0.288955         0.473153   \n\n     Leisure & Culture  Tolerance  Outdoors  Naive Sum   Label  \n0             0.843500   0.723890  0.716803   0.766476  better  \n1             0.471556   0.863833  0.814409   0.622112  better  \n2             0.865500   0.653736  0.884905   0.190799   worse  \n3             0.521500   0.517691  0.107628   0.279379   worse  \n4             0.380500   0.847391  0.465963   0.634883  better  \n188           0.926889   0.690153  0.810238   0.955654  better  \n189           0.173889   0.943487  0.833984   0.606964  better  \n190           0.547722   0.518361  0.537199   0.383693   worse  \n192           0.610778   0.713598  0.615902   0.426124   worse  \n193           0.506222   0.731441  0.464079   0.779239  better  \n\n[10 rows x 21 columns]",
      "text/html": "<div>\n<style scoped>\n    .dataframe tbody tr th:only-of-type {\n        vertical-align: middle;\n    }\n\n    .dataframe tbody tr th {\n        vertical-align: top;\n    }\n\n    .dataframe thead th {\n        text-align: right;\n    }\n</style>\n<table border=\"1\" class=\"dataframe\">\n  <thead>\n    <tr style=\"text-align: right;\">\n      <th></th>\n      <th>UA_Name</th>\n      <th>UA_Country</th>\n      <th>UA_Continent</th>\n      <th>Housing</th>\n      <th>Cost of Living</th>\n      <th>Startups</th>\n      <th>Travel Connectivity</th>\n      <th>Commute</th>\n      <th>Business Freedom</th>\n      <th>Safety</th>\n      <th>...</th>\n      <th>Education</th>\n      <th>Environmental Quality</th>\n      <th>Economy</th>\n      <th>Taxation</th>\n      <th>Internet Access</th>\n      <th>Leisure &amp; Culture</th>\n      <th>Tolerance</th>\n      <th>Outdoors</th>\n      <th>Naive Sum</th>\n      <th>Label</th>\n    </tr>\n  </thead>\n  <tbody>\n    <tr>\n      <th>0</th>\n      <td>Barcelona</td>\n      <td>Spain</td>\n      <td>Europe</td>\n      <td>0.591444</td>\n      <td>0.563778</td>\n      <td>0.750944</td>\n      <td>0.549855</td>\n      <td>0.826477</td>\n      <td>0.601007</td>\n      <td>0.700514</td>\n      <td>...</td>\n      <td>0.491695</td>\n      <td>0.288896</td>\n      <td>0.372235</td>\n      <td>0.287847</td>\n      <td>0.627352</td>\n      <td>0.843500</td>\n      <td>0.723890</td>\n      <td>0.716803</td>\n      <td>0.766476</td>\n      <td>better</td>\n    </tr>\n    <tr>\n      <th>1</th>\n      <td>Geneva</td>\n      <td>Switzerland</td>\n      <td>Europe</td>\n      <td>0.008611</td>\n      <td>0.000000</td>\n      <td>0.410222</td>\n      <td>0.556349</td>\n      <td>0.877687</td>\n      <td>0.845962</td>\n      <td>0.818287</td>\n      <td>...</td>\n      <td>0.508740</td>\n      <td>0.857048</td>\n      <td>0.650256</td>\n      <td>0.583450</td>\n      <td>0.846547</td>\n      <td>0.471556</td>\n      <td>0.863833</td>\n      <td>0.814409</td>\n      <td>0.622112</td>\n      <td>better</td>\n    </tr>\n    <tr>\n      <th>2</th>\n      <td>Sao Paulo</td>\n      <td>Brazil</td>\n      <td>South America</td>\n      <td>0.812889</td>\n      <td>0.758111</td>\n      <td>0.624722</td>\n      <td>0.169851</td>\n      <td>0.609458</td>\n      <td>0.000000</td>\n      <td>0.456536</td>\n      <td>...</td>\n      <td>0.065574</td>\n      <td>0.172417</td>\n      <td>0.112330</td>\n      <td>0.166375</td>\n      <td>0.274151</td>\n      <td>0.865500</td>\n      <td>0.653736</td>\n      <td>0.884905</td>\n      <td>0.190799</td>\n      <td>worse</td>\n    </tr>\n    <tr>\n      <th>3</th>\n      <td>Louisville</td>\n      <td>Kentucky</td>\n      <td>North America</td>\n      <td>0.695333</td>\n      <td>0.595333</td>\n      <td>0.361556</td>\n      <td>0.084791</td>\n      <td>0.195060</td>\n      <td>0.815902</td>\n      <td>0.262693</td>\n      <td>...</td>\n      <td>0.339214</td>\n      <td>0.626795</td>\n      <td>0.645634</td>\n      <td>0.307441</td>\n      <td>0.519390</td>\n      <td>0.521500</td>\n      <td>0.517691</td>\n      <td>0.107628</td>\n      <td>0.279379</td>\n      <td>worse</td>\n    </tr>\n    <tr>\n      <th>4</th>\n      <td>Innsbruck</td>\n      <td>Austria</td>\n      <td>Europe</td>\n      <td>0.634222</td>\n      <td>0.414667</td>\n      <td>0.125056</td>\n      <td>0.524471</td>\n      <td>0.940234</td>\n      <td>0.666990</td>\n      <td>0.800497</td>\n      <td>...</td>\n      <td>0.415807</td>\n      <td>0.714816</td>\n      <td>0.417463</td>\n      <td>0.144623</td>\n      <td>0.465753</td>\n      <td>0.380500</td>\n      <td>0.847391</td>\n      <td>0.465963</td>\n      <td>0.634883</td>\n      <td>better</td>\n    </tr>\n    <tr>\n      <th>188</th>\n      <td>Tokyo</td>\n      <td>Japan</td>\n      <td>Asia</td>\n      <td>0.517444</td>\n      <td>0.270111</td>\n      <td>0.588556</td>\n      <td>0.801599</td>\n      <td>0.878446</td>\n      <td>0.775269</td>\n      <td>1.000000</td>\n      <td>...</td>\n      <td>0.703561</td>\n      <td>0.552499</td>\n      <td>0.301682</td>\n      <td>0.537322</td>\n      <td>0.439995</td>\n      <td>0.926889</td>\n      <td>0.690153</td>\n      <td>0.810238</td>\n      <td>0.955654</td>\n      <td>better</td>\n    </tr>\n    <tr>\n      <th>189</th>\n      <td>Boulder</td>\n      <td>Colorado</td>\n      <td>North America</td>\n      <td>0.300444</td>\n      <td>0.392333</td>\n      <td>0.539222</td>\n      <td>0.378233</td>\n      <td>0.900447</td>\n      <td>0.815902</td>\n      <td>0.661930</td>\n      <td>...</td>\n      <td>0.453697</td>\n      <td>1.000000</td>\n      <td>0.645634</td>\n      <td>0.340564</td>\n      <td>0.605553</td>\n      <td>0.173889</td>\n      <td>0.943487</td>\n      <td>0.833984</td>\n      <td>0.606964</td>\n      <td>better</td>\n    </tr>\n    <tr>\n      <th>190</th>\n      <td>Orlando</td>\n      <td>Florida</td>\n      <td>North America</td>\n      <td>0.530944</td>\n      <td>0.476000</td>\n      <td>0.621944</td>\n      <td>0.331705</td>\n      <td>0.597109</td>\n      <td>0.815902</td>\n      <td>0.322359</td>\n      <td>...</td>\n      <td>0.339214</td>\n      <td>0.635398</td>\n      <td>0.645634</td>\n      <td>0.390250</td>\n      <td>0.445847</td>\n      <td>0.547722</td>\n      <td>0.518361</td>\n      <td>0.537199</td>\n      <td>0.383693</td>\n      <td>worse</td>\n    </tr>\n    <tr>\n      <th>192</th>\n      <td>Belgrade</td>\n      <td>Serbia</td>\n      <td>Europe</td>\n      <td>0.917500</td>\n      <td>0.838444</td>\n      <td>0.434389</td>\n      <td>0.156005</td>\n      <td>0.806078</td>\n      <td>0.360576</td>\n      <td>0.618726</td>\n      <td>...</td>\n      <td>0.000000</td>\n      <td>0.429056</td>\n      <td>0.044673</td>\n      <td>0.319629</td>\n      <td>0.328476</td>\n      <td>0.610778</td>\n      <td>0.713598</td>\n      <td>0.615902</td>\n      <td>0.426124</td>\n      <td>worse</td>\n    </tr>\n    <tr>\n      <th>193</th>\n      <td>Stuttgart</td>\n      <td>Germany</td>\n      <td>Europe</td>\n      <td>0.590444</td>\n      <td>0.519222</td>\n      <td>0.306278</td>\n      <td>0.566867</td>\n      <td>0.911827</td>\n      <td>0.871497</td>\n      <td>0.800092</td>\n      <td>...</td>\n      <td>0.494029</td>\n      <td>0.698587</td>\n      <td>0.505022</td>\n      <td>0.288955</td>\n      <td>0.473153</td>\n      <td>0.506222</td>\n      <td>0.731441</td>\n      <td>0.464079</td>\n      <td>0.779239</td>\n      <td>better</td>\n    </tr>\n  </tbody>\n</table>\n<p>10 rows × 21 columns</p>\n</div>"
     },
     "metadata": {},
     "output_type": "display_data"
    }
   ],
   "source": [
    "from Modules.dataprocessing import ProcessingData\n",
    "\n",
    "a, b = ProcessingData.prepare_data(scores)\n",
    "\n",
    "preview_table = pd.concat([a.head(), b.head()])\n",
    "display(preview_table)"
   ]
  },
  {
   "cell_type": "code",
   "execution_count": 39,
   "metadata": {
    "pycharm": {
     "name": "#%%\n"
    }
   },
   "outputs": [
    {
     "name": "stdout",
     "output_type": "stream",
     "text": [
      "fuzzified_sample={'Housing': {'linguistic': 'Mid', 'numerical': 0.521388888888889}, 'Startups': {'linguistic': 'Good', 'numerical': 0.836481481481482}}\n",
      "rule_results=[1, 1, 0.836481481481482, 0.521388888888889, 0.521388888888889, 0.43613215020576174, 1, 1, 0.836481481481482]\n",
      "Barcelona -> Good\n",
      "fuzzified_sample={'Housing': {'linguistic': 'Bad', 'numerical': 0.9784722222222222}, 'Startups': {'linguistic': 'Mid', 'numerical': 0.9488888888888888}}\n",
      "rule_results=[0.9784722222222222, 0.9284614197530863, 0.9784722222222222, 1, 0.9488888888888888, 1, 1, 0.9488888888888888, 1]\n",
      "Geneva -> Good\n",
      "fuzzified_sample={'Housing': {'linguistic': 'Good', 'numerical': 0.37629629629629674}, 'Startups': {'linguistic': 'Good', 'numerical': 0.4157407407407409}}\n",
      "rule_results=[1, 1, 0.4157407407407409, 1, 1, 0.4157407407407409, 0.37629629629629674, 0.37629629629629674, 0.15644170096021973]\n",
      "Sao Paulo -> Good\n",
      "fuzzified_sample={'Housing': {'linguistic': 'Mid', 'numerical': 0.2616666666666667}, 'Startups': {'linguistic': 'Mid', 'numerical': 0.8077777777777775}}\n",
      "rule_results=[1, 0.8077777777777775, 1, 0.2616666666666667, 0.21136851851851848, 0.2616666666666667, 1, 0.8077777777777775, 1]\n",
      "Louisville -> Good\n",
      "fuzzified_sample={'Housing': {'linguistic': 'Mid', 'numerical': 0.4144444444444445}, 'Startups': {'linguistic': 'Bad', 'numerical': 0.5831481481481481}}\n",
      "rule_results=[0.5831481481481481, 1, 1, 0.24168251028806584, 0.4144444444444445, 0.4144444444444445, 0.5831481481481481, 1, 1]\n",
      "Innsbruck -> Good\n"
     ]
    }
   ],
   "source": [
    "import Modules.fuzzysys as fsys\n",
    "from Modules.membership_functions import TriangularFunction\n",
    "importlib.reload(fsys)\n",
    "\n",
    "fuzzy = fsys.FuzzySystem()\n",
    "fuzzy.add_antecedent('Housing', 'Bad', TriangularFunction(0, 0, 0.4))\n",
    "fuzzy.add_antecedent('Housing', 'Mid', TriangularFunction(0.3, 0.4, 0.8))\n",
    "fuzzy.add_antecedent('Housing', 'Good', TriangularFunction(0.7, 1, 1))\n",
    "\n",
    "fuzzy.add_antecedent('Startups', 'Bad', TriangularFunction(0, 0, 0.3))\n",
    "fuzzy.add_antecedent('Startups', 'Mid', TriangularFunction(0.2, 0.4, 0.6))\n",
    "fuzzy.add_antecedent('Startups', 'Good', TriangularFunction(0.5, 0.8, 1))\n",
    "\n",
    "fuzzy.add_rule({'Housing' : 'Bad', 'Startups': 'Bad', 'Rating': 'Bad'})\n",
    "fuzzy.add_rule({'Housing' : 'Bad', 'Startups': 'Mid', 'Rating': 'Bad'})\n",
    "fuzzy.add_rule({'Housing' : 'Bad', 'Startups': 'Good', 'Rating': 'Bad'})\n",
    "fuzzy.add_rule({'Housing' : 'Mid', 'Startups': 'Bad', 'Rating': 'Bad'})\n",
    "fuzzy.add_rule({'Housing' : 'Mid', 'Startups': 'Mid', 'Rating': 'Bad'})\n",
    "fuzzy.add_rule({'Housing' : 'Mid', 'Startups': 'Good', 'Rating': 'Good'})\n",
    "fuzzy.add_rule({'Housing' : 'Good', 'Startups': 'Bad', 'Rating': 'Good'})\n",
    "fuzzy.add_rule({'Housing' : 'Good', 'Startups': 'Mid', 'Rating': 'Good'})\n",
    "fuzzy.add_rule({'Housing' : 'Good', 'Startups': 'Good', 'Rating': 'Good'})\n",
    "\n",
    "fuzzy.add_consequent('Rating', 'Bad', TriangularFunction(0, 0, 0.5))\n",
    "fuzzy.add_consequent('Rating', 'Good', TriangularFunction(0.5, 1, 1))\n",
    "\n",
    "for i in range(5):\n",
    "    sample = a.iloc[i]\n",
    "    result = fuzzy.compute(sample, 'fom')\n",
    "    print(f'{sample[\"UA_Name\"]} -> {result}')"
   ]
  },
  {
   "cell_type": "code",
   "execution_count": 19,
   "outputs": [
    {
     "name": "stdout",
     "output_type": "stream",
     "text": [
      "Indianapolis -> {'Housing': {'linguistic': 'Good', 'numerical': 1}, 'Startups': {'linguistic': 'Bad', 'numerical': 1}}\n",
      "Salt Lake City -> {'Housing': {'linguistic': 'Good', 'numerical': 1}, 'Startups': {'linguistic': 'Bad', 'numerical': 1}}\n",
      "San Francisco Bay Area -> {'Housing': {'linguistic': 'Bad', 'numerical': 0}, 'Startups': {'linguistic': 'Bad', 'numerical': 0}}\n",
      "Winnipeg -> {'Housing': {'linguistic': 'Good', 'numerical': 0.9064814814814809}, 'Startups': {'linguistic': 'Bad', 'numerical': 1}}\n",
      "Innsbruck -> {'Housing': {'linguistic': 'Good', 'numerical': 1}, 'Startups': {'linguistic': 'Bad', 'numerical': 0.416851851851852}}\n"
     ]
    }
   ],
   "source": [
    "import Modules.fuzzysys as fsys\n",
    "from Modules.membership_functions import TrapezoidalFunction\n",
    "importlib.reload(fsys)\n",
    "\n",
    "fuzzy = fsys.FuzzySystem()\n",
    "fuzzy.add_antecedent('Housing', 'Bad', TrapezoidalFunction(0, 0.2, 0.4, 0.6))\n",
    "fuzzy.add_antecedent('Housing', 'Mid', TrapezoidalFunction(0.1, 0.3, 0.5, 0.7))\n",
    "fuzzy.add_antecedent('Housing', 'Good', TrapezoidalFunction(0.3, 0.5, 0.7, 1))\n",
    "\n",
    "fuzzy.add_antecedent('Startups', 'Bad', TrapezoidalFunction(0, 0.3, 0.6, 0.9))\n",
    "fuzzy.add_antecedent('Startups', 'Mid', TrapezoidalFunction(0.1, 0.4, 0.7, 1))\n",
    "fuzzy.add_antecedent('Startups', 'Good', TrapezoidalFunction(0.05, 0.25, 0.45, 0.65))\n",
    "\n",
    "for i in range(5):\n",
    "    sample = a.iloc[i].to_dict()\n",
    "    fuzzified_sample = fuzzy.fuzzify(sample)\n",
    "    print(f'{sample[\"UA_Name\"]} -> {fuzzified_sample}')"
   ],
   "metadata": {
    "collapsed": false,
    "pycharm": {
     "name": "#%%\n"
    }
   }
  },
  {
   "cell_type": "code",
   "execution_count": null,
   "metadata": {},
   "outputs": [],
   "source": [
    "import Modules.fuzzysys as fsys\n",
    "from Modules.membership_functions import TrapezoidalFunction\n",
    "importlib.reload(fsys)\n",
    "\n",
    "fuzzy = fsys.FuzzySystem()\n",
    "fuzzy.add_antecedent('Housing', 'Bad', TrapezoidalFunction(0, 0.2, 0.4, 0.6))\n",
    "fuzzy.add_antecedent('Housing', 'Mid', TrapezoidalFunction(0.1, 0.3, 0.5, 0.7))\n",
    "fuzzy.add_antecedent('Housing', 'Good', TrapezoidalFunction(0.3, 0.5, 0.7, 1))\n",
    "\n",
    "fuzzy.add_antecedent('Startups', 'Bad', TrapezoidalFunction(0, 0.3, 0.6, 0.9))\n",
    "fuzzy.add_antecedent('Startups', 'Mid', TrapezoidalFunction(0.1, 0.4, 0.7, 1))\n",
    "fuzzy.add_antecedent('Startups', 'Good', TrapezoidalFunction(0.05, 0.25, 0.45, 0.65))\n",
    "\n",
    "for i in range(5):\n",
    "    sample = a.iloc[i].to_dict()\n",
    "    fuzzified_sample = fuzzy.fuzzify(sample)\n",
    "    print(f'{sample[\"UA_Name\"]} -> {fuzzified_sample}')"
   ]
  }
 ],
 "metadata": {
  "kernelspec": {
   "display_name": "Python 3 (ipykernel)",
   "language": "python",
   "name": "python3"
  },
  "language_info": {
   "codemirror_mode": {
    "name": "ipython",
    "version": 3
   },
   "file_extension": ".py",
   "mimetype": "text/x-python",
   "name": "python",
   "nbconvert_exporter": "python",
   "pygments_lexer": "ipython3",
   "version": "3.9.7"
  }
 },
 "nbformat": 4,
 "nbformat_minor": 1
}