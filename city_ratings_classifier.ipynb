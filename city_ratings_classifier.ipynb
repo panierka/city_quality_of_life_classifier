{
 "cells": [
  {
   "cell_type": "code",
   "execution_count": 1,
   "metadata": {
    "collapsed": true,
    "pycharm": {
     "name": "#%%\n"
    }
   },
   "outputs": [],
   "source": [
    "import pandas as pd\n",
    "from IPython.display import display, HTML\n",
    "%load_ext autoreload\n",
    "%autoreload 2\n",
    "\n",
    "import importlib"
   ]
  },
  {
   "cell_type": "code",
   "execution_count": 2,
   "metadata": {
    "pycharm": {
     "name": "#%%\n"
    }
   },
   "outputs": [],
   "source": [
    "csv_file = open(\"uaScoresDataFrame.csv\")\n",
    "scores = pd.read_csv(csv_file)\n",
    "scores = scores.drop('id', axis=1)\n",
    "scores = scores.drop('Venture Capital', axis=1)"
   ]
  },
  {
   "cell_type": "code",
   "execution_count": 3,
   "metadata": {
    "pycharm": {
     "name": "#%%\n"
    }
   },
   "outputs": [
    {
     "name": "stdout",
     "output_type": "stream",
     "text": [
      "                       UA_Name               UA_Country  number\n",
      "0                      Andorra                  Andorra       6\n",
      "1                    Gibraltar                Gibraltar       5\n",
      "2                      Managua                Nicaragua       3\n",
      "3                     Tashkent               Uzbekistan       3\n",
      "4                  Belize City                   Belize       3\n",
      "5                       Panama                   Panama       3\n",
      "6                    Palo Alto               California       2\n",
      "7                       La Paz                  Bolivia       2\n",
      "8                     Portland                    Maine       2\n",
      "9                       Havana                     Cuba       2\n",
      "10                     Fukuoka                    Japan       2\n",
      "11                    San Juan              Puerto Rico       2\n",
      "12                     Bozeman                  Montana       2\n",
      "13                   Baltimore                 Maryland       2\n",
      "14                    Valletta                    Malta       2\n",
      "15             San Luis Obispo               California       1\n",
      "16                       Quito                  Ecuador       1\n",
      "17                San Salvador              El Salvador       1\n",
      "18                  Providence             Rhode Island       1\n",
      "19                    Sarajevo   Bosnia and Herzegovina       1\n",
      "20                  Phnom Penh                 Cambodia       1\n",
      "21                        Oulu                  Finland       1\n",
      "22                      Manila              Philippines       1\n",
      "23                       Lagos                  Nigeria       1\n",
      "24                      Madrid                    Spain       1\n",
      "25                        Lviv                  Ukraine       1\n",
      "26  Las Palmas de Gran Canaria                    Spain       1\n",
      "27                    Asuncion                 Paraguay       1\n",
      "28                       Kyoto                    Japan       1\n",
      "29                    Kingston                  Jamaica       1\n",
      "30                   Kathmandu                    Nepal       1\n",
      "31                   Hyderabad                    India       1\n",
      "32              Guatemala City                Guatemala       1\n",
      "33                Fort Collins                 Colorado       1\n",
      "34               Dar es Salaam                 Tanzania       1\n",
      "35                  Casablanca                  Morocco       1\n",
      "36                     Caracas                Venezuela       1\n",
      "37                        Bali                Indonesia       1\n",
      "38                        Baku               Azerbaijan       1\n",
      "39                     Yerevan                  Armenia       1\n"
     ]
    }
   ],
   "source": [
    "def check_zero(dataset):\n",
    "    invalid_rows = []\n",
    "    for element in dataset.columns.tolist():\n",
    "        invalid = dataset[dataset[element] == 0.0]\n",
    "        invalid_rows.append(invalid[['UA_Name','UA_Country']])\n",
    "    df = pd.concat(invalid_rows).reset_index(drop=True).value_counts()\n",
    "    return df\n",
    "results = check_zero(scores).to_frame().reset_index().rename(columns={0:\"number\"})\n",
    "print(results)"
   ]
  },
  {
   "cell_type": "code",
   "execution_count": 4,
   "metadata": {
    "pycharm": {
     "name": "#%%\n"
    }
   },
   "outputs": [],
   "source": [
    "scores = scores[(scores != 0).all(1)]"
   ]
  },
  {
   "cell_type": "code",
   "execution_count": 5,
   "metadata": {
    "pycharm": {
     "name": "#%%\n"
    }
   },
   "outputs": [],
   "source": [
    "weights_data = {\n",
    "    'Housing' : 1.5,\n",
    "    'Cost of Living' : 1.5,\n",
    "    'Startups' : 0.5,\n",
    "    'Business Freedom' : 0.8,\n",
    "    'Safety' : 1.5,\n",
    "    'Healthcare' : 1.5,\n",
    "    'Education' : 0.5,\n",
    "    'Travel Connectivity' : 1.5,\n",
    "}\n",
    "\n",
    "weights_data = {\n",
    "    'Housing' : 1.5,\n",
    "    'Startups' : 0.5,\n",
    "}\n",
    "\n",
    "weights_vector = pd.Series(0.0, index=scores.columns[3:-1])\n",
    "for i in range(len(weights_vector)):\n",
    "    row_name = weights_vector.index[i]\n",
    "    weights_vector[i] = weights_data.get(row_name, 0)"
   ]
  },
  {
   "cell_type": "code",
   "execution_count": 6,
   "metadata": {
    "pycharm": {
     "name": "#%%\n"
    }
   },
   "outputs": [],
   "source": [
    "summable_values = list(scores)\n",
    "if 'Naive Sum' in summable_values:\n",
    "    summable_values.remove('Naive Sum')\n",
    "weighted_scores = scores.copy()\n",
    "weighted_scores = weighted_scores * weights_vector\n",
    "scores['Naive Sum'] = weighted_scores[summable_values].sum(numeric_only=True, axis=1)"
   ]
  },
  {
   "cell_type": "code",
   "execution_count": 7,
   "metadata": {
    "pycharm": {
     "name": "#%%\n"
    }
   },
   "outputs": [],
   "source": [
    "# scores['Naive Sum']\n",
    "# better, worse\n",
    "\n",
    "midpoint = scores['Naive Sum'].quantile()\n",
    "scores['Label'] = ''\n",
    "scores.loc[scores['Naive Sum'] < midpoint, 'Label'] = 'worse'\n",
    "scores.loc[scores['Naive Sum'] >= midpoint, 'Label'] = 'better'"
   ]
  },
  {
   "cell_type": "code",
   "execution_count": 8,
   "metadata": {
    "pycharm": {
     "name": "#%%\n"
    }
   },
   "outputs": [
    {
     "data": {
      "text/plain": "<matplotlib.collections.PathCollection at 0x21e0638cc10>"
     },
     "execution_count": 8,
     "metadata": {},
     "output_type": "execute_result"
    },
    {
     "data": {
      "text/plain": "<Figure size 720x432 with 1 Axes>",
      "image/png": "[encoded data removed]"
     },
     "metadata": {
      "needs_background": "light"
     },
     "output_type": "display_data"
    }
   ],
   "source": [
    "import matplotlib.pyplot as plt\n",
    "import numpy as np\n",
    "\n",
    "fig, ax = plt.subplots()\n",
    "fig.set_size_inches(10, 6)\n",
    "vals = scores['Naive Sum'].sort_values()\n",
    "colors = np.where(vals >= midpoint, 'b', 'r')\n",
    "ax.scatter(scores.index, vals, c=colors, marker='+')"
   ]
  },
  {
   "cell_type": "markdown",
   "metadata": {
    "pycharm": {
     "name": "#%% md\n"
    }
   },
   "source": []
  },
  {
   "cell_type": "code",
   "execution_count": 9,
   "metadata": {
    "pycharm": {
     "name": "#%%\n"
    }
   },
   "outputs": [],
   "source": [
    "from Modules.dataprocessing import ProcessingData\n",
    "\n",
    "a, b = ProcessingData.prepare_data(scores)\n",
    "\n",
    "preview_table = pd.concat([a.head(), b.head()])"
   ]
  },
  {
   "cell_type": "code",
   "execution_count": 10,
   "metadata": {
    "pycharm": {
     "name": "#%%\n"
    }
   },
   "outputs": [
    {
     "name": "stdout",
     "output_type": "stream",
     "text": [
      "{'tp': 0, 'tn': 112, 'fp': 0, 'fn': 114}\n",
      "{'tp': 0, 'tn': 112, 'fp': 0, 'fn': 114}\n",
      "{'tp': 114, 'tn': 0, 'fp': 112, 'fn': 0}\n"
     ]
    },
    {
     "name": "stderr",
     "output_type": "stream",
     "text": [
      "C:\\Users\\w___B\\DataspellProjects\\FuzzySystemSSI\\Modules\\defuzzification_methods.py:28: RuntimeWarning: invalid value encountered in long_scalars\n",
      "  return np.sum(x * fx) / np.sum(fx)\n",
      "C:\\Users\\w___B\\DataspellProjects\\FuzzySystemSSI\\Modules\\defuzzification_methods.py:28: RuntimeWarning: invalid value encountered in double_scalars\n",
      "  return np.sum(x * fx) / np.sum(fx)\n"
     ]
    },
    {
     "name": "stdout",
     "output_type": "stream",
     "text": [
      "{'tp': 0, 'tn': 112, 'fp': 0, 'fn': 114}\n",
      "{'tp': 0, 'tn': 112, 'fp': 0, 'fn': 114}\n",
      "{'tp': 0, 'tn': 112, 'fp': 0, 'fn': 114}\n",
      "{'tp': 114, 'tn': 0, 'fp': 112, 'fn': 0}\n"
     ]
    },
    {
     "name": "stderr",
     "output_type": "stream",
     "text": [
      "C:\\Users\\w___B\\DataspellProjects\\FuzzySystemSSI\\Modules\\defuzzification_methods.py:28: RuntimeWarning: invalid value encountered in long_scalars\n",
      "  return np.sum(x * fx) / np.sum(fx)\n",
      "C:\\Users\\w___B\\DataspellProjects\\FuzzySystemSSI\\Modules\\defuzzification_methods.py:28: RuntimeWarning: invalid value encountered in double_scalars\n",
      "  return np.sum(x * fx) / np.sum(fx)\n"
     ]
    },
    {
     "name": "stdout",
     "output_type": "stream",
     "text": [
      "{'tp': 0, 'tn': 112, 'fp': 0, 'fn': 114}\n"
     ]
    }
   ],
   "source": [
    "from itertools import product\n",
    "import Modules.fuzzytesting as test\n",
    "from Modules.fuzzytesting import FuzzyTest\n",
    "importlib.reload(test)\n",
    "import Modules.fuzzysys as fsys\n",
    "from Modules.norms import ZadehNorm\n",
    "from Modules.membership_functions import TriangularFunction\n",
    "importlib.reload(fsys)\n",
    "import Modules.rule as rule\n",
    "from Modules.rule import RuleCondition as R\n",
    "importlib.reload(rule)\n",
    "\n",
    "from Modules.norms import ZadehNorm, ExtendedMangerNorm\n",
    "\n",
    "\n",
    "fuzzy = fsys.FuzzySystem()\n",
    "fuzzy.add_antecedent('Housing', 'Bad', TriangularFunction(0, 0, 0.4))\n",
    "fuzzy.add_antecedent('Housing', 'Mid', TriangularFunction(0.3, 0.4, 0.8))\n",
    "fuzzy.add_antecedent('Housing', 'Good', TriangularFunction(0.7, 1, 1))\n",
    "\n",
    "fuzzy.add_antecedent('Startups', 'Bad', TriangularFunction(0, 0, 0.3))\n",
    "fuzzy.add_antecedent('Startups', 'Mid', TriangularFunction(0.2, 0.4, 0.6))\n",
    "fuzzy.add_antecedent('Startups', 'Good', TriangularFunction(0.5, 1, 1))\n",
    "\n",
    "#fuzzy.add_rule(R('Housing', 'Good') | R('Startups', 'Mid')| R('Startups', 'Good'), 'Good')\n",
    "#fuzzy.add_rule(R('Startups', 'Bad') & ~R('Housing', 'Good'), 'Bad')\n",
    "#fuzzy.add_rule(R('Housing', 'Mid') & (R('Startups', 'Mid') | R('Startups', 'Bad')), 'Mid')\n",
    "#fuzzy.add_rule(R('Housing', 'Bad'), 'Bad')\n",
    "\n",
    "fuzzy.add_rule((R('Housing', 'Good') & R('Cost of Living', 'Good') & R('Safety', 'Good')) | (R('Housing', 'Good') & R('Cost of Living', 'Good') & R('Healthcare', 'Good')) | (R('Housing', 'Good') & R('Cost of Living', 'Good') & R('Travel Connectivity', 'Good')) | (R('Housing', 'Good') & R('Safety', 'Good') & R('Healthcare', 'Good')) | (R('Housing', 'Good') & R('Safety', 'Good') & R('Travel Connectivity', 'Good')) | (R('Housing', 'Good') & R('Healthcare', 'Good') & R('Travel Connectivity', 'Good')) | (R('Healthcare', 'Good') & R('Cost of Living', 'Good') & R('Safety', 'Good')) | (R('Travel Connectivity', 'Good') & R('Cost of Living', 'Good') & R('Safety', 'Good')) | (R('Housing', 'Good') & R('Cost of Living', 'Good') & R('Safety', 'Good')) | (R('Healthcare', 'Good') & R('Cost of Living', 'Good') & R('Travel Connectivity', 'Good')) | (R('Safety', 'Good') & R('Cost of Living', 'Good') & R('Travel Connectivity', 'Good')) | (R('Healthcare', 'Good') & R('Cost of Living', 'Good') & R('Travel Connectivity', 'Good')) | (R('Travel Connectivity', 'Good') & R('Healthcare', 'Good') & R('Safety', 'Good')),'Good')\n",
    "fuzzy.add_rule((R('Housing', 'Mid') & R('Cost of Living', 'Mid') & R('Safety', 'Mid')) | (R('Housing', 'Mid') & R('Cost of Living', 'Mid') & R('Healthcare', 'Mid')) | (R('Housing', 'Mid') & R('Cost of Living', 'Mid') & R('Travel Connectivity', 'Mid')) | (R('Housing', 'Mid') & R('Safety', 'Mid') & R('Healthcare', 'Mid')) | (R('Housing', 'Mid') & R('Safety', 'Mid') & R('Travel Connectivity', 'Mid')) | (R('Housing', 'Mid') & R('Healthcare', 'Mid') & R('Travel Connectivity', 'Mid')) | (R('Healthcare', 'Mid') & R('Cost of Living', 'Mid') & R('Safety', 'Mid')) | (R('Travel Connectivity', 'Mid') & R('Cost of Living', 'Mid') & R('Safety', 'Mid')) | (R('Housing', 'Mid') & R('Cost of Living', 'Mid') & R('Safety', 'Mid')) | (R('Healthcare', 'Mid') & R('Cost of Living', 'Mid') & R('Travel Connectivity', 'Mid')) | (R('Safety', 'Mid') & R('Cost of Living', 'Mid') & R('Travel Connectivity', 'Mid')) | (R('Healthcare', 'Mid') & R('Cost of Living', 'Mid') & R('Travel Connectivity', 'Mid')) | (R('Travel Connectivity', 'Mid') & R('Healthcare', 'Mid') & R('Safety', 'Mid')),'Mid')\n",
    "fuzzy.add_rule((R('Housing', 'Bad') & R('Cost of Living', 'Bad') & R('Safety', 'Bad')) | (R('Housing', 'Bad') & R('Cost of Living', 'Bad') & R('Healthcare', 'Bad')) | (R('Housing', 'Bad') & R('Cost of Living', 'Bad') & R('Travel Connectivity', 'Bad')) | (R('Housing', 'Bad') & R('Safety', 'Bad') & R('Healthcare', 'Bad')) | (R('Housing', 'Bad') & R('Safety', 'Bad') & R('Travel Connectivity', 'Bad')) | (R('Housing', 'Bad') & R('Healthcare', 'Bad') & R('Travel Connectivity', 'Bad')) | (R('Healthcare', 'Bad') & R('Cost of Living', 'Bad') & R('Safety', 'Bad')) | (R('Travel Connectivity', 'Bad') & R('Cost of Living', 'Bad') & R('Safety', 'Bad')) | (R('Housing', 'Bad') & R('Cost of Living', 'Bad') & R('Safety', 'Bad')) | (R('Healthcare', 'Bad') & R('Cost of Living', 'Bad') & R('Travel Connectivity', 'Bad')) | (R('Safety', 'Bad') & R('Cost of Living', 'Bad') & R('Travel Connectivity', 'Bad')) | (R('Healthcare', 'Bad') & R('Cost of Living', 'Bad') & R('Travel Connectivity', 'Bad')) | (R('Travel Connectivity', 'Bad') & R('Healthcare', 'Bad') & R('Safety', 'Bad')),'Bad')\n",
    "\n",
    "fuzzy.add_consequent('Bad', TriangularFunction(0, 0, 0.4))\n",
    "fuzzy.add_consequent('Mid', TriangularFunction(0.3, 0.5, 0.8))\n",
    "fuzzy.add_consequent('Good', TriangularFunction(0.7, 1, 1))\n",
    "\n",
    "for (norm, defuzz_method) in product([ZadehNorm, ExtendedMangerNorm], ['fom', 'mom', 'lom', 'centroid']):\n",
    "    fuzzy_test = FuzzyTest(norm=norm(), defuzzification_method=defuzz_method)\n",
    "    fuzzy_test.run(fuzzy, pd.concat([a, b]))"
   ]
  },
  {
   "cell_type": "code",
   "execution_count": 11,
   "metadata": {
    "pycharm": {
     "name": "#%%\n"
    }
   },
   "outputs": [
    {
     "data": {
      "text/plain": "   UA_Name UA_Country   UA_Continent  Housing  Cost of Living  Startups  \\\n72  Dallas      Texas  North America    5.259           6.091    7.9395   \n\n    Travel Connectivity  Commute  Business Freedom  Safety  ...  Education  \\\n72               4.7465   4.4705             8.671   4.339  ...      4.284   \n\n    Environmental Quality  Economy  Taxation  Internet Access  \\\n72                  6.693   6.5145     4.772            6.461   \n\n    Leisure & Culture  Tolerance  Outdoors  Naive Sum  Label  \n72             7.1685      5.294     4.502   11.85825  worse  \n\n[1 rows x 21 columns]",
      "text/html": "<div>\n<style scoped>\n    .dataframe tbody tr th:only-of-type {\n        vertical-align: middle;\n    }\n\n    .dataframe tbody tr th {\n        vertical-align: top;\n    }\n\n    .dataframe thead th {\n        text-align: right;\n    }\n</style>\n<table border=\"1\" class=\"dataframe\">\n  <thead>\n    <tr style=\"text-align: right;\">\n      <th></th>\n      <th>UA_Name</th>\n      <th>UA_Country</th>\n      <th>UA_Continent</th>\n      <th>Housing</th>\n      <th>Cost of Living</th>\n      <th>Startups</th>\n      <th>Travel Connectivity</th>\n      <th>Commute</th>\n      <th>Business Freedom</th>\n      <th>Safety</th>\n      <th>...</th>\n      <th>Education</th>\n      <th>Environmental Quality</th>\n      <th>Economy</th>\n      <th>Taxation</th>\n      <th>Internet Access</th>\n      <th>Leisure &amp; Culture</th>\n      <th>Tolerance</th>\n      <th>Outdoors</th>\n      <th>Naive Sum</th>\n      <th>Label</th>\n    </tr>\n  </thead>\n  <tbody>\n    <tr>\n      <th>72</th>\n      <td>Dallas</td>\n      <td>Texas</td>\n      <td>North America</td>\n      <td>5.259</td>\n      <td>6.091</td>\n      <td>7.9395</td>\n      <td>4.7465</td>\n      <td>4.4705</td>\n      <td>8.671</td>\n      <td>4.339</td>\n      <td>...</td>\n      <td>4.284</td>\n      <td>6.693</td>\n      <td>6.5145</td>\n      <td>4.772</td>\n      <td>6.461</td>\n      <td>7.1685</td>\n      <td>5.294</td>\n      <td>4.502</td>\n      <td>11.85825</td>\n      <td>worse</td>\n    </tr>\n  </tbody>\n</table>\n<p>1 rows × 21 columns</p>\n</div>"
     },
     "execution_count": 11,
     "metadata": {},
     "output_type": "execute_result"
    }
   ],
   "source": [
    "scores[scores.UA_Name=='Dallas']"
   ]
  },
  {
   "cell_type": "code",
   "execution_count": 12,
   "metadata": {
    "pycharm": {
     "name": "#%%\n"
    }
   },
   "outputs": [
    {
     "name": "stdout",
     "output_type": "stream",
     "text": [
      "0.95\n"
     ]
    }
   ],
   "source": [
    "d2 = {\n",
    "    'Housing': {\n",
    "        'linguistic': 'Mid',\n",
    "        'numerical': 0.5\n",
    "    },\n",
    "    'Startups': {\n",
    "        'linguistic': 'Bad',\n",
    "        'numerical': 0.1\n",
    "    }\n",
    "}\n",
    "r = ~(R('Housing', 'Mid') & R('Startups', 'Bad'))\n",
    "print(r.evaluate(d2))"
   ]
  }
 ],
 "metadata": {
  "kernelspec": {
   "display_name": "Python 3 (ipykernel)",
   "language": "python",
   "name": "python3"
  },
  "language_info": {
   "codemirror_mode": {
    "name": "ipython",
    "version": 3
   },
   "file_extension": ".py",
   "mimetype": "text/x-python",
   "name": "python",
   "nbconvert_exporter": "python",
   "pygments_lexer": "ipython3",
   "version": "3.9.7"
  }
 },
 "nbformat": 4,
 "nbformat_minor": 1
}