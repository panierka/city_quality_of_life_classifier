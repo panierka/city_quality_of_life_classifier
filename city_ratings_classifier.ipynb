{
 "cells": [
  {
   "cell_type": "code",
   "execution_count": 75,
   "metadata": {
    "collapsed": true,
    "pycharm": {
     "name": "#%%\n"
    }
   },
   "outputs": [
    {
     "name": "stdout",
     "output_type": "stream",
     "text": [
      "The autoreload extension is already loaded. To reload it, use:\n",
      "  %reload_ext autoreload\n"
     ]
    }
   ],
   "source": [
    "import pandas as pd\n",
    "from IPython.display import display, HTML\n",
    "%load_ext autoreload\n",
    "%autoreload 2\n",
    "\n",
    "import importlib"
   ]
  },
  {
   "cell_type": "code",
   "execution_count": 76,
   "metadata": {
    "pycharm": {
     "name": "#%%\n"
    }
   },
   "outputs": [],
   "source": [
    "csv_file = open(\"uaScoresDataFrame.csv\")\n",
    "scores = pd.read_csv(csv_file)\n",
    "scores = scores.drop('id', axis=1)\n",
    "scores = scores.drop('Venture Capital', axis=1)"
   ]
  },
  {
   "cell_type": "code",
   "execution_count": 77,
   "metadata": {
    "pycharm": {
     "name": "#%%\n"
    }
   },
   "outputs": [
    {
     "name": "stdout",
     "output_type": "stream",
     "text": [
      "                       UA_Name               UA_Country  number\n",
      "0                      Andorra                  Andorra       6\n",
      "1                    Gibraltar                Gibraltar       5\n",
      "2                      Managua                Nicaragua       3\n",
      "3                     Tashkent               Uzbekistan       3\n",
      "4                  Belize City                   Belize       3\n",
      "5                       Panama                   Panama       3\n",
      "6                    Palo Alto               California       2\n",
      "7                       La Paz                  Bolivia       2\n",
      "8                     Portland                    Maine       2\n",
      "9                       Havana                     Cuba       2\n",
      "10                     Fukuoka                    Japan       2\n",
      "11                    San Juan              Puerto Rico       2\n",
      "12                     Bozeman                  Montana       2\n",
      "13                   Baltimore                 Maryland       2\n",
      "14                    Valletta                    Malta       2\n",
      "15             San Luis Obispo               California       1\n",
      "16                       Quito                  Ecuador       1\n",
      "17                San Salvador              El Salvador       1\n",
      "18                  Providence             Rhode Island       1\n",
      "19                    Sarajevo   Bosnia and Herzegovina       1\n",
      "20                  Phnom Penh                 Cambodia       1\n",
      "21                        Oulu                  Finland       1\n",
      "22                      Manila              Philippines       1\n",
      "23                       Lagos                  Nigeria       1\n",
      "24                      Madrid                    Spain       1\n",
      "25                        Lviv                  Ukraine       1\n",
      "26  Las Palmas de Gran Canaria                    Spain       1\n",
      "27                    Asuncion                 Paraguay       1\n",
      "28                       Kyoto                    Japan       1\n",
      "29                    Kingston                  Jamaica       1\n",
      "30                   Kathmandu                    Nepal       1\n",
      "31                   Hyderabad                    India       1\n",
      "32              Guatemala City                Guatemala       1\n",
      "33                Fort Collins                 Colorado       1\n",
      "34               Dar es Salaam                 Tanzania       1\n",
      "35                  Casablanca                  Morocco       1\n",
      "36                     Caracas                Venezuela       1\n",
      "37                        Bali                Indonesia       1\n",
      "38                        Baku               Azerbaijan       1\n",
      "39                     Yerevan                  Armenia       1\n"
     ]
    }
   ],
   "source": [
    "def check_zero(dataset):\n",
    "    invalid_rows = []\n",
    "    for element in dataset.columns.tolist():\n",
    "        invalid = dataset[dataset[element] == 0.0]\n",
    "        invalid_rows.append(invalid[['UA_Name','UA_Country']])\n",
    "    df = pd.concat(invalid_rows).reset_index(drop=True).value_counts()\n",
    "    return df\n",
    "results = check_zero(scores).to_frame().reset_index().rename(columns={0:\"number\"})\n",
    "print(results)"
   ]
  },
  {
   "cell_type": "code",
   "execution_count": 78,
   "metadata": {
    "pycharm": {
     "name": "#%%\n"
    }
   },
   "outputs": [],
   "source": [
    "scores = scores[(scores != 0).all(1)]"
   ]
  },
  {
   "cell_type": "code",
   "execution_count": 79,
   "metadata": {
    "pycharm": {
     "name": "#%%\n"
    }
   },
   "outputs": [],
   "source": [
    "weights_data = {\n",
    "    'Housing' : 1.5,\n",
    "    'Cost of Living' : 1.5,\n",
    "    'Startups' : 0.5,\n",
    "    'Business Freedom' : 0.8,\n",
    "    'Safety' : 1.5,\n",
    "    'Healthcare' : 1.5,\n",
    "    'Education' : 0.5,\n",
    "    'Travel Connectivity' : 1.5,\n",
    "}\n",
    "\n",
    "weights_data = {\n",
    "    'Housing' : 1.5,\n",
    "    'Startups' : 0.5,\n",
    "}\n",
    "\n",
    "weights_vector = pd.Series(0.0, index=scores.columns[3:-1])\n",
    "for i in range(len(weights_vector)):\n",
    "    row_name = weights_vector.index[i]\n",
    "    weights_vector[i] = weights_data.get(row_name, 0)"
   ]
  },
  {
   "cell_type": "code",
   "execution_count": 80,
   "metadata": {
    "pycharm": {
     "name": "#%%\n"
    }
   },
   "outputs": [],
   "source": [
    "summable_values = list(scores)\n",
    "if 'Naive Sum' in summable_values:\n",
    "    summable_values.remove('Naive Sum')\n",
    "weighted_scores = scores.copy()\n",
    "weighted_scores = weighted_scores * weights_vector\n",
    "scores['Naive Sum'] = weighted_scores[summable_values].sum(numeric_only=True, axis=1)"
   ]
  },
  {
   "cell_type": "code",
   "execution_count": 81,
   "metadata": {
    "pycharm": {
     "name": "#%%\n"
    }
   },
   "outputs": [],
   "source": [
    "# scores['Naive Sum']\n",
    "# better, worse\n",
    "\n",
    "midpoint = scores['Naive Sum'].quantile()\n",
    "scores['Label'] = ''\n",
    "scores.loc[scores['Naive Sum'] < midpoint, 'Label'] = 'worse'\n",
    "scores.loc[scores['Naive Sum'] >= midpoint, 'Label'] = 'better'"
   ]
  },
  {
   "cell_type": "code",
   "execution_count": 82,
   "metadata": {
    "pycharm": {
     "name": "#%%\n"
    }
   },
   "outputs": [
    {
     "data": {
      "text/plain": "<matplotlib.collections.PathCollection at 0x200834664a0>"
     },
     "execution_count": 82,
     "metadata": {},
     "output_type": "execute_result"
    },
    {
     "data": {
      "text/plain": "<Figure size 720x432 with 1 Axes>",
      "image/png": "[encoded data removed]"
     },
     "metadata": {
      "needs_background": "light"
     },
     "output_type": "display_data"
    }
   ],
   "source": [
    "import matplotlib.pyplot as plt\n",
    "import numpy as np\n",
    "\n",
    "fig, ax = plt.subplots()\n",
    "fig.set_size_inches(10, 6)\n",
    "vals = scores['Naive Sum'].sort_values()\n",
    "colors = np.where(vals >= midpoint, 'b', 'r')\n",
    "ax.scatter(scores.index, vals, c=colors, marker='+')"
   ]
  },
  {
   "cell_type": "markdown",
   "metadata": {
    "pycharm": {
     "name": "#%% md\n"
    }
   },
   "source": []
  },
  {
   "cell_type": "code",
   "execution_count": 83,
   "metadata": {
    "pycharm": {
     "name": "#%%\n"
    }
   },
   "outputs": [],
   "source": [
    "from Modules.dataprocessing import ProcessingData\n",
    "\n",
    "a, b = ProcessingData.prepare_data(scores)\n",
    "\n",
    "preview_table = pd.concat([a.head(), b.head()])"
   ]
  },
  {
   "cell_type": "code",
   "execution_count": 108,
   "outputs": [
    {
     "name": "stdout",
     "output_type": "stream",
     "text": [
      "Nice -> 77\n"
     ]
    },
    {
     "data": {
      "text/plain": "<Figure size 576x360 with 1 Axes>",
      "image/png": "[encoded data removed]"
     },
     "metadata": {
      "needs_background": "light"
     },
     "output_type": "display_data"
    },
    {
     "name": "stdout",
     "output_type": "stream",
     "text": [
      "Milwaukee -> 65\n"
     ]
    },
    {
     "data": {
      "text/plain": "<Figure size 576x360 with 1 Axes>",
      "image/png": "[encoded data removed]"
     },
     "metadata": {
      "needs_background": "light"
     },
     "output_type": "display_data"
    },
    {
     "name": "stdout",
     "output_type": "stream",
     "text": [
      "Tampa Bay Area -> 100\n"
     ]
    },
    {
     "data": {
      "text/plain": "<Figure size 576x360 with 1 Axes>",
      "image/png": "[encoded data removed]"
     },
     "metadata": {
      "needs_background": "light"
     },
     "output_type": "display_data"
    },
    {
     "name": "stdout",
     "output_type": "stream",
     "text": [
      "Buffalo -> 74\n"
     ]
    },
    {
     "data": {
      "text/plain": "<Figure size 576x360 with 1 Axes>",
      "image/png": "[encoded data removed]"
     },
     "metadata": {
      "needs_background": "light"
     },
     "output_type": "display_data"
    },
    {
     "name": "stdout",
     "output_type": "stream",
     "text": [
      "Boston -> 4\n"
     ]
    },
    {
     "data": {
      "text/plain": "<Figure size 576x360 with 1 Axes>",
      "image/png": "[encoded data removed]"
     },
     "metadata": {
      "needs_background": "light"
     },
     "output_type": "display_data"
    },
    {
     "name": "stdout",
     "output_type": "stream",
     "text": [
      "dokładność wynosi 60.0%\n"
     ]
    }
   ],
   "source": [
    "import Modules.fuzzysys as fsys\n",
    "from Modules.membership_functions import TriangularFunction\n",
    "importlib.reload(fsys)\n",
    "\n",
    "fuzzy = fsys.FuzzySystem()\n",
    "fuzzy.add_antecedent('Housing', 'Bad', TriangularFunction(0, 0, 0.4))\n",
    "fuzzy.add_antecedent('Housing', 'Mid', TriangularFunction(0.3, 0.4, 0.8))\n",
    "fuzzy.add_antecedent('Housing', 'Good', TriangularFunction(0.7, 1, 1))\n",
    "\n",
    "fuzzy.add_antecedent('Startups', 'Bad', TriangularFunction(0, 0, 0.3))\n",
    "fuzzy.add_antecedent('Startups', 'Mid', TriangularFunction(0.2, 0.4, 0.6))\n",
    "fuzzy.add_antecedent('Startups', 'Good', TriangularFunction(0.5, 1, 1))\n",
    "\n",
    "fuzzy.add_rule({'Housing' : 'Bad', 'Startups': 'Bad'}, 'Bad')\n",
    "fuzzy.add_rule({'Housing' : 'Bad', 'Startups': 'Mid'}, 'Bad')\n",
    "fuzzy.add_rule({'Housing' : 'Bad', 'Startups': 'Good'}, 'Bad')\n",
    "fuzzy.add_rule({'Housing' : 'Mid', 'Startups': 'Bad'}, 'Mid')\n",
    "fuzzy.add_rule({'Housing' : 'Mid', 'Startups': 'Mid'}, 'Mid')\n",
    "fuzzy.add_rule({'Housing' : 'Mid', 'Startups': 'Good'}, 'Good')\n",
    "fuzzy.add_rule({'Housing' : 'Good', 'Startups': 'Bad'}, 'Good')\n",
    "fuzzy.add_rule({'Housing' : 'Good', 'Startups': 'Mid'}, 'Good')\n",
    "fuzzy.add_rule({'Housing' : 'Good', 'Startups': 'Good'}, 'Good')\n",
    "\n",
    "fuzzy.add_consequent('Bad', TriangularFunction(0, 0, 0.4))\n",
    "fuzzy.add_consequent('Mid', TriangularFunction(0.3, 0.5, 0.8))\n",
    "fuzzy.add_consequent('Good', TriangularFunction(0.7, 1, 1))\n",
    "\n",
    "successes = 0\n",
    "df = pd.concat([a, b])\n",
    "n = 5\n",
    "for i in range(n):\n",
    "    sample = df.iloc[i]\n",
    "    result, fx = fuzzy.compute(sample, 'lom')\n",
    "    print(f'{sample[\"UA_Name\"]} -> {result}')\n",
    "    xs = np.linspace(1, 100, num=1000)\n",
    "    fig, ax = plt.subplots()\n",
    "    fig.set_size_inches(8, 5)\n",
    "    ax.set_ylim([0, 1])\n",
    "    ax.plot(xs, fx)\n",
    "    plt.show()\n",
    "    r = result > 77\n",
    "    if r == (sample['Label'] == 'better'):\n",
    "        successes += 1\n",
    "accuracy = round(successes / n * 100, 1)\n",
    "print(f'dokładność wynosi {accuracy}%')"
   ],
   "metadata": {
    "collapsed": false,
    "pycharm": {
     "name": "#%%\n"
    }
   }
  },
  {
   "cell_type": "code",
   "execution_count": 97,
   "outputs": [
    {
     "data": {
      "text/plain": "   UA_Name      UA_Country   UA_Continent  Housing  Cost of Living  Startups  \\\n35  Boston   Massachusetts  North America      1.0           4.259     9.565   \n\n    Travel Connectivity  Commute  Business Freedom  Safety  ...  Education  \\\n35                3.215  4.39625             8.671   7.742  ...     8.6245   \n\n    Environmental Quality  Economy  Taxation  Internet Access  \\\n35                 8.1705   6.5145     4.062           5.7005   \n\n    Leisure & Culture  Tolerance  Outdoors  Naive Sum  Label  \n35              8.564     8.4815      5.66     6.2825  worse  \n\n[1 rows x 21 columns]",
      "text/html": "<div>\n<style scoped>\n    .dataframe tbody tr th:only-of-type {\n        vertical-align: middle;\n    }\n\n    .dataframe tbody tr th {\n        vertical-align: top;\n    }\n\n    .dataframe thead th {\n        text-align: right;\n    }\n</style>\n<table border=\"1\" class=\"dataframe\">\n  <thead>\n    <tr style=\"text-align: right;\">\n      <th></th>\n      <th>UA_Name</th>\n      <th>UA_Country</th>\n      <th>UA_Continent</th>\n      <th>Housing</th>\n      <th>Cost of Living</th>\n      <th>Startups</th>\n      <th>Travel Connectivity</th>\n      <th>Commute</th>\n      <th>Business Freedom</th>\n      <th>Safety</th>\n      <th>...</th>\n      <th>Education</th>\n      <th>Environmental Quality</th>\n      <th>Economy</th>\n      <th>Taxation</th>\n      <th>Internet Access</th>\n      <th>Leisure &amp; Culture</th>\n      <th>Tolerance</th>\n      <th>Outdoors</th>\n      <th>Naive Sum</th>\n      <th>Label</th>\n    </tr>\n  </thead>\n  <tbody>\n    <tr>\n      <th>35</th>\n      <td>Boston</td>\n      <td>Massachusetts</td>\n      <td>North America</td>\n      <td>1.0</td>\n      <td>4.259</td>\n      <td>9.565</td>\n      <td>3.215</td>\n      <td>4.39625</td>\n      <td>8.671</td>\n      <td>7.742</td>\n      <td>...</td>\n      <td>8.6245</td>\n      <td>8.1705</td>\n      <td>6.5145</td>\n      <td>4.062</td>\n      <td>5.7005</td>\n      <td>8.564</td>\n      <td>8.4815</td>\n      <td>5.66</td>\n      <td>6.2825</td>\n      <td>worse</td>\n    </tr>\n  </tbody>\n</table>\n<p>1 rows × 21 columns</p>\n</div>"
     },
     "execution_count": 97,
     "metadata": {},
     "output_type": "execute_result"
    }
   ],
   "source": [
    "scores[scores.UA_Name=='Boston']"
   ],
   "metadata": {
    "collapsed": false,
    "pycharm": {
     "name": "#%%\n"
    }
   }
  }
 ],
 "metadata": {
  "kernelspec": {
   "display_name": "Python 3 (ipykernel)",
   "language": "python",
   "name": "python3"
  },
  "language_info": {
   "codemirror_mode": {
    "name": "ipython",
    "version": 3
   },
   "file_extension": ".py",
   "mimetype": "text/x-python",
   "name": "python",
   "nbconvert_exporter": "python",
   "pygments_lexer": "ipython3",
   "version": "3.9.7"
  }
 },
 "nbformat": 4,
 "nbformat_minor": 1
}