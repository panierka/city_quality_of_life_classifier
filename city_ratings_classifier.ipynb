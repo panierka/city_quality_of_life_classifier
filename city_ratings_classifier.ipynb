{
 "cells": [
  {
   "cell_type": "code",
   "execution_count": 16,
   "metadata": {
    "collapsed": true,
    "pycharm": {
     "name": "#%%\n"
    }
   },
   "outputs": [
    {
     "name": "stdout",
     "output_type": "stream",
     "text": [
      "The autoreload extension is already loaded. To reload it, use:\n",
      "  %reload_ext autoreload\n"
     ]
    }
   ],
   "source": [
    "import pandas as pd\n",
    "from IPython.display import display, HTML\n",
    "%load_ext autoreload\n",
    "%autoreload 2\n",
    "\n",
    "import importlib"
   ]
  },
  {
   "cell_type": "code",
   "execution_count": 17,
   "metadata": {
    "pycharm": {
     "name": "#%%\n"
    }
   },
   "outputs": [],
   "source": [
    "csv_file = open(\"uaScoresDataFrame.csv\")\n",
    "scores = pd.read_csv(csv_file)\n",
    "scores = scores.drop('id', axis=1)\n",
    "scores = scores.drop('Venture Capital', axis=1)"
   ]
  },
  {
   "cell_type": "code",
   "execution_count": 18,
   "metadata": {
    "pycharm": {
     "name": "#%%\n"
    }
   },
   "outputs": [
    {
     "name": "stdout",
     "output_type": "stream",
     "text": [
      "                       UA_Name               UA_Country  number\n",
      "0                      Andorra                  Andorra       6\n",
      "1                    Gibraltar                Gibraltar       5\n",
      "2                      Managua                Nicaragua       3\n",
      "3                     Tashkent               Uzbekistan       3\n",
      "4                  Belize City                   Belize       3\n",
      "5                       Panama                   Panama       3\n",
      "6                    Palo Alto               California       2\n",
      "7                       La Paz                  Bolivia       2\n",
      "8                     Portland                    Maine       2\n",
      "9                       Havana                     Cuba       2\n",
      "10                     Fukuoka                    Japan       2\n",
      "11                    San Juan              Puerto Rico       2\n",
      "12                     Bozeman                  Montana       2\n",
      "13                   Baltimore                 Maryland       2\n",
      "14                    Valletta                    Malta       2\n",
      "15             San Luis Obispo               California       1\n",
      "16                       Quito                  Ecuador       1\n",
      "17                San Salvador              El Salvador       1\n",
      "18                  Providence             Rhode Island       1\n",
      "19                    Sarajevo   Bosnia and Herzegovina       1\n",
      "20                  Phnom Penh                 Cambodia       1\n",
      "21                        Oulu                  Finland       1\n",
      "22                      Manila              Philippines       1\n",
      "23                       Lagos                  Nigeria       1\n",
      "24                      Madrid                    Spain       1\n",
      "25                        Lviv                  Ukraine       1\n",
      "26  Las Palmas de Gran Canaria                    Spain       1\n",
      "27                    Asuncion                 Paraguay       1\n",
      "28                       Kyoto                    Japan       1\n",
      "29                    Kingston                  Jamaica       1\n",
      "30                   Kathmandu                    Nepal       1\n",
      "31                   Hyderabad                    India       1\n",
      "32              Guatemala City                Guatemala       1\n",
      "33                Fort Collins                 Colorado       1\n",
      "34               Dar es Salaam                 Tanzania       1\n",
      "35                  Casablanca                  Morocco       1\n",
      "36                     Caracas                Venezuela       1\n",
      "37                        Bali                Indonesia       1\n",
      "38                        Baku               Azerbaijan       1\n",
      "39                     Yerevan                  Armenia       1\n"
     ]
    }
   ],
   "source": [
    "def check_zero(dataset):\n",
    "    invalid_rows = []\n",
    "    for element in dataset.columns.tolist():\n",
    "        invalid = dataset[dataset[element] == 0.0]\n",
    "        invalid_rows.append(invalid[['UA_Name','UA_Country']])\n",
    "    df = pd.concat(invalid_rows).reset_index(drop=True).value_counts()\n",
    "    return df\n",
    "results = check_zero(scores).to_frame().reset_index().rename(columns={0:\"number\"})\n",
    "print(results)"
   ]
  },
  {
   "cell_type": "code",
   "execution_count": 19,
   "metadata": {
    "pycharm": {
     "name": "#%%\n"
    }
   },
   "outputs": [],
   "source": [
    "scores = scores[(scores != 0).all(1)]"
   ]
  },
  {
   "cell_type": "code",
   "execution_count": 20,
   "metadata": {
    "pycharm": {
     "name": "#%%\n"
    }
   },
   "outputs": [],
   "source": [
    "weights_data = {\n",
    "    'Housing' : 1.5,\n",
    "    'Cost of Living' : 1.5,\n",
    "    'Startups' : 0.5,\n",
    "    'Business Freedom' : 0.8,\n",
    "    'Safety' : 1.5,\n",
    "    'Healthcare' : 1.5,\n",
    "    'Education' : 0.5,\n",
    "    'Travel Connectivity' : 1.5,\n",
    "}\n",
    "\n",
    "weights_vector = pd.Series(0.0, index=scores.columns[3:-1])\n",
    "for i in range(len(weights_vector)):\n",
    "    row_name = weights_vector.index[i]\n",
    "    weights_vector[i] = weights_data.get(row_name, 1)"
   ]
  },
  {
   "cell_type": "code",
   "execution_count": 21,
   "metadata": {
    "pycharm": {
     "name": "#%%\n"
    }
   },
   "outputs": [],
   "source": [
    "summable_values = list(scores)\n",
    "if 'Naive Sum' in summable_values:\n",
    "    summable_values.remove('Naive Sum')\n",
    "weighted_scores = scores.copy()\n",
    "weighted_scores = weighted_scores * weights_vector\n",
    "scores['Naive Sum'] = weighted_scores[summable_values].sum(numeric_only=True, axis=1)"
   ]
  },
  {
   "cell_type": "code",
   "execution_count": 22,
   "metadata": {
    "pycharm": {
     "name": "#%%\n"
    }
   },
   "outputs": [],
   "source": [
    "# scores['Naive Sum']\n",
    "# better, worse\n",
    "\n",
    "midpoint = scores['Naive Sum'].quantile()\n",
    "scores['Label'] = ''\n",
    "scores.loc[scores['Naive Sum'] < midpoint, 'Label'] = 'worse'\n",
    "scores.loc[scores['Naive Sum'] >= midpoint, 'Label'] = 'better'"
   ]
  },
  {
   "cell_type": "code",
   "execution_count": 23,
   "metadata": {
    "pycharm": {
     "name": "#%%\n"
    }
   },
   "outputs": [
    {
     "data": {
      "text/plain": "<matplotlib.collections.PathCollection at 0x19340f8dc30>"
     },
     "execution_count": 23,
     "metadata": {},
     "output_type": "execute_result"
    },
    {
     "data": {
      "text/plain": "<Figure size 720x432 with 1 Axes>",
      "image/png": "[encoded data removed]"
     },
     "metadata": {
      "needs_background": "light"
     },
     "output_type": "display_data"
    }
   ],
   "source": [
    "import matplotlib.pyplot as plt\n",
    "import numpy as np\n",
    "\n",
    "fig, ax = plt.subplots()\n",
    "fig.set_size_inches(10, 6)\n",
    "vals = scores['Naive Sum'].sort_values()\n",
    "colors = np.where(vals >= midpoint, 'b', 'r')\n",
    "ax.scatter(scores.index, vals, c=colors, marker='+')"
   ]
  },
  {
   "cell_type": "markdown",
   "metadata": {
    "pycharm": {
     "name": "#%% md\n"
    }
   },
   "source": []
  },
  {
   "cell_type": "code",
   "execution_count": 40,
   "metadata": {
    "pycharm": {
     "name": "#%%\n"
    }
   },
   "outputs": [
    {
     "data": {
      "text/plain": "        UA_Name       UA_Country   UA_Continent   Housing  Cost of Living  \\\n0    Charleston   South Carolina  North America  0.404111        0.285222   \n1     Knoxville        Tennessee  North America  0.663944        0.605222   \n2       Jakarta        Indonesia           Asia  0.852333        0.830111   \n3       Leipzig          Germany         Europe  0.797444        0.545667   \n4       Hamburg          Germany         Europe  0.549389        0.433778   \n188        Oslo           Norway         Europe  0.307556        0.004222   \n189     Toronto           Canada  North America  0.406667        0.474556   \n190     Seattle       Washington  North America  0.143444        0.310000   \n192   Marseille           France         Europe  0.732056        0.558444   \n193   Innsbruck          Austria         Europe  0.634222        0.414667   \n\n     Startups  Travel Connectivity   Commute  Business Freedom    Safety  ...  \\\n0    0.435556             0.076849  0.644651          0.815902  0.428811  ...   \n1    0.279611             0.074702  0.193206          0.815902  0.437359  ...   \n2    0.516611             0.193786  0.479305          0.172831  0.653497  ...   \n3    0.189611             0.392186  0.879499          0.871497  0.685439  ...   \n4    0.532667             0.536868  0.847931          0.871497  0.590943  ...   \n188  0.467667             0.482344  0.839290          0.949485  0.665743  ...   \n189  0.997889             0.391972  0.655146          0.856767  0.733553  ...   \n190  0.818556             0.236289  0.628298          0.815902  0.495928  ...   \n192  0.256611             0.565364  0.853705          0.735190  0.451510  ...   \n193  0.125056             0.524471  0.940234          0.666990  0.800497  ...   \n\n     Education  Environmental Quality   Economy  Taxation  Internet Access  \\\n0     0.339214               0.704457  0.645634  0.307441         0.584328   \n1     0.402996               0.295543  0.645634  0.390250         0.699002   \n2     0.057268               0.153109  0.416785  0.564497         0.401446   \n3     0.413256               0.906656  0.505022  0.288955         0.533100   \n4     0.413256               0.802060  0.505022  0.288955         0.523233   \n188   0.504234               0.836618  0.714523  0.387917         0.799736   \n189   0.771089               0.693120  0.562573  0.682120         0.388137   \n190   0.566117               0.737174  0.645634  0.390250         0.452100   \n192   0.427967               0.320721  0.360959  0.142524         0.521168   \n193   0.415807               0.714816  0.417463  0.144623         0.465753   \n\n     Leisure & Culture  Tolerance  Outdoors  Naive Sum   Label  \n0             0.621667   0.516777  0.606686   0.279083   worse  \n1             0.388389   0.471896  0.168505   0.278432   worse  \n2             0.794000   0.065587  0.901655   0.285431   worse  \n3             0.391833   0.690031  0.571371   0.734543  better  \n4             0.594722   0.686316  0.617247   0.717456  better  \n188           0.544333   0.670118  0.765438   0.614636  better  \n189           0.758444   0.779490  0.685322   0.841679  better  \n190           0.790611   0.799160  0.902664   0.422548   worse  \n192           0.493667   0.565800  0.630096   0.546105   worse  \n193           0.380500   0.847391  0.465963   0.634883  better  \n\n[10 rows x 21 columns]",
      "text/html": "<div>\n<style scoped>\n    .dataframe tbody tr th:only-of-type {\n        vertical-align: middle;\n    }\n\n    .dataframe tbody tr th {\n        vertical-align: top;\n    }\n\n    .dataframe thead th {\n        text-align: right;\n    }\n</style>\n<table border=\"1\" class=\"dataframe\">\n  <thead>\n    <tr style=\"text-align: right;\">\n      <th></th>\n      <th>UA_Name</th>\n      <th>UA_Country</th>\n      <th>UA_Continent</th>\n      <th>Housing</th>\n      <th>Cost of Living</th>\n      <th>Startups</th>\n      <th>Travel Connectivity</th>\n      <th>Commute</th>\n      <th>Business Freedom</th>\n      <th>Safety</th>\n      <th>...</th>\n      <th>Education</th>\n      <th>Environmental Quality</th>\n      <th>Economy</th>\n      <th>Taxation</th>\n      <th>Internet Access</th>\n      <th>Leisure &amp; Culture</th>\n      <th>Tolerance</th>\n      <th>Outdoors</th>\n      <th>Naive Sum</th>\n      <th>Label</th>\n    </tr>\n  </thead>\n  <tbody>\n    <tr>\n      <th>0</th>\n      <td>Charleston</td>\n      <td>South Carolina</td>\n      <td>North America</td>\n      <td>0.404111</td>\n      <td>0.285222</td>\n      <td>0.435556</td>\n      <td>0.076849</td>\n      <td>0.644651</td>\n      <td>0.815902</td>\n      <td>0.428811</td>\n      <td>...</td>\n      <td>0.339214</td>\n      <td>0.704457</td>\n      <td>0.645634</td>\n      <td>0.307441</td>\n      <td>0.584328</td>\n      <td>0.621667</td>\n      <td>0.516777</td>\n      <td>0.606686</td>\n      <td>0.279083</td>\n      <td>worse</td>\n    </tr>\n    <tr>\n      <th>1</th>\n      <td>Knoxville</td>\n      <td>Tennessee</td>\n      <td>North America</td>\n      <td>0.663944</td>\n      <td>0.605222</td>\n      <td>0.279611</td>\n      <td>0.074702</td>\n      <td>0.193206</td>\n      <td>0.815902</td>\n      <td>0.437359</td>\n      <td>...</td>\n      <td>0.402996</td>\n      <td>0.295543</td>\n      <td>0.645634</td>\n      <td>0.390250</td>\n      <td>0.699002</td>\n      <td>0.388389</td>\n      <td>0.471896</td>\n      <td>0.168505</td>\n      <td>0.278432</td>\n      <td>worse</td>\n    </tr>\n    <tr>\n      <th>2</th>\n      <td>Jakarta</td>\n      <td>Indonesia</td>\n      <td>Asia</td>\n      <td>0.852333</td>\n      <td>0.830111</td>\n      <td>0.516611</td>\n      <td>0.193786</td>\n      <td>0.479305</td>\n      <td>0.172831</td>\n      <td>0.653497</td>\n      <td>...</td>\n      <td>0.057268</td>\n      <td>0.153109</td>\n      <td>0.416785</td>\n      <td>0.564497</td>\n      <td>0.401446</td>\n      <td>0.794000</td>\n      <td>0.065587</td>\n      <td>0.901655</td>\n      <td>0.285431</td>\n      <td>worse</td>\n    </tr>\n    <tr>\n      <th>3</th>\n      <td>Leipzig</td>\n      <td>Germany</td>\n      <td>Europe</td>\n      <td>0.797444</td>\n      <td>0.545667</td>\n      <td>0.189611</td>\n      <td>0.392186</td>\n      <td>0.879499</td>\n      <td>0.871497</td>\n      <td>0.685439</td>\n      <td>...</td>\n      <td>0.413256</td>\n      <td>0.906656</td>\n      <td>0.505022</td>\n      <td>0.288955</td>\n      <td>0.533100</td>\n      <td>0.391833</td>\n      <td>0.690031</td>\n      <td>0.571371</td>\n      <td>0.734543</td>\n      <td>better</td>\n    </tr>\n    <tr>\n      <th>4</th>\n      <td>Hamburg</td>\n      <td>Germany</td>\n      <td>Europe</td>\n      <td>0.549389</td>\n      <td>0.433778</td>\n      <td>0.532667</td>\n      <td>0.536868</td>\n      <td>0.847931</td>\n      <td>0.871497</td>\n      <td>0.590943</td>\n      <td>...</td>\n      <td>0.413256</td>\n      <td>0.802060</td>\n      <td>0.505022</td>\n      <td>0.288955</td>\n      <td>0.523233</td>\n      <td>0.594722</td>\n      <td>0.686316</td>\n      <td>0.617247</td>\n      <td>0.717456</td>\n      <td>better</td>\n    </tr>\n    <tr>\n      <th>188</th>\n      <td>Oslo</td>\n      <td>Norway</td>\n      <td>Europe</td>\n      <td>0.307556</td>\n      <td>0.004222</td>\n      <td>0.467667</td>\n      <td>0.482344</td>\n      <td>0.839290</td>\n      <td>0.949485</td>\n      <td>0.665743</td>\n      <td>...</td>\n      <td>0.504234</td>\n      <td>0.836618</td>\n      <td>0.714523</td>\n      <td>0.387917</td>\n      <td>0.799736</td>\n      <td>0.544333</td>\n      <td>0.670118</td>\n      <td>0.765438</td>\n      <td>0.614636</td>\n      <td>better</td>\n    </tr>\n    <tr>\n      <th>189</th>\n      <td>Toronto</td>\n      <td>Canada</td>\n      <td>North America</td>\n      <td>0.406667</td>\n      <td>0.474556</td>\n      <td>0.997889</td>\n      <td>0.391972</td>\n      <td>0.655146</td>\n      <td>0.856767</td>\n      <td>0.733553</td>\n      <td>...</td>\n      <td>0.771089</td>\n      <td>0.693120</td>\n      <td>0.562573</td>\n      <td>0.682120</td>\n      <td>0.388137</td>\n      <td>0.758444</td>\n      <td>0.779490</td>\n      <td>0.685322</td>\n      <td>0.841679</td>\n      <td>better</td>\n    </tr>\n    <tr>\n      <th>190</th>\n      <td>Seattle</td>\n      <td>Washington</td>\n      <td>North America</td>\n      <td>0.143444</td>\n      <td>0.310000</td>\n      <td>0.818556</td>\n      <td>0.236289</td>\n      <td>0.628298</td>\n      <td>0.815902</td>\n      <td>0.495928</td>\n      <td>...</td>\n      <td>0.566117</td>\n      <td>0.737174</td>\n      <td>0.645634</td>\n      <td>0.390250</td>\n      <td>0.452100</td>\n      <td>0.790611</td>\n      <td>0.799160</td>\n      <td>0.902664</td>\n      <td>0.422548</td>\n      <td>worse</td>\n    </tr>\n    <tr>\n      <th>192</th>\n      <td>Marseille</td>\n      <td>France</td>\n      <td>Europe</td>\n      <td>0.732056</td>\n      <td>0.558444</td>\n      <td>0.256611</td>\n      <td>0.565364</td>\n      <td>0.853705</td>\n      <td>0.735190</td>\n      <td>0.451510</td>\n      <td>...</td>\n      <td>0.427967</td>\n      <td>0.320721</td>\n      <td>0.360959</td>\n      <td>0.142524</td>\n      <td>0.521168</td>\n      <td>0.493667</td>\n      <td>0.565800</td>\n      <td>0.630096</td>\n      <td>0.546105</td>\n      <td>worse</td>\n    </tr>\n    <tr>\n      <th>193</th>\n      <td>Innsbruck</td>\n      <td>Austria</td>\n      <td>Europe</td>\n      <td>0.634222</td>\n      <td>0.414667</td>\n      <td>0.125056</td>\n      <td>0.524471</td>\n      <td>0.940234</td>\n      <td>0.666990</td>\n      <td>0.800497</td>\n      <td>...</td>\n      <td>0.415807</td>\n      <td>0.714816</td>\n      <td>0.417463</td>\n      <td>0.144623</td>\n      <td>0.465753</td>\n      <td>0.380500</td>\n      <td>0.847391</td>\n      <td>0.465963</td>\n      <td>0.634883</td>\n      <td>better</td>\n    </tr>\n  </tbody>\n</table>\n<p>10 rows × 21 columns</p>\n</div>"
     },
     "metadata": {},
     "output_type": "display_data"
    }
   ],
   "source": [
    "from Modules.dataprocessing import ProcessingData\n",
    "\n",
    "a, b = ProcessingData.prepare_data(scores)\n",
    "\n",
    "preview_table = pd.concat([a.head(), b.head()])\n",
    "display(preview_table)"
   ]
  },
  {
   "cell_type": "code",
   "execution_count": 53,
   "metadata": {
    "pycharm": {
     "name": "#%%\n"
    }
   },
   "outputs": [
    {
     "name": "stdout",
     "output_type": "stream",
     "text": [
      "Housing {'linguistic': 'Mid', 'numerical': 0.9897222222222222} Bad\n",
      "Startups {'linguistic': 'Mid', 'numerical': 0.8222222222222224} Bad\n",
      "Housing {'linguistic': 'Mid', 'numerical': 0.9897222222222222} Bad\n",
      "Startups {'linguistic': 'Mid', 'numerical': 0.8222222222222224} Mid\n",
      "Housing {'linguistic': 'Mid', 'numerical': 0.9897222222222222} Bad\n",
      "Startups {'linguistic': 'Mid', 'numerical': 0.8222222222222224} Good\n",
      "Housing {'linguistic': 'Mid', 'numerical': 0.9897222222222222} Mid\n",
      "Startups {'linguistic': 'Mid', 'numerical': 0.8222222222222224} Bad\n",
      "Housing {'linguistic': 'Mid', 'numerical': 0.9897222222222222} Mid\n",
      "Startups {'linguistic': 'Mid', 'numerical': 0.8222222222222224} Mid\n",
      "Housing {'linguistic': 'Mid', 'numerical': 0.9897222222222222} Mid\n",
      "Startups {'linguistic': 'Mid', 'numerical': 0.8222222222222224} Good\n",
      "Housing {'linguistic': 'Mid', 'numerical': 0.9897222222222222} Good\n",
      "Startups {'linguistic': 'Mid', 'numerical': 0.8222222222222224} Bad\n",
      "Housing {'linguistic': 'Mid', 'numerical': 0.9897222222222222} Good\n",
      "Startups {'linguistic': 'Mid', 'numerical': 0.8222222222222224} Mid\n",
      "Housing {'linguistic': 'Mid', 'numerical': 0.9897222222222222} Good\n",
      "Startups {'linguistic': 'Mid', 'numerical': 0.8222222222222224} Good\n",
      "Charleston -> Good\n",
      "Housing {'linguistic': 'Mid', 'numerical': 0.34013888888888927} Bad\n",
      "Startups {'linguistic': 'Mid', 'numerical': 0.39805555555555566} Bad\n",
      "Housing {'linguistic': 'Mid', 'numerical': 0.34013888888888927} Bad\n",
      "Startups {'linguistic': 'Mid', 'numerical': 0.39805555555555566} Mid\n",
      "Housing {'linguistic': 'Mid', 'numerical': 0.34013888888888927} Bad\n",
      "Startups {'linguistic': 'Mid', 'numerical': 0.39805555555555566} Good\n",
      "Housing {'linguistic': 'Mid', 'numerical': 0.34013888888888927} Mid\n",
      "Startups {'linguistic': 'Mid', 'numerical': 0.39805555555555566} Bad\n",
      "Housing {'linguistic': 'Mid', 'numerical': 0.34013888888888927} Mid\n",
      "Startups {'linguistic': 'Mid', 'numerical': 0.39805555555555566} Mid\n",
      "Housing {'linguistic': 'Mid', 'numerical': 0.34013888888888927} Mid\n",
      "Startups {'linguistic': 'Mid', 'numerical': 0.39805555555555566} Good\n",
      "Housing {'linguistic': 'Mid', 'numerical': 0.34013888888888927} Good\n",
      "Startups {'linguistic': 'Mid', 'numerical': 0.39805555555555566} Bad\n",
      "Housing {'linguistic': 'Mid', 'numerical': 0.34013888888888927} Good\n",
      "Startups {'linguistic': 'Mid', 'numerical': 0.39805555555555566} Mid\n",
      "Housing {'linguistic': 'Mid', 'numerical': 0.34013888888888927} Good\n",
      "Startups {'linguistic': 'Mid', 'numerical': 0.39805555555555566} Good\n",
      "Knoxville -> Mid\n",
      "Housing {'linguistic': 'Good', 'numerical': 0.5077777777777777} Bad\n",
      "Startups {'linguistic': 'Mid', 'numerical': 0.41694444444444434} Bad\n",
      "Housing {'linguistic': 'Good', 'numerical': 0.5077777777777777} Bad\n",
      "Startups {'linguistic': 'Mid', 'numerical': 0.41694444444444434} Mid\n",
      "Housing {'linguistic': 'Good', 'numerical': 0.5077777777777777} Bad\n",
      "Startups {'linguistic': 'Mid', 'numerical': 0.41694444444444434} Good\n",
      "Housing {'linguistic': 'Good', 'numerical': 0.5077777777777777} Mid\n",
      "Startups {'linguistic': 'Mid', 'numerical': 0.41694444444444434} Bad\n",
      "Housing {'linguistic': 'Good', 'numerical': 0.5077777777777777} Mid\n",
      "Startups {'linguistic': 'Mid', 'numerical': 0.41694444444444434} Mid\n",
      "Housing {'linguistic': 'Good', 'numerical': 0.5077777777777777} Mid\n",
      "Startups {'linguistic': 'Mid', 'numerical': 0.41694444444444434} Good\n",
      "Housing {'linguistic': 'Good', 'numerical': 0.5077777777777777} Good\n",
      "Startups {'linguistic': 'Mid', 'numerical': 0.41694444444444434} Bad\n",
      "Housing {'linguistic': 'Good', 'numerical': 0.5077777777777777} Good\n",
      "Startups {'linguistic': 'Mid', 'numerical': 0.41694444444444434} Mid\n",
      "Housing {'linguistic': 'Good', 'numerical': 0.5077777777777777} Good\n",
      "Startups {'linguistic': 'Mid', 'numerical': 0.41694444444444434} Good\n",
      "Jakarta -> Mid\n",
      "Housing {'linguistic': 'Good', 'numerical': 0.3248148148148148} Bad\n",
      "Startups {'linguistic': 'Bad', 'numerical': 0.36796296296296294} Bad\n",
      "Housing {'linguistic': 'Good', 'numerical': 0.3248148148148148} Bad\n",
      "Startups {'linguistic': 'Bad', 'numerical': 0.36796296296296294} Mid\n",
      "Housing {'linguistic': 'Good', 'numerical': 0.3248148148148148} Bad\n",
      "Startups {'linguistic': 'Bad', 'numerical': 0.36796296296296294} Good\n",
      "Housing {'linguistic': 'Good', 'numerical': 0.3248148148148148} Mid\n",
      "Startups {'linguistic': 'Bad', 'numerical': 0.36796296296296294} Bad\n",
      "Housing {'linguistic': 'Good', 'numerical': 0.3248148148148148} Mid\n",
      "Startups {'linguistic': 'Bad', 'numerical': 0.36796296296296294} Mid\n",
      "Housing {'linguistic': 'Good', 'numerical': 0.3248148148148148} Mid\n",
      "Startups {'linguistic': 'Bad', 'numerical': 0.36796296296296294} Good\n",
      "Housing {'linguistic': 'Good', 'numerical': 0.3248148148148148} Good\n",
      "Startups {'linguistic': 'Bad', 'numerical': 0.36796296296296294} Bad\n",
      "Housing {'linguistic': 'Good', 'numerical': 0.3248148148148148} Good\n",
      "Startups {'linguistic': 'Bad', 'numerical': 0.36796296296296294} Mid\n",
      "Housing {'linguistic': 'Good', 'numerical': 0.3248148148148148} Good\n",
      "Startups {'linguistic': 'Bad', 'numerical': 0.36796296296296294} Good\n",
      "Leipzig -> Mid\n",
      "Housing {'linguistic': 'Mid', 'numerical': 0.6265277777777778} Bad\n",
      "Startups {'linguistic': 'Mid', 'numerical': 0.3366666666666674} Bad\n",
      "Housing {'linguistic': 'Mid', 'numerical': 0.6265277777777778} Bad\n",
      "Startups {'linguistic': 'Mid', 'numerical': 0.3366666666666674} Mid\n",
      "Housing {'linguistic': 'Mid', 'numerical': 0.6265277777777778} Bad\n",
      "Startups {'linguistic': 'Mid', 'numerical': 0.3366666666666674} Good\n",
      "Housing {'linguistic': 'Mid', 'numerical': 0.6265277777777778} Mid\n",
      "Startups {'linguistic': 'Mid', 'numerical': 0.3366666666666674} Bad\n",
      "Housing {'linguistic': 'Mid', 'numerical': 0.6265277777777778} Mid\n",
      "Startups {'linguistic': 'Mid', 'numerical': 0.3366666666666674} Mid\n",
      "Housing {'linguistic': 'Mid', 'numerical': 0.6265277777777778} Mid\n",
      "Startups {'linguistic': 'Mid', 'numerical': 0.3366666666666674} Good\n",
      "Housing {'linguistic': 'Mid', 'numerical': 0.6265277777777778} Good\n",
      "Startups {'linguistic': 'Mid', 'numerical': 0.3366666666666674} Bad\n",
      "Housing {'linguistic': 'Mid', 'numerical': 0.6265277777777778} Good\n",
      "Startups {'linguistic': 'Mid', 'numerical': 0.3366666666666674} Mid\n",
      "Housing {'linguistic': 'Mid', 'numerical': 0.6265277777777778} Good\n",
      "Startups {'linguistic': 'Mid', 'numerical': 0.3366666666666674} Good\n",
      "Hamburg -> Mid\n"
     ]
    }
   ],
   "source": [
    "import Modules.fuzzysys as fsys\n",
    "from Modules.membership_functions import TriangularFunction\n",
    "from Modules.norms import AdditiveNorm\n",
    "importlib.reload(fsys)\n",
    "\n",
    "fuzzy = fsys.FuzzySystem()\n",
    "fuzzy.add_antecedent('Housing', 'Bad', TriangularFunction(0, 0, 0.4))\n",
    "fuzzy.add_antecedent('Housing', 'Mid', TriangularFunction(0.3, 0.4, 0.8))\n",
    "fuzzy.add_antecedent('Housing', 'Good', TriangularFunction(0.7, 1, 1))\n",
    "\n",
    "fuzzy.add_antecedent('Startups', 'Bad', TriangularFunction(0, 0, 0.3))\n",
    "fuzzy.add_antecedent('Startups', 'Mid', TriangularFunction(0.2, 0.4, 0.6))\n",
    "fuzzy.add_antecedent('Startups', 'Good', TriangularFunction(0.5, 0.8, 1))\n",
    "\n",
    "fuzzy.add_rule({'Housing' : 'Bad', 'Startups': 'Bad', 'Rating': 'Bad'})\n",
    "fuzzy.add_rule({'Housing' : 'Bad', 'Startups': 'Mid', 'Rating': 'Bad'})\n",
    "fuzzy.add_rule({'Housing' : 'Bad', 'Startups': 'Good', 'Rating': 'Bad'})\n",
    "fuzzy.add_rule({'Housing' : 'Mid', 'Startups': 'Bad', 'Rating': 'Bad'})\n",
    "fuzzy.add_rule({'Housing' : 'Mid', 'Startups': 'Mid', 'Rating': 'Bad'})\n",
    "fuzzy.add_rule({'Housing' : 'Mid', 'Startups': 'Good', 'Rating': 'Good'})\n",
    "fuzzy.add_rule({'Housing' : 'Good', 'Startups': 'Bad', 'Rating': 'Good'})\n",
    "fuzzy.add_rule({'Housing' : 'Good', 'Startups': 'Mid', 'Rating': 'Good'})\n",
    "fuzzy.add_rule({'Housing' : 'Good', 'Startups': 'Good', 'Rating': 'Good'})\n",
    "\n",
    "fuzzy.add_consequent('Rating', 'Bad', TriangularFunction(0, 0, 0.4))\n",
    "fuzzy.add_consequent('Rating', 'Mid', TriangularFunction(0.3, 0.5, 0.8))\n",
    "fuzzy.add_consequent('Rating', 'Good', TriangularFunction(0.7, 1, 1))\n",
    "\n",
    "for i in range(5):\n",
    "    sample = a.iloc[i]\n",
    "    result = fuzzy.compute(sample, 'fom')\n",
    "    print(f'{sample[\"UA_Name\"]} -> {result}')"
   ]
  },
  {
   "cell_type": "code",
   "execution_count": 26,
   "outputs": [
    {
     "ename": "TypeError",
     "evalue": "FuzzySystem.__init__() missing 1 required positional argument: 'norm'",
     "output_type": "error",
     "traceback": [
      "\u001B[1;31m---------------------------------------------------------------------------\u001B[0m",
      "\u001B[1;31mTypeError\u001B[0m                                 Traceback (most recent call last)",
      "Input \u001B[1;32mIn [26]\u001B[0m, in \u001B[0;36m<cell line: 5>\u001B[1;34m()\u001B[0m\n\u001B[0;32m      2\u001B[0m \u001B[38;5;28;01mfrom\u001B[39;00m \u001B[38;5;21;01mModules\u001B[39;00m\u001B[38;5;21;01m.\u001B[39;00m\u001B[38;5;21;01mmembership_functions\u001B[39;00m \u001B[38;5;28;01mimport\u001B[39;00m TrapezoidalFunction\n\u001B[0;32m      3\u001B[0m importlib\u001B[38;5;241m.\u001B[39mreload(fsys)\n\u001B[1;32m----> 5\u001B[0m fuzzy \u001B[38;5;241m=\u001B[39m \u001B[43mfsys\u001B[49m\u001B[38;5;241;43m.\u001B[39;49m\u001B[43mFuzzySystem\u001B[49m\u001B[43m(\u001B[49m\u001B[43m)\u001B[49m\n\u001B[0;32m      6\u001B[0m fuzzy\u001B[38;5;241m.\u001B[39madd_antecedent(\u001B[38;5;124m'\u001B[39m\u001B[38;5;124mHousing\u001B[39m\u001B[38;5;124m'\u001B[39m, \u001B[38;5;124m'\u001B[39m\u001B[38;5;124mBad\u001B[39m\u001B[38;5;124m'\u001B[39m, TrapezoidalFunction(\u001B[38;5;241m0\u001B[39m, \u001B[38;5;241m0.2\u001B[39m, \u001B[38;5;241m0.4\u001B[39m, \u001B[38;5;241m0.6\u001B[39m))\n\u001B[0;32m      7\u001B[0m fuzzy\u001B[38;5;241m.\u001B[39madd_antecedent(\u001B[38;5;124m'\u001B[39m\u001B[38;5;124mHousing\u001B[39m\u001B[38;5;124m'\u001B[39m, \u001B[38;5;124m'\u001B[39m\u001B[38;5;124mMid\u001B[39m\u001B[38;5;124m'\u001B[39m, TrapezoidalFunction(\u001B[38;5;241m0.1\u001B[39m, \u001B[38;5;241m0.3\u001B[39m, \u001B[38;5;241m0.5\u001B[39m, \u001B[38;5;241m0.7\u001B[39m))\n",
      "\u001B[1;31mTypeError\u001B[0m: FuzzySystem.__init__() missing 1 required positional argument: 'norm'"
     ]
    }
   ],
   "source": [
    "import Modules.fuzzysys as fsys\n",
    "from Modules.membership_functions import TrapezoidalFunction\n",
    "importlib.reload(fsys)\n",
    "\n",
    "fuzzy = fsys.FuzzySystem()\n",
    "fuzzy.add_antecedent('Housing', 'Bad', TrapezoidalFunction(0, 0.2, 0.4, 0.6))\n",
    "fuzzy.add_antecedent('Housing', 'Mid', TrapezoidalFunction(0.1, 0.3, 0.5, 0.7))\n",
    "fuzzy.add_antecedent('Housing', 'Good', TrapezoidalFunction(0.3, 0.5, 0.7, 1))\n",
    "\n",
    "fuzzy.add_antecedent('Startups', 'Bad', TrapezoidalFunction(0, 0.3, 0.6, 0.9))\n",
    "fuzzy.add_antecedent('Startups', 'Mid', TrapezoidalFunction(0.1, 0.4, 0.7, 1))\n",
    "fuzzy.add_antecedent('Startups', 'Good', TrapezoidalFunction(0.05, 0.25, 0.45, 0.65))\n",
    "\n",
    "for i in range(5):\n",
    "    sample = a.iloc[i].to_dict()\n",
    "    fuzzified_sample = fuzzy.fuzzify(sample)\n",
    "    print(f'{sample[\"UA_Name\"]} -> {fuzzified_sample}')"
   ],
   "metadata": {
    "collapsed": false,
    "pycharm": {
     "name": "#%%\n"
    }
   }
  }
 ],
 "metadata": {
  "kernelspec": {
   "display_name": "Python 3 (ipykernel)",
   "language": "python",
   "name": "python3"
  },
  "language_info": {
   "codemirror_mode": {
    "name": "ipython",
    "version": 3
   },
   "file_extension": ".py",
   "mimetype": "text/x-python",
   "name": "python",
   "nbconvert_exporter": "python",
   "pygments_lexer": "ipython3",
   "version": "3.9.7"
  }
 },
 "nbformat": 4,
 "nbformat_minor": 1
}