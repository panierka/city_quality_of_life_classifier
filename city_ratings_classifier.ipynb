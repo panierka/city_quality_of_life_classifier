{
 "cells": [
  {
   "cell_type": "code",
   "execution_count": 2,
   "metadata": {
    "collapsed": true,
    "pycharm": {
     "name": "#%%\n"
    }
   },
   "outputs": [],
   "source": [
    "import pandas as pd\n",
    "from IPython.display import display, HTML\n",
    "%load_ext autoreload\n",
    "%autoreload 2\n",
    "\n",
    "import importlib"
   ]
  },
  {
   "cell_type": "code",
   "execution_count": 3,
   "metadata": {
    "pycharm": {
     "name": "#%%\n"
    }
   },
   "outputs": [],
   "source": [
    "csv_file = open(\"uaScoresDataFrame.csv\")\n",
    "scores = pd.read_csv(csv_file)\n",
    "scores = scores.drop('id', axis=1)\n",
    "scores = scores.drop('Venture Capital', axis=1)"
   ]
  },
  {
   "cell_type": "code",
   "execution_count": 4,
   "metadata": {
    "pycharm": {
     "name": "#%%\n"
    }
   },
   "outputs": [
    {
     "name": "stdout",
     "output_type": "stream",
     "text": [
      "                       UA_Name               UA_Country  number\n",
      "0                      Andorra                  Andorra       6\n",
      "1                    Gibraltar                Gibraltar       5\n",
      "2                      Managua                Nicaragua       3\n",
      "3                     Tashkent               Uzbekistan       3\n",
      "4                  Belize City                   Belize       3\n",
      "5                       Panama                   Panama       3\n",
      "6                    Palo Alto               California       2\n",
      "7                       La Paz                  Bolivia       2\n",
      "8                     Portland                    Maine       2\n",
      "9                       Havana                     Cuba       2\n",
      "10                     Fukuoka                    Japan       2\n",
      "11                    San Juan              Puerto Rico       2\n",
      "12                     Bozeman                  Montana       2\n",
      "13                   Baltimore                 Maryland       2\n",
      "14                    Valletta                    Malta       2\n",
      "15             San Luis Obispo               California       1\n",
      "16                       Quito                  Ecuador       1\n",
      "17                San Salvador              El Salvador       1\n",
      "18                  Providence             Rhode Island       1\n",
      "19                    Sarajevo   Bosnia and Herzegovina       1\n",
      "20                  Phnom Penh                 Cambodia       1\n",
      "21                        Oulu                  Finland       1\n",
      "22                      Manila              Philippines       1\n",
      "23                       Lagos                  Nigeria       1\n",
      "24                      Madrid                    Spain       1\n",
      "25                        Lviv                  Ukraine       1\n",
      "26  Las Palmas de Gran Canaria                    Spain       1\n",
      "27                    Asuncion                 Paraguay       1\n",
      "28                       Kyoto                    Japan       1\n",
      "29                    Kingston                  Jamaica       1\n",
      "30                   Kathmandu                    Nepal       1\n",
      "31                   Hyderabad                    India       1\n",
      "32              Guatemala City                Guatemala       1\n",
      "33                Fort Collins                 Colorado       1\n",
      "34               Dar es Salaam                 Tanzania       1\n",
      "35                  Casablanca                  Morocco       1\n",
      "36                     Caracas                Venezuela       1\n",
      "37                        Bali                Indonesia       1\n",
      "38                        Baku               Azerbaijan       1\n",
      "39                     Yerevan                  Armenia       1\n"
     ]
    }
   ],
   "source": [
    "def check_zero(dataset):\n",
    "    invalid_rows = []\n",
    "    for element in dataset.columns.tolist():\n",
    "        invalid = dataset[dataset[element] == 0.0]\n",
    "        invalid_rows.append(invalid[['UA_Name','UA_Country']])\n",
    "    df = pd.concat(invalid_rows).reset_index(drop=True).value_counts()\n",
    "    return df\n",
    "results = check_zero(scores).to_frame().reset_index().rename(columns={0:\"number\"})\n",
    "print(results)"
   ]
  },
  {
   "cell_type": "code",
   "execution_count": 5,
   "metadata": {
    "pycharm": {
     "name": "#%%\n"
    }
   },
   "outputs": [],
   "source": [
    "scores = scores[(scores != 0).all(1)]"
   ]
  },
  {
   "cell_type": "code",
   "execution_count": 6,
   "metadata": {
    "pycharm": {
     "name": "#%%\n"
    }
   },
   "outputs": [],
   "source": [
    "weights_data = {\n",
    "    'Housing' : 1.5,\n",
    "    'Cost of Living' : 1.5,\n",
    "    'Startups' : 0.5,\n",
    "    'Business Freedom' : 0.8,\n",
    "    'Safety' : 1.5,\n",
    "    'Healthcare' : 1.5,\n",
    "    'Education' : 0.5,\n",
    "    'Travel Connectivity' : 1.5,\n",
    "}\n",
    "\n",
    "weights_vector = pd.Series(0.0, index=scores.columns[3:-1])\n",
    "for i in range(len(weights_vector)):\n",
    "    row_name = weights_vector.index[i]\n",
    "    weights_vector[i] = weights_data.get(row_name, 1)"
   ]
  },
  {
   "cell_type": "code",
   "execution_count": 7,
   "metadata": {
    "pycharm": {
     "name": "#%%\n"
    }
   },
   "outputs": [],
   "source": [
    "summable_values = list(scores)\n",
    "if 'Naive Sum' in summable_values:\n",
    "    summable_values.remove('Naive Sum')\n",
    "weighted_scores = scores.copy()\n",
    "weighted_scores = weighted_scores * weights_vector\n",
    "scores['Naive Sum'] = weighted_scores[summable_values].sum(numeric_only=True, axis=1)"
   ]
  },
  {
   "cell_type": "code",
   "execution_count": 8,
   "metadata": {
    "pycharm": {
     "name": "#%%\n"
    }
   },
   "outputs": [],
   "source": [
    "# scores['Naive Sum']\n",
    "# better, worse\n",
    "\n",
    "midpoint = scores['Naive Sum'].quantile()\n",
    "scores['Label'] = ''\n",
    "scores.loc[scores['Naive Sum'] < midpoint, 'Label'] = 'worse'\n",
    "scores.loc[scores['Naive Sum'] >= midpoint, 'Label'] = 'better'"
   ]
  },
  {
   "cell_type": "code",
   "execution_count": 9,
   "metadata": {
    "pycharm": {
     "name": "#%%\n"
    }
   },
   "outputs": [
    {
     "data": {
      "text/plain": "<matplotlib.collections.PathCollection at 0x19340f8ed10>"
     },
     "execution_count": 9,
     "metadata": {},
     "output_type": "execute_result"
    },
    {
     "data": {
      "text/plain": "<Figure size 720x432 with 1 Axes>",
      "image/png": "[encoded data removed]"
     },
     "metadata": {
      "needs_background": "light"
     },
     "output_type": "display_data"
    }
   ],
   "source": [
    "import matplotlib.pyplot as plt\n",
    "import numpy as np\n",
    "\n",
    "fig, ax = plt.subplots()\n",
    "fig.set_size_inches(10, 6)\n",
    "vals = scores['Naive Sum'].sort_values()\n",
    "colors = np.where(vals >= midpoint, 'b', 'r')\n",
    "ax.scatter(scores.index, vals, c=colors, marker='+')"
   ]
  },
  {
   "cell_type": "markdown",
   "metadata": {
    "pycharm": {
     "name": "#%% md\n"
    }
   },
   "source": []
  },
  {
   "cell_type": "code",
   "execution_count": 10,
   "metadata": {
    "pycharm": {
     "name": "#%%\n"
    }
   },
   "outputs": [
    {
     "data": {
      "text/plain": "            UA_Name   UA_Country   UA_Continent   Housing  Cost of Living  \\\n0           Tbilisi      Georgia         Europe  0.943389        0.973889   \n1           Wroclaw       Poland         Europe  0.828000        0.826000   \n2            Prague      Czechia         Europe  0.714500        0.729889   \n3    Rio De Janeiro       Brazil  South America  0.813333        0.750111   \n4           Leipzig      Germany         Europe  0.797444        0.545667   \n188          Bogota     Colombia  South America  0.891944        0.897778   \n189      Dusseldorf      Germany         Europe  0.586889        0.459333   \n190     Los Angeles   California  North America  0.058611        0.395111   \n192         Cologne      Germany         Europe  0.614056        0.511889   \n193        Adelaide    Australia        Oceania  0.589944        0.410222   \n\n     Startups  Travel Connectivity   Commute  Business Freedom    Safety  ...  \\\n0    0.238722             0.168295  0.817205          0.704022  0.942933  ...   \n1    0.287333             0.167597  0.700961          0.404950  0.788078  ...   \n2    0.531056             0.515026  0.851302          0.475366  0.845145  ...   \n3    0.424778             0.086938  0.633272          0.173939  0.456536  ...   \n4    0.189611             0.392186  0.879499          0.871497  0.685439  ...   \n188  0.523167             0.129441  0.702520          0.494205  0.563565  ...   \n189  0.265444             0.642535  0.756301          0.871497  0.788136  ...   \n190  1.000000             0.351562  0.485543          0.802558  0.503841  ...   \n192  0.456278             0.708275  0.772950          0.871497  0.610639  ...   \n193  0.237389             0.117366  0.765279          0.916840  0.760411  ...   \n\n     Education  Environmental Quality   Economy  Taxation  Internet Access  \\\n0     0.039355               0.234944  0.366874  0.773151         0.354176   \n1     0.397514               0.438437  0.429601  0.428155         0.546294   \n2     0.405819               0.674330  0.382340  0.525717         0.584041   \n3     0.056183               0.249446  0.112330  0.165559         0.153511   \n4     0.413256               0.906656  0.505022  0.288955         0.533100   \n188   0.112257               0.367393  0.409021  0.049627         0.226709   \n189   0.413256               0.715909  0.505022  0.288955         0.535337   \n190   0.882043               0.411590  0.645634  0.389725         0.515890   \n192   0.499783               0.612839  0.505022  0.288955         0.535337   \n193   0.503963               0.825857  0.590794  0.368848         0.383318   \n\n     Leisure & Culture  Tolerance  Outdoors  Naive Sum   Label  \n0             0.435444   0.812314  0.669649   0.703272  better  \n1             0.416611   0.289446  0.482309   0.522765   worse  \n2             0.829389   0.812435  0.592089   0.979021  better  \n3             0.851944   0.516838  0.760393   0.101129   worse  \n4             0.391833   0.690031  0.571371   0.734543  better  \n188           0.579444   0.855916  0.938652   0.451522   worse  \n189           0.407111   0.772243  0.653639   0.751681  better  \n190           0.910667   0.661592  0.840441   0.430683   worse  \n192           0.480278   0.631326  0.644289   0.744118  better  \n193           0.369833   0.766579  0.676846   0.566347   worse  \n\n[10 rows x 21 columns]",
      "text/html": "<div>\n<style scoped>\n    .dataframe tbody tr th:only-of-type {\n        vertical-align: middle;\n    }\n\n    .dataframe tbody tr th {\n        vertical-align: top;\n    }\n\n    .dataframe thead th {\n        text-align: right;\n    }\n</style>\n<table border=\"1\" class=\"dataframe\">\n  <thead>\n    <tr style=\"text-align: right;\">\n      <th></th>\n      <th>UA_Name</th>\n      <th>UA_Country</th>\n      <th>UA_Continent</th>\n      <th>Housing</th>\n      <th>Cost of Living</th>\n      <th>Startups</th>\n      <th>Travel Connectivity</th>\n      <th>Commute</th>\n      <th>Business Freedom</th>\n      <th>Safety</th>\n      <th>...</th>\n      <th>Education</th>\n      <th>Environmental Quality</th>\n      <th>Economy</th>\n      <th>Taxation</th>\n      <th>Internet Access</th>\n      <th>Leisure &amp; Culture</th>\n      <th>Tolerance</th>\n      <th>Outdoors</th>\n      <th>Naive Sum</th>\n      <th>Label</th>\n    </tr>\n  </thead>\n  <tbody>\n    <tr>\n      <th>0</th>\n      <td>Tbilisi</td>\n      <td>Georgia</td>\n      <td>Europe</td>\n      <td>0.943389</td>\n      <td>0.973889</td>\n      <td>0.238722</td>\n      <td>0.168295</td>\n      <td>0.817205</td>\n      <td>0.704022</td>\n      <td>0.942933</td>\n      <td>...</td>\n      <td>0.039355</td>\n      <td>0.234944</td>\n      <td>0.366874</td>\n      <td>0.773151</td>\n      <td>0.354176</td>\n      <td>0.435444</td>\n      <td>0.812314</td>\n      <td>0.669649</td>\n      <td>0.703272</td>\n      <td>better</td>\n    </tr>\n    <tr>\n      <th>1</th>\n      <td>Wroclaw</td>\n      <td>Poland</td>\n      <td>Europe</td>\n      <td>0.828000</td>\n      <td>0.826000</td>\n      <td>0.287333</td>\n      <td>0.167597</td>\n      <td>0.700961</td>\n      <td>0.404950</td>\n      <td>0.788078</td>\n      <td>...</td>\n      <td>0.397514</td>\n      <td>0.438437</td>\n      <td>0.429601</td>\n      <td>0.428155</td>\n      <td>0.546294</td>\n      <td>0.416611</td>\n      <td>0.289446</td>\n      <td>0.482309</td>\n      <td>0.522765</td>\n      <td>worse</td>\n    </tr>\n    <tr>\n      <th>2</th>\n      <td>Prague</td>\n      <td>Czechia</td>\n      <td>Europe</td>\n      <td>0.714500</td>\n      <td>0.729889</td>\n      <td>0.531056</td>\n      <td>0.515026</td>\n      <td>0.851302</td>\n      <td>0.475366</td>\n      <td>0.845145</td>\n      <td>...</td>\n      <td>0.405819</td>\n      <td>0.674330</td>\n      <td>0.382340</td>\n      <td>0.525717</td>\n      <td>0.584041</td>\n      <td>0.829389</td>\n      <td>0.812435</td>\n      <td>0.592089</td>\n      <td>0.979021</td>\n      <td>better</td>\n    </tr>\n    <tr>\n      <th>3</th>\n      <td>Rio De Janeiro</td>\n      <td>Brazil</td>\n      <td>South America</td>\n      <td>0.813333</td>\n      <td>0.750111</td>\n      <td>0.424778</td>\n      <td>0.086938</td>\n      <td>0.633272</td>\n      <td>0.173939</td>\n      <td>0.456536</td>\n      <td>...</td>\n      <td>0.056183</td>\n      <td>0.249446</td>\n      <td>0.112330</td>\n      <td>0.165559</td>\n      <td>0.153511</td>\n      <td>0.851944</td>\n      <td>0.516838</td>\n      <td>0.760393</td>\n      <td>0.101129</td>\n      <td>worse</td>\n    </tr>\n    <tr>\n      <th>4</th>\n      <td>Leipzig</td>\n      <td>Germany</td>\n      <td>Europe</td>\n      <td>0.797444</td>\n      <td>0.545667</td>\n      <td>0.189611</td>\n      <td>0.392186</td>\n      <td>0.879499</td>\n      <td>0.871497</td>\n      <td>0.685439</td>\n      <td>...</td>\n      <td>0.413256</td>\n      <td>0.906656</td>\n      <td>0.505022</td>\n      <td>0.288955</td>\n      <td>0.533100</td>\n      <td>0.391833</td>\n      <td>0.690031</td>\n      <td>0.571371</td>\n      <td>0.734543</td>\n      <td>better</td>\n    </tr>\n    <tr>\n      <th>188</th>\n      <td>Bogota</td>\n      <td>Colombia</td>\n      <td>South America</td>\n      <td>0.891944</td>\n      <td>0.897778</td>\n      <td>0.523167</td>\n      <td>0.129441</td>\n      <td>0.702520</td>\n      <td>0.494205</td>\n      <td>0.563565</td>\n      <td>...</td>\n      <td>0.112257</td>\n      <td>0.367393</td>\n      <td>0.409021</td>\n      <td>0.049627</td>\n      <td>0.226709</td>\n      <td>0.579444</td>\n      <td>0.855916</td>\n      <td>0.938652</td>\n      <td>0.451522</td>\n      <td>worse</td>\n    </tr>\n    <tr>\n      <th>189</th>\n      <td>Dusseldorf</td>\n      <td>Germany</td>\n      <td>Europe</td>\n      <td>0.586889</td>\n      <td>0.459333</td>\n      <td>0.265444</td>\n      <td>0.642535</td>\n      <td>0.756301</td>\n      <td>0.871497</td>\n      <td>0.788136</td>\n      <td>...</td>\n      <td>0.413256</td>\n      <td>0.715909</td>\n      <td>0.505022</td>\n      <td>0.288955</td>\n      <td>0.535337</td>\n      <td>0.407111</td>\n      <td>0.772243</td>\n      <td>0.653639</td>\n      <td>0.751681</td>\n      <td>better</td>\n    </tr>\n    <tr>\n      <th>190</th>\n      <td>Los Angeles</td>\n      <td>California</td>\n      <td>North America</td>\n      <td>0.058611</td>\n      <td>0.395111</td>\n      <td>1.000000</td>\n      <td>0.351562</td>\n      <td>0.485543</td>\n      <td>0.802558</td>\n      <td>0.503841</td>\n      <td>...</td>\n      <td>0.882043</td>\n      <td>0.411590</td>\n      <td>0.645634</td>\n      <td>0.389725</td>\n      <td>0.515890</td>\n      <td>0.910667</td>\n      <td>0.661592</td>\n      <td>0.840441</td>\n      <td>0.430683</td>\n      <td>worse</td>\n    </tr>\n    <tr>\n      <th>192</th>\n      <td>Cologne</td>\n      <td>Germany</td>\n      <td>Europe</td>\n      <td>0.614056</td>\n      <td>0.511889</td>\n      <td>0.456278</td>\n      <td>0.708275</td>\n      <td>0.772950</td>\n      <td>0.871497</td>\n      <td>0.610639</td>\n      <td>...</td>\n      <td>0.499783</td>\n      <td>0.612839</td>\n      <td>0.505022</td>\n      <td>0.288955</td>\n      <td>0.535337</td>\n      <td>0.480278</td>\n      <td>0.631326</td>\n      <td>0.644289</td>\n      <td>0.744118</td>\n      <td>better</td>\n    </tr>\n    <tr>\n      <th>193</th>\n      <td>Adelaide</td>\n      <td>Australia</td>\n      <td>Oceania</td>\n      <td>0.589944</td>\n      <td>0.410222</td>\n      <td>0.237389</td>\n      <td>0.117366</td>\n      <td>0.765279</td>\n      <td>0.916840</td>\n      <td>0.760411</td>\n      <td>...</td>\n      <td>0.503963</td>\n      <td>0.825857</td>\n      <td>0.590794</td>\n      <td>0.368848</td>\n      <td>0.383318</td>\n      <td>0.369833</td>\n      <td>0.766579</td>\n      <td>0.676846</td>\n      <td>0.566347</td>\n      <td>worse</td>\n    </tr>\n  </tbody>\n</table>\n<p>10 rows × 21 columns</p>\n</div>"
     },
     "metadata": {},
     "output_type": "display_data"
    }
   ],
   "source": [
    "from Modules.dataprocessing import ProcessingData\n",
    "\n",
    "a, b = ProcessingData.prepare_data(scores)\n",
    "\n",
    "preview_table = pd.concat([a.head(), b.head()])\n",
    "display(preview_table)"
   ]
  },
  {
   "cell_type": "code",
   "execution_count": 15,
   "metadata": {
    "pycharm": {
     "name": "#%%\n"
    }
   },
   "outputs": [
    {
     "name": "stdout",
     "output_type": "stream",
     "text": [
      "crisp_result=1\n",
      "Tbilisi -> Good\n",
      "crisp_result=1\n",
      "Wroclaw -> Good\n",
      "crisp_result=1\n",
      "Prague -> Good\n",
      "crisp_result=1\n",
      "Rio De Janeiro -> Good\n",
      "crisp_result=1\n",
      "Leipzig -> Good\n"
     ]
    }
   ],
   "source": [
    "import Modules.fuzzysys as fsys\n",
    "from Modules.membership_functions import TriangularFunction\n",
    "importlib.reload(fsys)\n",
    "\n",
    "fuzzy = fsys.FuzzySystem()\n",
    "fuzzy.add_antecedent('Housing', 'Bad', TriangularFunction(0, 0, 0.4))\n",
    "fuzzy.add_antecedent('Housing', 'Mid', TriangularFunction(0.3, 0.4, 0.8))\n",
    "fuzzy.add_antecedent('Housing', 'Good', TriangularFunction(0.7, 1, 1))\n",
    "\n",
    "fuzzy.add_antecedent('Startups', 'Bad', TriangularFunction(0, 0, 0.3))\n",
    "fuzzy.add_antecedent('Startups', 'Mid', TriangularFunction(0.2, 0.4, 0.6))\n",
    "fuzzy.add_antecedent('Startups', 'Good', TriangularFunction(0.5, 0.8, 1))\n",
    "\n",
    "fuzzy.add_rule({'Housing' : 'Bad', 'Startups': 'Bad', 'Rating': 'Bad'})\n",
    "fuzzy.add_rule({'Housing' : 'Bad', 'Startups': 'Mid', 'Rating': 'Bad'})\n",
    "fuzzy.add_rule({'Housing' : 'Bad', 'Startups': 'Good', 'Rating': 'Bad'})\n",
    "fuzzy.add_rule({'Housing' : 'Mid', 'Startups': 'Bad', 'Rating': 'Bad'})\n",
    "fuzzy.add_rule({'Housing' : 'Mid', 'Startups': 'Mid', 'Rating': 'Bad'})\n",
    "fuzzy.add_rule({'Housing' : 'Mid', 'Startups': 'Good', 'Rating': 'Good'})\n",
    "fuzzy.add_rule({'Housing' : 'Good', 'Startups': 'Bad', 'Rating': 'Good'})\n",
    "fuzzy.add_rule({'Housing' : 'Good', 'Startups': 'Mid', 'Rating': 'Good'})\n",
    "fuzzy.add_rule({'Housing' : 'Good', 'Startups': 'Good', 'Rating': 'Good'})\n",
    "\n",
    "fuzzy.add_consequent('Rating', 'Bad', TriangularFunction(0, 0, 0.5))\n",
    "fuzzy.add_consequent('Rating', 'Good', TriangularFunction(0.5, 1, 1))\n",
    "\n",
    "for i in range(5):\n",
    "    sample = a.iloc[i]\n",
    "    result = fuzzy.compute(sample, 'fom')\n",
    "    print(f'{sample[\"UA_Name\"]} -> {result}')"
   ]
  },
  {
   "cell_type": "code",
   "execution_count": 12,
   "outputs": [
    {
     "name": "stdout",
     "output_type": "stream",
     "text": [
      "Tbilisi -> {'Housing': {'linguistic': 'Good', 'numerical': 0.18870370370370348}, 'Startups': {'linguistic': 'Good', 'numerical': 0.9436111111111114}}\n",
      "Wroclaw -> {'Housing': {'linguistic': 'Good', 'numerical': 0.5733333333333334}, 'Startups': {'linguistic': 'Good', 'numerical': 1}}\n",
      "Prague -> {'Housing': {'linguistic': 'Good', 'numerical': 0.9516666666666664}, 'Startups': {'linguistic': 'Bad', 'numerical': 1}}\n",
      "Rio De Janeiro -> {'Housing': {'linguistic': 'Good', 'numerical': 0.6222222222222221}, 'Startups': {'linguistic': 'Bad', 'numerical': 1}}\n",
      "Leipzig -> {'Housing': {'linguistic': 'Good', 'numerical': 0.6751851851851852}, 'Startups': {'linguistic': 'Good', 'numerical': 0.6980555555555557}}\n"
     ]
    }
   ],
   "source": [
    "import Modules.fuzzysys as fsys\n",
    "from Modules.membership_functions import TrapezoidalFunction\n",
    "importlib.reload(fsys)\n",
    "\n",
    "fuzzy = fsys.FuzzySystem()\n",
    "fuzzy.add_antecedent('Housing', 'Bad', TrapezoidalFunction(0, 0.2, 0.4, 0.6))\n",
    "fuzzy.add_antecedent('Housing', 'Mid', TrapezoidalFunction(0.1, 0.3, 0.5, 0.7))\n",
    "fuzzy.add_antecedent('Housing', 'Good', TrapezoidalFunction(0.3, 0.5, 0.7, 1))\n",
    "\n",
    "fuzzy.add_antecedent('Startups', 'Bad', TrapezoidalFunction(0, 0.3, 0.6, 0.9))\n",
    "fuzzy.add_antecedent('Startups', 'Mid', TrapezoidalFunction(0.1, 0.4, 0.7, 1))\n",
    "fuzzy.add_antecedent('Startups', 'Good', TrapezoidalFunction(0.05, 0.25, 0.45, 0.65))\n",
    "\n",
    "for i in range(5):\n",
    "    sample = a.iloc[i].to_dict()\n",
    "    fuzzified_sample = fuzzy.fuzzify(sample)\n",
    "    print(f'{sample[\"UA_Name\"]} -> {fuzzified_sample}')"
   ],
   "metadata": {
    "collapsed": false,
    "pycharm": {
     "name": "#%%\n"
    }
   }
  }
 ],
 "metadata": {
  "kernelspec": {
   "display_name": "Python 3 (ipykernel)",
   "language": "python",
   "name": "python3"
  },
  "language_info": {
   "codemirror_mode": {
    "name": "ipython",
    "version": 3
   },
   "file_extension": ".py",
   "mimetype": "text/x-python",
   "name": "python",
   "nbconvert_exporter": "python",
   "pygments_lexer": "ipython3",
   "version": "3.9.7"
  }
 },
 "nbformat": 4,
 "nbformat_minor": 1
}