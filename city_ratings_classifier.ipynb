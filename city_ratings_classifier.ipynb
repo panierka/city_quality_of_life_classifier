{
 "cells": [
  {
   "cell_type": "code",
   "execution_count": 16,
   "metadata": {
    "collapsed": true,
    "pycharm": {
     "name": "#%%\n"
    }
   },
   "outputs": [
    {
     "name": "stdout",
     "output_type": "stream",
     "text": [
      "The autoreload extension is already loaded. To reload it, use:\n",
      "  %reload_ext autoreload\n"
     ]
    }
   ],
   "source": [
    "import pandas as pd\n",
    "from IPython.display import display, HTML\n",
    "%load_ext autoreload\n",
    "%autoreload 2\n",
    "\n",
    "import importlib"
   ]
  },
  {
   "cell_type": "code",
   "execution_count": 17,
   "metadata": {
    "pycharm": {
     "name": "#%%\n"
    }
   },
   "outputs": [],
   "source": [
    "csv_file = open(\"uaScoresDataFrame.csv\")\n",
    "scores = pd.read_csv(csv_file)\n",
    "scores = scores.drop('id', axis=1)\n",
    "scores = scores.drop('Venture Capital', axis=1)"
   ]
  },
  {
   "cell_type": "code",
   "execution_count": 18,
   "metadata": {
    "pycharm": {
     "name": "#%%\n"
    }
   },
   "outputs": [
    {
     "name": "stdout",
     "output_type": "stream",
     "text": [
      "                       UA_Name               UA_Country  number\n",
      "0                      Andorra                  Andorra       6\n",
      "1                    Gibraltar                Gibraltar       5\n",
      "2                      Managua                Nicaragua       3\n",
      "3                     Tashkent               Uzbekistan       3\n",
      "4                  Belize City                   Belize       3\n",
      "5                       Panama                   Panama       3\n",
      "6                    Palo Alto               California       2\n",
      "7                       La Paz                  Bolivia       2\n",
      "8                     Portland                    Maine       2\n",
      "9                       Havana                     Cuba       2\n",
      "10                     Fukuoka                    Japan       2\n",
      "11                    San Juan              Puerto Rico       2\n",
      "12                     Bozeman                  Montana       2\n",
      "13                   Baltimore                 Maryland       2\n",
      "14                    Valletta                    Malta       2\n",
      "15             San Luis Obispo               California       1\n",
      "16                       Quito                  Ecuador       1\n",
      "17                San Salvador              El Salvador       1\n",
      "18                  Providence             Rhode Island       1\n",
      "19                    Sarajevo   Bosnia and Herzegovina       1\n",
      "20                  Phnom Penh                 Cambodia       1\n",
      "21                        Oulu                  Finland       1\n",
      "22                      Manila              Philippines       1\n",
      "23                       Lagos                  Nigeria       1\n",
      "24                      Madrid                    Spain       1\n",
      "25                        Lviv                  Ukraine       1\n",
      "26  Las Palmas de Gran Canaria                    Spain       1\n",
      "27                    Asuncion                 Paraguay       1\n",
      "28                       Kyoto                    Japan       1\n",
      "29                    Kingston                  Jamaica       1\n",
      "30                   Kathmandu                    Nepal       1\n",
      "31                   Hyderabad                    India       1\n",
      "32              Guatemala City                Guatemala       1\n",
      "33                Fort Collins                 Colorado       1\n",
      "34               Dar es Salaam                 Tanzania       1\n",
      "35                  Casablanca                  Morocco       1\n",
      "36                     Caracas                Venezuela       1\n",
      "37                        Bali                Indonesia       1\n",
      "38                        Baku               Azerbaijan       1\n",
      "39                     Yerevan                  Armenia       1\n"
     ]
    }
   ],
   "source": [
    "def check_zero(dataset):\n",
    "    invalid_rows = []\n",
    "    for element in dataset.columns.tolist():\n",
    "        invalid = dataset[dataset[element] == 0.0]\n",
    "        invalid_rows.append(invalid[['UA_Name','UA_Country']])\n",
    "    df = pd.concat(invalid_rows).reset_index(drop=True).value_counts()\n",
    "    return df\n",
    "results = check_zero(scores).to_frame().reset_index().rename(columns={0:\"number\"})\n",
    "print(results)"
   ]
  },
  {
   "cell_type": "code",
   "execution_count": 19,
   "metadata": {
    "pycharm": {
     "name": "#%%\n"
    }
   },
   "outputs": [],
   "source": [
    "scores = scores[(scores != 0).all(1)]"
   ]
  },
  {
   "cell_type": "code",
   "execution_count": 20,
   "metadata": {
    "pycharm": {
     "name": "#%%\n"
    }
   },
   "outputs": [],
   "source": [
    "weights_data = {\n",
    "    'Housing' : 1.5,\n",
    "    'Cost of Living' : 1.5,\n",
    "    'Startups' : 0.5,\n",
    "    'Business Freedom' : 0.8,\n",
    "    'Safety' : 1.5,\n",
    "    'Healthcare' : 1.5,\n",
    "    'Education' : 0.5,\n",
    "    'Travel Connectivity' : 1.5,\n",
    "}\n",
    "\n",
    "weights_vector = pd.Series(0.0, index=scores.columns[3:-1])\n",
    "for i in range(len(weights_vector)):\n",
    "    row_name = weights_vector.index[i]\n",
    "    weights_vector[i] = weights_data.get(row_name, 1)"
   ]
  },
  {
   "cell_type": "code",
   "execution_count": 21,
   "metadata": {
    "pycharm": {
     "name": "#%%\n"
    }
   },
   "outputs": [],
   "source": [
    "summable_values = list(scores)\n",
    "if 'Naive Sum' in summable_values:\n",
    "    summable_values.remove('Naive Sum')\n",
    "weighted_scores = scores.copy()\n",
    "weighted_scores = weighted_scores * weights_vector\n",
    "scores['Naive Sum'] = weighted_scores[summable_values].sum(numeric_only=True, axis=1)"
   ]
  },
  {
   "cell_type": "code",
   "execution_count": 22,
   "metadata": {
    "pycharm": {
     "name": "#%%\n"
    }
   },
   "outputs": [],
   "source": [
    "# scores['Naive Sum']\n",
    "# better, worse\n",
    "\n",
    "midpoint = scores['Naive Sum'].quantile()\n",
    "scores['Label'] = ''\n",
    "scores.loc[scores['Naive Sum'] < midpoint, 'Label'] = 'worse'\n",
    "scores.loc[scores['Naive Sum'] >= midpoint, 'Label'] = 'better'"
   ]
  },
  {
   "cell_type": "code",
   "execution_count": 23,
   "metadata": {
    "pycharm": {
     "name": "#%%\n"
    }
   },
   "outputs": [
    {
     "data": {
      "text/plain": "<matplotlib.collections.PathCollection at 0x19340f8dc30>"
     },
     "execution_count": 23,
     "metadata": {},
     "output_type": "execute_result"
    },
    {
     "data": {
      "text/plain": "<Figure size 720x432 with 1 Axes>",
      "image/png": "[encoded data removed]"
     },
     "metadata": {
      "needs_background": "light"
     },
     "output_type": "display_data"
    }
   ],
   "source": [
    "import matplotlib.pyplot as plt\n",
    "import numpy as np\n",
    "\n",
    "fig, ax = plt.subplots()\n",
    "fig.set_size_inches(10, 6)\n",
    "vals = scores['Naive Sum'].sort_values()\n",
    "colors = np.where(vals >= midpoint, 'b', 'r')\n",
    "ax.scatter(scores.index, vals, c=colors, marker='+')"
   ]
  },
  {
   "cell_type": "markdown",
   "metadata": {
    "pycharm": {
     "name": "#%% md\n"
    }
   },
   "source": []
  },
  {
   "cell_type": "code",
   "execution_count": 24,
   "metadata": {
    "pycharm": {
     "name": "#%%\n"
    }
   },
   "outputs": [
    {
     "data": {
      "text/plain": "            UA_Name       UA_Country   UA_Continent   Housing  Cost of Living  \\\n0             Milan            Italy         Europe  0.466056        0.422333   \n1            Quebec           Canada         Europe  0.835278        0.559667   \n2            Malaga            Spain         Europe  0.783500        0.708333   \n3          Portland           Oregon  North America  0.348667        0.436000   \n4             Turku          Finland         Europe  0.726000        0.452222   \n188       Cambridge   United Kingdom         Europe  0.345056        0.427889   \n189  Salt Lake City             Utah  North America  0.571222        0.574667   \n190       Singapore        Singapore           Asia  0.082778        0.276556   \n192           Boise            Idaho  North America  0.662611        0.619778   \n193          Berlin          Germany         Europe  0.599444        0.502667   \n\n     Startups  Travel Connectivity   Commute  Business Freedom    Safety  ...  \\\n0    0.465611             0.643984  0.794909          0.472180  0.697106  ...   \n1    0.303833             0.074970  0.755795          0.856767  0.902905  ...   \n2    0.162056             0.394709  0.840555          0.601007  0.733495  ...   \n3    0.661889             0.167168  0.693079          0.815902  0.443251  ...   \n4    0.097722             0.272727  1.000000          0.923905  0.904754  ...   \n188  0.472556             0.665933  0.814423          0.860368  0.942760  ...   \n189  0.588889             0.220457  0.636770          0.815902  0.498296  ...   \n190  0.900333             0.246753  0.780620          0.961860  0.996708  ...   \n192  0.356111             0.068745  0.746523          0.815902  0.348524  ...   \n193  0.898333             0.680691  0.910225          0.871497  0.682493  ...   \n\n     Education  Environmental Quality   Economy  Taxation  Internet Access  \\\n0     0.410705               0.380111  0.257194  0.117856         0.460532   \n1     0.534144               0.709004  0.562573  0.682120         0.263710   \n2     0.353816               0.800247  0.372235  0.287847         0.595399   \n3     0.403376               0.840676  0.645634  0.290938         0.570044   \n4     0.526273               0.914943  0.326021  0.402671         0.651962   \n188   0.657312               0.789687  0.512971  0.528167         0.551801   \n189   0.410433               0.582425  0.645634  0.324003         0.666648   \n190   0.841005               0.782522  0.764434  0.995218         0.854406   \n192   0.339214               0.795787  0.645634  0.307441         0.280174   \n193   0.707741               0.646390  0.505022  0.288955         0.421983   \n\n     Leisure & Culture  Tolerance  Outdoors  Naive Sum   Label  \n0             0.768556   0.693198  0.691645   0.538576   worse  \n1             0.515167   0.864016  0.567604   0.809336  better  \n2             0.598778   0.727422  0.710884   0.817337  better  \n3             0.579944   0.807685  0.780842   0.448675   worse  \n4             0.455278   0.757993  0.543186   0.836540  better  \n188           0.161667   0.847573  0.000000   0.817952  better  \n189           0.548000   0.864076  0.826181   0.568766  better  \n190           0.713611   0.604957  0.717611   0.901810  better  \n192           0.355500   0.657634  0.635141   0.382952   worse  \n193           0.875667   0.688082  0.669313   0.930874  better  \n\n[10 rows x 21 columns]",
      "text/html": "<div>\n<style scoped>\n    .dataframe tbody tr th:only-of-type {\n        vertical-align: middle;\n    }\n\n    .dataframe tbody tr th {\n        vertical-align: top;\n    }\n\n    .dataframe thead th {\n        text-align: right;\n    }\n</style>\n<table border=\"1\" class=\"dataframe\">\n  <thead>\n    <tr style=\"text-align: right;\">\n      <th></th>\n      <th>UA_Name</th>\n      <th>UA_Country</th>\n      <th>UA_Continent</th>\n      <th>Housing</th>\n      <th>Cost of Living</th>\n      <th>Startups</th>\n      <th>Travel Connectivity</th>\n      <th>Commute</th>\n      <th>Business Freedom</th>\n      <th>Safety</th>\n      <th>...</th>\n      <th>Education</th>\n      <th>Environmental Quality</th>\n      <th>Economy</th>\n      <th>Taxation</th>\n      <th>Internet Access</th>\n      <th>Leisure &amp; Culture</th>\n      <th>Tolerance</th>\n      <th>Outdoors</th>\n      <th>Naive Sum</th>\n      <th>Label</th>\n    </tr>\n  </thead>\n  <tbody>\n    <tr>\n      <th>0</th>\n      <td>Milan</td>\n      <td>Italy</td>\n      <td>Europe</td>\n      <td>0.466056</td>\n      <td>0.422333</td>\n      <td>0.465611</td>\n      <td>0.643984</td>\n      <td>0.794909</td>\n      <td>0.472180</td>\n      <td>0.697106</td>\n      <td>...</td>\n      <td>0.410705</td>\n      <td>0.380111</td>\n      <td>0.257194</td>\n      <td>0.117856</td>\n      <td>0.460532</td>\n      <td>0.768556</td>\n      <td>0.693198</td>\n      <td>0.691645</td>\n      <td>0.538576</td>\n      <td>worse</td>\n    </tr>\n    <tr>\n      <th>1</th>\n      <td>Quebec</td>\n      <td>Canada</td>\n      <td>Europe</td>\n      <td>0.835278</td>\n      <td>0.559667</td>\n      <td>0.303833</td>\n      <td>0.074970</td>\n      <td>0.755795</td>\n      <td>0.856767</td>\n      <td>0.902905</td>\n      <td>...</td>\n      <td>0.534144</td>\n      <td>0.709004</td>\n      <td>0.562573</td>\n      <td>0.682120</td>\n      <td>0.263710</td>\n      <td>0.515167</td>\n      <td>0.864016</td>\n      <td>0.567604</td>\n      <td>0.809336</td>\n      <td>better</td>\n    </tr>\n    <tr>\n      <th>2</th>\n      <td>Malaga</td>\n      <td>Spain</td>\n      <td>Europe</td>\n      <td>0.783500</td>\n      <td>0.708333</td>\n      <td>0.162056</td>\n      <td>0.394709</td>\n      <td>0.840555</td>\n      <td>0.601007</td>\n      <td>0.733495</td>\n      <td>...</td>\n      <td>0.353816</td>\n      <td>0.800247</td>\n      <td>0.372235</td>\n      <td>0.287847</td>\n      <td>0.595399</td>\n      <td>0.598778</td>\n      <td>0.727422</td>\n      <td>0.710884</td>\n      <td>0.817337</td>\n      <td>better</td>\n    </tr>\n    <tr>\n      <th>3</th>\n      <td>Portland</td>\n      <td>Oregon</td>\n      <td>North America</td>\n      <td>0.348667</td>\n      <td>0.436000</td>\n      <td>0.661889</td>\n      <td>0.167168</td>\n      <td>0.693079</td>\n      <td>0.815902</td>\n      <td>0.443251</td>\n      <td>...</td>\n      <td>0.403376</td>\n      <td>0.840676</td>\n      <td>0.645634</td>\n      <td>0.290938</td>\n      <td>0.570044</td>\n      <td>0.579944</td>\n      <td>0.807685</td>\n      <td>0.780842</td>\n      <td>0.448675</td>\n      <td>worse</td>\n    </tr>\n    <tr>\n      <th>4</th>\n      <td>Turku</td>\n      <td>Finland</td>\n      <td>Europe</td>\n      <td>0.726000</td>\n      <td>0.452222</td>\n      <td>0.097722</td>\n      <td>0.272727</td>\n      <td>1.000000</td>\n      <td>0.923905</td>\n      <td>0.904754</td>\n      <td>...</td>\n      <td>0.526273</td>\n      <td>0.914943</td>\n      <td>0.326021</td>\n      <td>0.402671</td>\n      <td>0.651962</td>\n      <td>0.455278</td>\n      <td>0.757993</td>\n      <td>0.543186</td>\n      <td>0.836540</td>\n      <td>better</td>\n    </tr>\n    <tr>\n      <th>188</th>\n      <td>Cambridge</td>\n      <td>United Kingdom</td>\n      <td>Europe</td>\n      <td>0.345056</td>\n      <td>0.427889</td>\n      <td>0.472556</td>\n      <td>0.665933</td>\n      <td>0.814423</td>\n      <td>0.860368</td>\n      <td>0.942760</td>\n      <td>...</td>\n      <td>0.657312</td>\n      <td>0.789687</td>\n      <td>0.512971</td>\n      <td>0.528167</td>\n      <td>0.551801</td>\n      <td>0.161667</td>\n      <td>0.847573</td>\n      <td>0.000000</td>\n      <td>0.817952</td>\n      <td>better</td>\n    </tr>\n    <tr>\n      <th>189</th>\n      <td>Salt Lake City</td>\n      <td>Utah</td>\n      <td>North America</td>\n      <td>0.571222</td>\n      <td>0.574667</td>\n      <td>0.588889</td>\n      <td>0.220457</td>\n      <td>0.636770</td>\n      <td>0.815902</td>\n      <td>0.498296</td>\n      <td>...</td>\n      <td>0.410433</td>\n      <td>0.582425</td>\n      <td>0.645634</td>\n      <td>0.324003</td>\n      <td>0.666648</td>\n      <td>0.548000</td>\n      <td>0.864076</td>\n      <td>0.826181</td>\n      <td>0.568766</td>\n      <td>better</td>\n    </tr>\n    <tr>\n      <th>190</th>\n      <td>Singapore</td>\n      <td>Singapore</td>\n      <td>Asia</td>\n      <td>0.082778</td>\n      <td>0.276556</td>\n      <td>0.900333</td>\n      <td>0.246753</td>\n      <td>0.780620</td>\n      <td>0.961860</td>\n      <td>0.996708</td>\n      <td>...</td>\n      <td>0.841005</td>\n      <td>0.782522</td>\n      <td>0.764434</td>\n      <td>0.995218</td>\n      <td>0.854406</td>\n      <td>0.713611</td>\n      <td>0.604957</td>\n      <td>0.717611</td>\n      <td>0.901810</td>\n      <td>better</td>\n    </tr>\n    <tr>\n      <th>192</th>\n      <td>Boise</td>\n      <td>Idaho</td>\n      <td>North America</td>\n      <td>0.662611</td>\n      <td>0.619778</td>\n      <td>0.356111</td>\n      <td>0.068745</td>\n      <td>0.746523</td>\n      <td>0.815902</td>\n      <td>0.348524</td>\n      <td>...</td>\n      <td>0.339214</td>\n      <td>0.795787</td>\n      <td>0.645634</td>\n      <td>0.307441</td>\n      <td>0.280174</td>\n      <td>0.355500</td>\n      <td>0.657634</td>\n      <td>0.635141</td>\n      <td>0.382952</td>\n      <td>worse</td>\n    </tr>\n    <tr>\n      <th>193</th>\n      <td>Berlin</td>\n      <td>Germany</td>\n      <td>Europe</td>\n      <td>0.599444</td>\n      <td>0.502667</td>\n      <td>0.898333</td>\n      <td>0.680691</td>\n      <td>0.910225</td>\n      <td>0.871497</td>\n      <td>0.682493</td>\n      <td>...</td>\n      <td>0.707741</td>\n      <td>0.646390</td>\n      <td>0.505022</td>\n      <td>0.288955</td>\n      <td>0.421983</td>\n      <td>0.875667</td>\n      <td>0.688082</td>\n      <td>0.669313</td>\n      <td>0.930874</td>\n      <td>better</td>\n    </tr>\n  </tbody>\n</table>\n<p>10 rows × 21 columns</p>\n</div>"
     },
     "metadata": {},
     "output_type": "display_data"
    }
   ],
   "source": [
    "from Modules.dataprocessing import ProcessingData\n",
    "\n",
    "a, b = ProcessingData.prepare_data(scores)\n",
    "\n",
    "preview_table = pd.concat([a.head(), b.head()])\n",
    "display(preview_table)"
   ]
  },
  {
   "cell_type": "code",
   "execution_count": 28,
   "metadata": {
    "pycharm": {
     "name": "#%%\n"
    }
   },
   "outputs": [
    {
     "name": "stdout",
     "output_type": "stream",
     "text": [
      "crisp_result=1\n",
      "Milan -> Good\n",
      "crisp_result=1\n",
      "Quebec -> Good\n",
      "crisp_result=1\n",
      "Malaga -> Good\n",
      "crisp_result=1\n",
      "Portland -> Good\n",
      "crisp_result=1\n",
      "Turku -> Good\n"
     ]
    }
   ],
   "source": [
    "import Modules.fuzzysys as fsys\n",
    "from Modules.membership_functions import TriangularFunction\n",
    "from Modules.norms import AdditiveNorm\n",
    "importlib.reload(fsys)\n",
    "\n",
    "fuzzy = fsys.FuzzySystem()\n",
    "fuzzy.add_antecedent('Housing', 'Bad', TriangularFunction(0, 0, 0.4))\n",
    "fuzzy.add_antecedent('Housing', 'Mid', TriangularFunction(0.3, 0.4, 0.8))\n",
    "fuzzy.add_antecedent('Housing', 'Good', TriangularFunction(0.7, 1, 1))\n",
    "\n",
    "fuzzy.add_antecedent('Startups', 'Bad', TriangularFunction(0, 0, 0.3))\n",
    "fuzzy.add_antecedent('Startups', 'Mid', TriangularFunction(0.2, 0.4, 0.6))\n",
    "fuzzy.add_antecedent('Startups', 'Good', TriangularFunction(0.5, 0.8, 1))\n",
    "\n",
    "fuzzy.add_rule({'Housing' : 'Bad', 'Startups': 'Bad', 'Rating': 'Bad'})\n",
    "fuzzy.add_rule({'Housing' : 'Bad', 'Startups': 'Mid', 'Rating': 'Bad'})\n",
    "fuzzy.add_rule({'Housing' : 'Bad', 'Startups': 'Good', 'Rating': 'Bad'})\n",
    "fuzzy.add_rule({'Housing' : 'Mid', 'Startups': 'Bad', 'Rating': 'Bad'})\n",
    "fuzzy.add_rule({'Housing' : 'Mid', 'Startups': 'Mid', 'Rating': 'Bad'})\n",
    "fuzzy.add_rule({'Housing' : 'Mid', 'Startups': 'Good', 'Rating': 'Good'})\n",
    "fuzzy.add_rule({'Housing' : 'Good', 'Startups': 'Bad', 'Rating': 'Good'})\n",
    "fuzzy.add_rule({'Housing' : 'Good', 'Startups': 'Mid', 'Rating': 'Good'})\n",
    "fuzzy.add_rule({'Housing' : 'Good', 'Startups': 'Good', 'Rating': 'Good'})\n",
    "\n",
    "fuzzy.add_consequent('Rating', 'Bad', TriangularFunction(0, 0, 0.5))\n",
    "fuzzy.add_consequent('Rating', 'Good', TriangularFunction(0.5, 1, 1))\n",
    "\n",
    "for i in range(5):\n",
    "    sample = a.iloc[i]\n",
    "    result = fuzzy.compute(sample, 'fom')\n",
    "    print(f'{sample[\"UA_Name\"]} -> {result}')"
   ]
  },
  {
   "cell_type": "code",
   "execution_count": 26,
   "outputs": [
    {
     "ename": "TypeError",
     "evalue": "FuzzySystem.__init__() missing 1 required positional argument: 'norm'",
     "output_type": "error",
     "traceback": [
      "\u001B[1;31m---------------------------------------------------------------------------\u001B[0m",
      "\u001B[1;31mTypeError\u001B[0m                                 Traceback (most recent call last)",
      "Input \u001B[1;32mIn [26]\u001B[0m, in \u001B[0;36m<cell line: 5>\u001B[1;34m()\u001B[0m\n\u001B[0;32m      2\u001B[0m \u001B[38;5;28;01mfrom\u001B[39;00m \u001B[38;5;21;01mModules\u001B[39;00m\u001B[38;5;21;01m.\u001B[39;00m\u001B[38;5;21;01mmembership_functions\u001B[39;00m \u001B[38;5;28;01mimport\u001B[39;00m TrapezoidalFunction\n\u001B[0;32m      3\u001B[0m importlib\u001B[38;5;241m.\u001B[39mreload(fsys)\n\u001B[1;32m----> 5\u001B[0m fuzzy \u001B[38;5;241m=\u001B[39m \u001B[43mfsys\u001B[49m\u001B[38;5;241;43m.\u001B[39;49m\u001B[43mFuzzySystem\u001B[49m\u001B[43m(\u001B[49m\u001B[43m)\u001B[49m\n\u001B[0;32m      6\u001B[0m fuzzy\u001B[38;5;241m.\u001B[39madd_antecedent(\u001B[38;5;124m'\u001B[39m\u001B[38;5;124mHousing\u001B[39m\u001B[38;5;124m'\u001B[39m, \u001B[38;5;124m'\u001B[39m\u001B[38;5;124mBad\u001B[39m\u001B[38;5;124m'\u001B[39m, TrapezoidalFunction(\u001B[38;5;241m0\u001B[39m, \u001B[38;5;241m0.2\u001B[39m, \u001B[38;5;241m0.4\u001B[39m, \u001B[38;5;241m0.6\u001B[39m))\n\u001B[0;32m      7\u001B[0m fuzzy\u001B[38;5;241m.\u001B[39madd_antecedent(\u001B[38;5;124m'\u001B[39m\u001B[38;5;124mHousing\u001B[39m\u001B[38;5;124m'\u001B[39m, \u001B[38;5;124m'\u001B[39m\u001B[38;5;124mMid\u001B[39m\u001B[38;5;124m'\u001B[39m, TrapezoidalFunction(\u001B[38;5;241m0.1\u001B[39m, \u001B[38;5;241m0.3\u001B[39m, \u001B[38;5;241m0.5\u001B[39m, \u001B[38;5;241m0.7\u001B[39m))\n",
      "\u001B[1;31mTypeError\u001B[0m: FuzzySystem.__init__() missing 1 required positional argument: 'norm'"
     ]
    }
   ],
   "source": [
    "import Modules.fuzzysys as fsys\n",
    "from Modules.membership_functions import TrapezoidalFunction\n",
    "importlib.reload(fsys)\n",
    "\n",
    "fuzzy = fsys.FuzzySystem()\n",
    "fuzzy.add_antecedent('Housing', 'Bad', TrapezoidalFunction(0, 0.2, 0.4, 0.6))\n",
    "fuzzy.add_antecedent('Housing', 'Mid', TrapezoidalFunction(0.1, 0.3, 0.5, 0.7))\n",
    "fuzzy.add_antecedent('Housing', 'Good', TrapezoidalFunction(0.3, 0.5, 0.7, 1))\n",
    "\n",
    "fuzzy.add_antecedent('Startups', 'Bad', TrapezoidalFunction(0, 0.3, 0.6, 0.9))\n",
    "fuzzy.add_antecedent('Startups', 'Mid', TrapezoidalFunction(0.1, 0.4, 0.7, 1))\n",
    "fuzzy.add_antecedent('Startups', 'Good', TrapezoidalFunction(0.05, 0.25, 0.45, 0.65))\n",
    "\n",
    "for i in range(5):\n",
    "    sample = a.iloc[i].to_dict()\n",
    "    fuzzified_sample = fuzzy.fuzzify(sample)\n",
    "    print(f'{sample[\"UA_Name\"]} -> {fuzzified_sample}')"
   ],
   "metadata": {
    "collapsed": false,
    "pycharm": {
     "name": "#%%\n"
    }
   }
  }
 ],
 "metadata": {
  "kernelspec": {
   "display_name": "Python 3 (ipykernel)",
   "language": "python",
   "name": "python3"
  },
  "language_info": {
   "codemirror_mode": {
    "name": "ipython",
    "version": 3
   },
   "file_extension": ".py",
   "mimetype": "text/x-python",
   "name": "python",
   "nbconvert_exporter": "python",
   "pygments_lexer": "ipython3",
   "version": "3.9.7"
  }
 },
 "nbformat": 4,
 "nbformat_minor": 1
}