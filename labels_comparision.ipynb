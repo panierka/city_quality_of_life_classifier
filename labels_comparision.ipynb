{
 "cells": [
  {
   "cell_type": "code",
   "execution_count": 59,
   "metadata": {
    "collapsed": true,
    "pycharm": {
     "name": "#%%\n"
    }
   },
   "outputs": [],
   "source": [
    "import pandas as pd"
   ]
  },
  {
   "cell_type": "code",
   "execution_count": 60,
   "metadata": {
    "pycharm": {
     "name": "#%%\n"
    }
   },
   "outputs": [],
   "source": [
    "scores = pd.read_csv('Data/ratingsClear.csv')\n",
    "scores_sum = pd.read_csv('Data/ratingsWithNaiveSum.csv')\n",
    "scores_gdp = pd.read_csv('Data/ratingsWithGDPClasses.csv')\n",
    "scores_sub = pd.read_csv('Data/ratingsWithSubjectiveClasses.csv')"
   ]
  },
  {
   "cell_type": "code",
   "execution_count": 61,
   "metadata": {
    "pycharm": {
     "name": "#%%\n"
    }
   },
   "outputs": [
    {
     "data": {
      "text/plain": "True     158\nFalse     69\nName: Label, dtype: int64"
     },
     "execution_count": 61,
     "metadata": {},
     "output_type": "execute_result"
    }
   ],
   "source": [
    "(scores_sum['Label'] == scores_gdp['Label']).value_counts()"
   ]
  },
  {
   "cell_type": "code",
   "execution_count": 62,
   "outputs": [
    {
     "data": {
      "text/plain": "True     133\nFalse     94\nName: Label, dtype: int64"
     },
     "execution_count": 62,
     "metadata": {},
     "output_type": "execute_result"
    }
   ],
   "source": [
    "(scores_sum['Label'] == scores_sub['Label']).value_counts()"
   ],
   "metadata": {
    "collapsed": false,
    "pycharm": {
     "name": "#%%\n"
    }
   }
  },
  {
   "cell_type": "code",
   "execution_count": 63,
   "outputs": [
    {
     "data": {
      "text/plain": "True     134\nFalse     93\nName: Label, dtype: int64"
     },
     "execution_count": 63,
     "metadata": {},
     "output_type": "execute_result"
    }
   ],
   "source": [
    "(scores_sub['Label'] == scores_gdp['Label']).value_counts()"
   ],
   "metadata": {
    "collapsed": false,
    "pycharm": {
     "name": "#%%\n"
    }
   }
  },
  {
   "cell_type": "code",
   "execution_count": 64,
   "outputs": [
    {
     "data": {
      "text/plain": "False    128\nTrue      99\nName: Label, dtype: int64"
     },
     "execution_count": 64,
     "metadata": {},
     "output_type": "execute_result"
    }
   ],
   "source": [
    "matching_labels = (scores_sub['Label'] == scores_gdp['Label']) & (scores_sum['Label'] == scores_gdp['Label'])\n",
    "matching_labels.value_counts()"
   ],
   "metadata": {
    "collapsed": false,
    "pycharm": {
     "name": "#%%\n"
    }
   }
  },
  {
   "cell_type": "code",
   "execution_count": 65,
   "outputs": [
    {
     "data": {
      "text/plain": "         UA_Name   UA_Country  Consistent Label\n0         Aarhus      Denmark              True\n1       Adelaide    Australia             False\n2    Albuquerque   New Mexico              True\n3         Almaty   Kazakhstan             False\n4      Amsterdam  Netherlands              True\n..           ...          ...               ...\n222   Wellington  New Zealand              True\n223     Winnipeg       Canada              True\n224      Wroclaw       Poland             False\n225       Zagreb      Croatia             False\n226       Zurich  Switzerland              True\n\n[227 rows x 3 columns]",
      "text/html": "<div>\n<style scoped>\n    .dataframe tbody tr th:only-of-type {\n        vertical-align: middle;\n    }\n\n    .dataframe tbody tr th {\n        vertical-align: top;\n    }\n\n    .dataframe thead th {\n        text-align: right;\n    }\n</style>\n<table border=\"1\" class=\"dataframe\">\n  <thead>\n    <tr style=\"text-align: right;\">\n      <th></th>\n      <th>UA_Name</th>\n      <th>UA_Country</th>\n      <th>Consistent Label</th>\n    </tr>\n  </thead>\n  <tbody>\n    <tr>\n      <th>0</th>\n      <td>Aarhus</td>\n      <td>Denmark</td>\n      <td>True</td>\n    </tr>\n    <tr>\n      <th>1</th>\n      <td>Adelaide</td>\n      <td>Australia</td>\n      <td>False</td>\n    </tr>\n    <tr>\n      <th>2</th>\n      <td>Albuquerque</td>\n      <td>New Mexico</td>\n      <td>True</td>\n    </tr>\n    <tr>\n      <th>3</th>\n      <td>Almaty</td>\n      <td>Kazakhstan</td>\n      <td>False</td>\n    </tr>\n    <tr>\n      <th>4</th>\n      <td>Amsterdam</td>\n      <td>Netherlands</td>\n      <td>True</td>\n    </tr>\n    <tr>\n      <th>...</th>\n      <td>...</td>\n      <td>...</td>\n      <td>...</td>\n    </tr>\n    <tr>\n      <th>222</th>\n      <td>Wellington</td>\n      <td>New Zealand</td>\n      <td>True</td>\n    </tr>\n    <tr>\n      <th>223</th>\n      <td>Winnipeg</td>\n      <td>Canada</td>\n      <td>True</td>\n    </tr>\n    <tr>\n      <th>224</th>\n      <td>Wroclaw</td>\n      <td>Poland</td>\n      <td>False</td>\n    </tr>\n    <tr>\n      <th>225</th>\n      <td>Zagreb</td>\n      <td>Croatia</td>\n      <td>False</td>\n    </tr>\n    <tr>\n      <th>226</th>\n      <td>Zurich</td>\n      <td>Switzerland</td>\n      <td>True</td>\n    </tr>\n  </tbody>\n</table>\n<p>227 rows × 3 columns</p>\n</div>"
     },
     "execution_count": 65,
     "metadata": {},
     "output_type": "execute_result"
    }
   ],
   "source": [
    "scores['Consistent Label'] = matching_labels\n",
    "scores[['UA_Name', 'UA_Country', 'Consistent Label']]"
   ],
   "metadata": {
    "collapsed": false,
    "pycharm": {
     "name": "#%%\n"
    }
   }
  }
 ],
 "metadata": {
  "kernelspec": {
   "display_name": "Python 3 (ipykernel)",
   "language": "python",
   "name": "python3"
  },
  "language_info": {
   "codemirror_mode": {
    "name": "ipython",
    "version": 3
   },
   "file_extension": ".py",
   "mimetype": "text/x-python",
   "name": "python",
   "nbconvert_exporter": "python",
   "pygments_lexer": "ipython3",
   "version": "3.9.7"
  }
 },
 "nbformat": 4,
 "nbformat_minor": 1
}