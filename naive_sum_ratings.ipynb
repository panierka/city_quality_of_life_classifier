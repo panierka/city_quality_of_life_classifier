{
 "cells": [
  {
   "cell_type": "code",
   "execution_count": 94,
   "outputs": [],
   "source": [
    "import pandas as pd"
   ],
   "metadata": {
    "collapsed": false,
    "pycharm": {
     "name": "#%%\n"
    }
   }
  },
  {
   "cell_type": "code",
   "execution_count": 95,
   "outputs": [],
   "source": [
    "scores = pd.read_csv('Data/ratingsClear.csv', index_col=0)"
   ],
   "metadata": {
    "collapsed": false,
    "pycharm": {
     "name": "#%%\n"
    }
   }
  },
  {
   "cell_type": "code",
   "execution_count": 96,
   "outputs": [],
   "source": [
    "weights_data = {\n",
    "    'Housing' : 1.5,\n",
    "    'Cost of Living' : 1.5,\n",
    "    'Safety' : 1.5,\n",
    "    'Healthcare' : 1.5,\n",
    "    'Education' : 0.5,\n",
    "    'Travel Connectivity' : 1.5,\n",
    "}\n",
    "\n",
    "weights_vector = pd.Series(0.0, index=scores.columns[3:])\n",
    "for i in range(len(weights_vector)):\n",
    "    row_name = weights_vector.index[i]\n",
    "    weights_vector[i] = weights_data.get(row_name, 1)"
   ],
   "metadata": {
    "collapsed": false,
    "pycharm": {
     "name": "#%%\n"
    }
   }
  },
  {
   "cell_type": "code",
   "execution_count": 97,
   "outputs": [],
   "source": [
    "summable_values = list(scores)\n",
    "if 'Naive Sum' in summable_values:\n",
    "    summable_values.remove('Naive Sum')\n",
    "weighted_scores = scores.copy()\n",
    "weighted_scores = weighted_scores * weights_vector\n",
    "scores['Naive Sum'] = weighted_scores[summable_values].sum(numeric_only=True, axis=1)"
   ],
   "metadata": {
    "collapsed": false,
    "pycharm": {
     "name": "#%%\n"
    }
   }
  },
  {
   "cell_type": "code",
   "execution_count": 98,
   "outputs": [],
   "source": [
    "# better, worse\n",
    "\n",
    "midpoint = scores['Naive Sum'].quantile()\n",
    "scores['Label'] = ''\n",
    "scores.loc[scores['Naive Sum'] < midpoint, 'Label'] = 'worse'\n",
    "scores.loc[scores['Naive Sum'] >= midpoint, 'Label'] = 'better'"
   ],
   "metadata": {
    "collapsed": false,
    "pycharm": {
     "name": "#%%\n"
    }
   }
  },
  {
   "cell_type": "code",
   "execution_count": 99,
   "outputs": [
    {
     "data": {
      "text/plain": "<matplotlib.collections.PathCollection at 0x2420e32ff70>"
     },
     "execution_count": 99,
     "metadata": {},
     "output_type": "execute_result"
    },
    {
     "data": {
      "text/plain": "<Figure size 720x432 with 1 Axes>",
      "image/png": "[encoded data removed]"
     },
     "metadata": {},
     "output_type": "display_data"
    }
   ],
   "source": [
    "import matplotlib.pyplot as plt\n",
    "import numpy as np\n",
    "\n",
    "fig, ax = plt.subplots()\n",
    "fig.set_size_inches(10, 6)\n",
    "vals = scores['Naive Sum'].sort_values()\n",
    "colors = np.where(vals >= midpoint, 'b', 'r')\n",
    "ax.scatter(scores.index, vals, c=colors, marker='+')"
   ],
   "metadata": {
    "collapsed": false,
    "pycharm": {
     "name": "#%%\n"
    }
   }
  },
  {
   "cell_type": "code",
   "execution_count": 100,
   "outputs": [
    {
     "data": {
      "text/plain": "         UA_Name   UA_Country   UA_Continent  Housing  Cost of Living  \\\nid                                                                      \n0         Aarhus      Denmark         Europe   6.1315           4.015   \n1       Adelaide    Australia        Oceania   6.3095           4.692   \n2    Albuquerque   New Mexico  North America   7.2620           6.059   \n3         Almaty   Kazakhstan           Asia   9.2820           9.333   \n4      Amsterdam  Netherlands         Europe   3.0530           3.824   \n..           ...          ...            ...      ...             ...   \n260   Wellington  New Zealand        Oceania   5.1345           5.161   \n261     Winnipeg       Canada  North America   7.5525           5.882   \n262      Wroclaw       Poland         Europe   8.4520           8.434   \n264       Zagreb      Croatia         Europe   8.9100           7.194   \n265       Zurich  Switzerland         Europe   1.4730           1.000   \n\n     Travel Connectivity  Commute  Safety  Healthcare  Education  \\\nid                                                                 \n0                 3.5360  6.31175  9.6165    8.704333     5.3665   \n1                 1.7765  5.33625  7.9260    7.936667     5.1420   \n2                 1.4555  5.05575  1.3435    6.430000     4.1520   \n3                 4.5920  5.87125  7.3090    4.545667     2.2830   \n4                 8.3245  6.11850  8.5035    7.907333     6.1800   \n..                   ...      ...     ...         ...        ...   \n260               0.8525  6.03975  8.2230    8.078333     4.7560   \n261               1.4755  5.10450  6.0155    7.755667     5.3440   \n262               2.2445  4.95475  8.1655    6.781333     4.1615   \n264               2.0280  4.83000  8.6575    7.266000     3.2110   \n265               7.7335  5.83950  9.0665    7.670333     7.2875   \n\n     Environmental Quality  Economy  Taxation  Internet Access  \\\nid                                                               \n0                  7.63300   4.8865    5.0680           8.3730   \n1                  8.33075   6.0695    4.5885           4.3410   \n2                  7.31950   6.5145    4.3460           5.3960   \n3                  3.85675   5.2690    8.5220           2.8860   \n4                  7.59725   5.0530    4.9550           4.5230   \n..                     ...      ...       ...              ...   \n260                9.60925   5.5055    5.9315           5.1745   \n261                5.67475   5.8405    7.2745           4.9025   \n262                4.96475   4.7615    5.0970           5.7615   \n264                7.33150   2.2365    7.9935           5.0335   \n265                8.64300   6.5520    6.4285           7.2675   \n\n     Leisure & Culture  Naive Sum   Label  \nid                                         \n0               3.1870   86.14750  better  \n1               4.3285   78.52650   worse  \n2               4.8900   69.42275   worse  \n3               2.9370   83.07600  better  \n4               8.8740   87.62925  better  \n..                 ...        ...     ...  \n260             4.5990   80.41150  better  \n261             4.6880   79.17850   worse  \n262             4.7495   83.48575  better  \n264             4.9945   85.10825  better  \n265             4.9655   83.75475  better  \n\n[227 rows x 17 columns]",
      "text/html": "<div>\n<style scoped>\n    .dataframe tbody tr th:only-of-type {\n        vertical-align: middle;\n    }\n\n    .dataframe tbody tr th {\n        vertical-align: top;\n    }\n\n    .dataframe thead th {\n        text-align: right;\n    }\n</style>\n<table border=\"1\" class=\"dataframe\">\n  <thead>\n    <tr style=\"text-align: right;\">\n      <th></th>\n      <th>UA_Name</th>\n      <th>UA_Country</th>\n      <th>UA_Continent</th>\n      <th>Housing</th>\n      <th>Cost of Living</th>\n      <th>Travel Connectivity</th>\n      <th>Commute</th>\n      <th>Safety</th>\n      <th>Healthcare</th>\n      <th>Education</th>\n      <th>Environmental Quality</th>\n      <th>Economy</th>\n      <th>Taxation</th>\n      <th>Internet Access</th>\n      <th>Leisure &amp; Culture</th>\n      <th>Naive Sum</th>\n      <th>Label</th>\n    </tr>\n    <tr>\n      <th>id</th>\n      <th></th>\n      <th></th>\n      <th></th>\n      <th></th>\n      <th></th>\n      <th></th>\n      <th></th>\n      <th></th>\n      <th></th>\n      <th></th>\n      <th></th>\n      <th></th>\n      <th></th>\n      <th></th>\n      <th></th>\n      <th></th>\n      <th></th>\n    </tr>\n  </thead>\n  <tbody>\n    <tr>\n      <th>0</th>\n      <td>Aarhus</td>\n      <td>Denmark</td>\n      <td>Europe</td>\n      <td>6.1315</td>\n      <td>4.015</td>\n      <td>3.5360</td>\n      <td>6.31175</td>\n      <td>9.6165</td>\n      <td>8.704333</td>\n      <td>5.3665</td>\n      <td>7.63300</td>\n      <td>4.8865</td>\n      <td>5.0680</td>\n      <td>8.3730</td>\n      <td>3.1870</td>\n      <td>86.14750</td>\n      <td>better</td>\n    </tr>\n    <tr>\n      <th>1</th>\n      <td>Adelaide</td>\n      <td>Australia</td>\n      <td>Oceania</td>\n      <td>6.3095</td>\n      <td>4.692</td>\n      <td>1.7765</td>\n      <td>5.33625</td>\n      <td>7.9260</td>\n      <td>7.936667</td>\n      <td>5.1420</td>\n      <td>8.33075</td>\n      <td>6.0695</td>\n      <td>4.5885</td>\n      <td>4.3410</td>\n      <td>4.3285</td>\n      <td>78.52650</td>\n      <td>worse</td>\n    </tr>\n    <tr>\n      <th>2</th>\n      <td>Albuquerque</td>\n      <td>New Mexico</td>\n      <td>North America</td>\n      <td>7.2620</td>\n      <td>6.059</td>\n      <td>1.4555</td>\n      <td>5.05575</td>\n      <td>1.3435</td>\n      <td>6.430000</td>\n      <td>4.1520</td>\n      <td>7.31950</td>\n      <td>6.5145</td>\n      <td>4.3460</td>\n      <td>5.3960</td>\n      <td>4.8900</td>\n      <td>69.42275</td>\n      <td>worse</td>\n    </tr>\n    <tr>\n      <th>3</th>\n      <td>Almaty</td>\n      <td>Kazakhstan</td>\n      <td>Asia</td>\n      <td>9.2820</td>\n      <td>9.333</td>\n      <td>4.5920</td>\n      <td>5.87125</td>\n      <td>7.3090</td>\n      <td>4.545667</td>\n      <td>2.2830</td>\n      <td>3.85675</td>\n      <td>5.2690</td>\n      <td>8.5220</td>\n      <td>2.8860</td>\n      <td>2.9370</td>\n      <td>83.07600</td>\n      <td>better</td>\n    </tr>\n    <tr>\n      <th>4</th>\n      <td>Amsterdam</td>\n      <td>Netherlands</td>\n      <td>Europe</td>\n      <td>3.0530</td>\n      <td>3.824</td>\n      <td>8.3245</td>\n      <td>6.11850</td>\n      <td>8.5035</td>\n      <td>7.907333</td>\n      <td>6.1800</td>\n      <td>7.59725</td>\n      <td>5.0530</td>\n      <td>4.9550</td>\n      <td>4.5230</td>\n      <td>8.8740</td>\n      <td>87.62925</td>\n      <td>better</td>\n    </tr>\n    <tr>\n      <th>...</th>\n      <td>...</td>\n      <td>...</td>\n      <td>...</td>\n      <td>...</td>\n      <td>...</td>\n      <td>...</td>\n      <td>...</td>\n      <td>...</td>\n      <td>...</td>\n      <td>...</td>\n      <td>...</td>\n      <td>...</td>\n      <td>...</td>\n      <td>...</td>\n      <td>...</td>\n      <td>...</td>\n      <td>...</td>\n    </tr>\n    <tr>\n      <th>260</th>\n      <td>Wellington</td>\n      <td>New Zealand</td>\n      <td>Oceania</td>\n      <td>5.1345</td>\n      <td>5.161</td>\n      <td>0.8525</td>\n      <td>6.03975</td>\n      <td>8.2230</td>\n      <td>8.078333</td>\n      <td>4.7560</td>\n      <td>9.60925</td>\n      <td>5.5055</td>\n      <td>5.9315</td>\n      <td>5.1745</td>\n      <td>4.5990</td>\n      <td>80.41150</td>\n      <td>better</td>\n    </tr>\n    <tr>\n      <th>261</th>\n      <td>Winnipeg</td>\n      <td>Canada</td>\n      <td>North America</td>\n      <td>7.5525</td>\n      <td>5.882</td>\n      <td>1.4755</td>\n      <td>5.10450</td>\n      <td>6.0155</td>\n      <td>7.755667</td>\n      <td>5.3440</td>\n      <td>5.67475</td>\n      <td>5.8405</td>\n      <td>7.2745</td>\n      <td>4.9025</td>\n      <td>4.6880</td>\n      <td>79.17850</td>\n      <td>worse</td>\n    </tr>\n    <tr>\n      <th>262</th>\n      <td>Wroclaw</td>\n      <td>Poland</td>\n      <td>Europe</td>\n      <td>8.4520</td>\n      <td>8.434</td>\n      <td>2.2445</td>\n      <td>4.95475</td>\n      <td>8.1655</td>\n      <td>6.781333</td>\n      <td>4.1615</td>\n      <td>4.96475</td>\n      <td>4.7615</td>\n      <td>5.0970</td>\n      <td>5.7615</td>\n      <td>4.7495</td>\n      <td>83.48575</td>\n      <td>better</td>\n    </tr>\n    <tr>\n      <th>264</th>\n      <td>Zagreb</td>\n      <td>Croatia</td>\n      <td>Europe</td>\n      <td>8.9100</td>\n      <td>7.194</td>\n      <td>2.0280</td>\n      <td>4.83000</td>\n      <td>8.6575</td>\n      <td>7.266000</td>\n      <td>3.2110</td>\n      <td>7.33150</td>\n      <td>2.2365</td>\n      <td>7.9935</td>\n      <td>5.0335</td>\n      <td>4.9945</td>\n      <td>85.10825</td>\n      <td>better</td>\n    </tr>\n    <tr>\n      <th>265</th>\n      <td>Zurich</td>\n      <td>Switzerland</td>\n      <td>Europe</td>\n      <td>1.4730</td>\n      <td>1.000</td>\n      <td>7.7335</td>\n      <td>5.83950</td>\n      <td>9.0665</td>\n      <td>7.670333</td>\n      <td>7.2875</td>\n      <td>8.64300</td>\n      <td>6.5520</td>\n      <td>6.4285</td>\n      <td>7.2675</td>\n      <td>4.9655</td>\n      <td>83.75475</td>\n      <td>better</td>\n    </tr>\n  </tbody>\n</table>\n<p>227 rows × 17 columns</p>\n</div>"
     },
     "execution_count": 100,
     "metadata": {},
     "output_type": "execute_result"
    }
   ],
   "source": [
    "scores"
   ],
   "metadata": {
    "collapsed": false,
    "pycharm": {
     "name": "#%%\n"
    }
   }
  },
  {
   "cell_type": "code",
   "execution_count": 101,
   "outputs": [],
   "source": [
    "scores.to_csv('Data/ratingsWithNaiveSum.csv')"
   ],
   "metadata": {
    "collapsed": false,
    "pycharm": {
     "name": "#%%\n"
    }
   }
  }
 ],
 "metadata": {
  "kernelspec": {
   "display_name": "Python 3",
   "language": "python",
   "name": "python3"
  },
  "language_info": {
   "codemirror_mode": {
    "name": "ipython",
    "version": 2
   },
   "file_extension": ".py",
   "mimetype": "text/x-python",
   "name": "python",
   "nbconvert_exporter": "python",
   "pygments_lexer": "ipython2",
   "version": "2.7.6"
  }
 },
 "nbformat": 4,
 "nbformat_minor": 0
}