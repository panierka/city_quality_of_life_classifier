{
 "cells": [
  {
   "cell_type": "code",
   "execution_count": 12,
   "outputs": [],
   "source": [
    "import pandas as pd"
   ],
   "metadata": {
    "collapsed": false,
    "pycharm": {
     "name": "#%%\n"
    }
   }
  },
  {
   "cell_type": "code",
   "execution_count": 13,
   "outputs": [],
   "source": [
    "scores = pd.read_csv('Data/uaScoresDataFrame.csv', index_col=0)"
   ],
   "metadata": {
    "collapsed": false,
    "pycharm": {
     "name": "#%%\n"
    }
   }
  },
  {
   "cell_type": "code",
   "execution_count": 14,
   "outputs": [
    {
     "data": {
      "text/plain": "Venture Capital          74\nEducation                26\nCost of Living           18\nCommute                  11\nEconomy                   3\nStartups                  2\nLeisure & Culture         2\nBusiness Freedom          2\nHousing                   1\nHealthcare                1\nUA_Name                   0\nTolerance                 0\nInternet Access           0\nTaxation                  0\nSafety                    0\nEnvironmental Quality     0\nUA_Country                0\nTravel Connectivity       0\nUA_Continent              0\nOutdoors                  0\ndtype: int64"
     },
     "execution_count": 14,
     "metadata": {},
     "output_type": "execute_result"
    }
   ],
   "source": [
    "scores.isin([0]).sum(0).sort_values(ascending=False)"
   ],
   "metadata": {
    "collapsed": false,
    "pycharm": {
     "name": "#%%\n"
    }
   }
  },
  {
   "cell_type": "code",
   "execution_count": 15,
   "outputs": [],
   "source": [
    "scores.drop(labels='Venture Capital', axis=1, inplace=True)"
   ],
   "metadata": {
    "collapsed": false,
    "pycharm": {
     "name": "#%%\n"
    }
   }
  },
  {
   "cell_type": "code",
   "execution_count": 16,
   "outputs": [
    {
     "data": {
      "text/plain": "                       UA_Name               UA_Country  number\n0                      Andorra                  Andorra       6\n1                    Gibraltar                Gibraltar       5\n2                     Tashkent               Uzbekistan       3\n3                  Belize City                   Belize       3\n4                       Panama                   Panama       3\n5                      Managua                Nicaragua       3\n6                     Valletta                    Malta       2\n7                     San Juan              Puerto Rico       2\n8                     Portland                    Maine       2\n9                    Palo Alto               California       2\n10                      Havana                     Cuba       2\n11                      La Paz                  Bolivia       2\n12                     Fukuoka                    Japan       2\n13                   Baltimore                 Maryland       2\n14                     Bozeman                  Montana       2\n15              Guatemala City                Guatemala       1\n16                        Baku               Azerbaijan       1\n17                        Bali                Indonesia       1\n18                    Sarajevo   Bosnia and Herzegovina       1\n19                San Salvador              El Salvador       1\n20             San Luis Obispo               California       1\n21                       Quito                  Ecuador       1\n22                  Providence             Rhode Island       1\n23                  Phnom Penh                 Cambodia       1\n24                     Caracas                Venezuela       1\n25                  Casablanca                  Morocco       1\n26                        Oulu                  Finland       1\n27                      Manila              Philippines       1\n28               Dar es Salaam                 Tanzania       1\n29                      Madrid                    Spain       1\n30                        Lviv                  Ukraine       1\n31  Las Palmas de Gran Canaria                    Spain       1\n32                    Asuncion                 Paraguay       1\n33                       Lagos                  Nigeria       1\n34                       Kyoto                    Japan       1\n35                    Kingston                  Jamaica       1\n36                   Kathmandu                    Nepal       1\n37                   Hyderabad                    India       1\n38                Fort Collins                 Colorado       1\n39                     Yerevan                  Armenia       1",
      "text/html": "<div>\n<style scoped>\n    .dataframe tbody tr th:only-of-type {\n        vertical-align: middle;\n    }\n\n    .dataframe tbody tr th {\n        vertical-align: top;\n    }\n\n    .dataframe thead th {\n        text-align: right;\n    }\n</style>\n<table border=\"1\" class=\"dataframe\">\n  <thead>\n    <tr style=\"text-align: right;\">\n      <th></th>\n      <th>UA_Name</th>\n      <th>UA_Country</th>\n      <th>number</th>\n    </tr>\n  </thead>\n  <tbody>\n    <tr>\n      <th>0</th>\n      <td>Andorra</td>\n      <td>Andorra</td>\n      <td>6</td>\n    </tr>\n    <tr>\n      <th>1</th>\n      <td>Gibraltar</td>\n      <td>Gibraltar</td>\n      <td>5</td>\n    </tr>\n    <tr>\n      <th>2</th>\n      <td>Tashkent</td>\n      <td>Uzbekistan</td>\n      <td>3</td>\n    </tr>\n    <tr>\n      <th>3</th>\n      <td>Belize City</td>\n      <td>Belize</td>\n      <td>3</td>\n    </tr>\n    <tr>\n      <th>4</th>\n      <td>Panama</td>\n      <td>Panama</td>\n      <td>3</td>\n    </tr>\n    <tr>\n      <th>5</th>\n      <td>Managua</td>\n      <td>Nicaragua</td>\n      <td>3</td>\n    </tr>\n    <tr>\n      <th>6</th>\n      <td>Valletta</td>\n      <td>Malta</td>\n      <td>2</td>\n    </tr>\n    <tr>\n      <th>7</th>\n      <td>San Juan</td>\n      <td>Puerto Rico</td>\n      <td>2</td>\n    </tr>\n    <tr>\n      <th>8</th>\n      <td>Portland</td>\n      <td>Maine</td>\n      <td>2</td>\n    </tr>\n    <tr>\n      <th>9</th>\n      <td>Palo Alto</td>\n      <td>California</td>\n      <td>2</td>\n    </tr>\n    <tr>\n      <th>10</th>\n      <td>Havana</td>\n      <td>Cuba</td>\n      <td>2</td>\n    </tr>\n    <tr>\n      <th>11</th>\n      <td>La Paz</td>\n      <td>Bolivia</td>\n      <td>2</td>\n    </tr>\n    <tr>\n      <th>12</th>\n      <td>Fukuoka</td>\n      <td>Japan</td>\n      <td>2</td>\n    </tr>\n    <tr>\n      <th>13</th>\n      <td>Baltimore</td>\n      <td>Maryland</td>\n      <td>2</td>\n    </tr>\n    <tr>\n      <th>14</th>\n      <td>Bozeman</td>\n      <td>Montana</td>\n      <td>2</td>\n    </tr>\n    <tr>\n      <th>15</th>\n      <td>Guatemala City</td>\n      <td>Guatemala</td>\n      <td>1</td>\n    </tr>\n    <tr>\n      <th>16</th>\n      <td>Baku</td>\n      <td>Azerbaijan</td>\n      <td>1</td>\n    </tr>\n    <tr>\n      <th>17</th>\n      <td>Bali</td>\n      <td>Indonesia</td>\n      <td>1</td>\n    </tr>\n    <tr>\n      <th>18</th>\n      <td>Sarajevo</td>\n      <td>Bosnia and Herzegovina</td>\n      <td>1</td>\n    </tr>\n    <tr>\n      <th>19</th>\n      <td>San Salvador</td>\n      <td>El Salvador</td>\n      <td>1</td>\n    </tr>\n    <tr>\n      <th>20</th>\n      <td>San Luis Obispo</td>\n      <td>California</td>\n      <td>1</td>\n    </tr>\n    <tr>\n      <th>21</th>\n      <td>Quito</td>\n      <td>Ecuador</td>\n      <td>1</td>\n    </tr>\n    <tr>\n      <th>22</th>\n      <td>Providence</td>\n      <td>Rhode Island</td>\n      <td>1</td>\n    </tr>\n    <tr>\n      <th>23</th>\n      <td>Phnom Penh</td>\n      <td>Cambodia</td>\n      <td>1</td>\n    </tr>\n    <tr>\n      <th>24</th>\n      <td>Caracas</td>\n      <td>Venezuela</td>\n      <td>1</td>\n    </tr>\n    <tr>\n      <th>25</th>\n      <td>Casablanca</td>\n      <td>Morocco</td>\n      <td>1</td>\n    </tr>\n    <tr>\n      <th>26</th>\n      <td>Oulu</td>\n      <td>Finland</td>\n      <td>1</td>\n    </tr>\n    <tr>\n      <th>27</th>\n      <td>Manila</td>\n      <td>Philippines</td>\n      <td>1</td>\n    </tr>\n    <tr>\n      <th>28</th>\n      <td>Dar es Salaam</td>\n      <td>Tanzania</td>\n      <td>1</td>\n    </tr>\n    <tr>\n      <th>29</th>\n      <td>Madrid</td>\n      <td>Spain</td>\n      <td>1</td>\n    </tr>\n    <tr>\n      <th>30</th>\n      <td>Lviv</td>\n      <td>Ukraine</td>\n      <td>1</td>\n    </tr>\n    <tr>\n      <th>31</th>\n      <td>Las Palmas de Gran Canaria</td>\n      <td>Spain</td>\n      <td>1</td>\n    </tr>\n    <tr>\n      <th>32</th>\n      <td>Asuncion</td>\n      <td>Paraguay</td>\n      <td>1</td>\n    </tr>\n    <tr>\n      <th>33</th>\n      <td>Lagos</td>\n      <td>Nigeria</td>\n      <td>1</td>\n    </tr>\n    <tr>\n      <th>34</th>\n      <td>Kyoto</td>\n      <td>Japan</td>\n      <td>1</td>\n    </tr>\n    <tr>\n      <th>35</th>\n      <td>Kingston</td>\n      <td>Jamaica</td>\n      <td>1</td>\n    </tr>\n    <tr>\n      <th>36</th>\n      <td>Kathmandu</td>\n      <td>Nepal</td>\n      <td>1</td>\n    </tr>\n    <tr>\n      <th>37</th>\n      <td>Hyderabad</td>\n      <td>India</td>\n      <td>1</td>\n    </tr>\n    <tr>\n      <th>38</th>\n      <td>Fort Collins</td>\n      <td>Colorado</td>\n      <td>1</td>\n    </tr>\n    <tr>\n      <th>39</th>\n      <td>Yerevan</td>\n      <td>Armenia</td>\n      <td>1</td>\n    </tr>\n  </tbody>\n</table>\n</div>"
     },
     "execution_count": 16,
     "metadata": {},
     "output_type": "execute_result"
    }
   ],
   "source": [
    "count_column_name = 'number'\n",
    "zeros = scores.loc[(scores==0).any(1)][['UA_Name', 'UA_Country']]\\\n",
    "    .join(pd.Series((scores==0).sum(1), name=count_column_name))\\\n",
    "    .sort_values(count_column_name, ascending=False)\\\n",
    "    .reset_index(drop=True)\n",
    "zeros"
   ],
   "metadata": {
    "collapsed": false,
    "pycharm": {
     "name": "#%%\n"
    }
   }
  },
  {
   "cell_type": "code",
   "execution_count": 17,
   "outputs": [],
   "source": [
    "scores.drop(labels=['Startups', 'Business Freedom', 'Tolerance', 'Outdoors'], axis=1, inplace=True)"
   ],
   "metadata": {
    "collapsed": false,
    "pycharm": {
     "name": "#%%\n"
    }
   }
  },
  {
   "cell_type": "code",
   "execution_count": 18,
   "outputs": [],
   "source": [
    "scores = scores[(scores != 0).all(1)]"
   ],
   "metadata": {
    "collapsed": false,
    "pycharm": {
     "name": "#%%\n"
    }
   }
  },
  {
   "cell_type": "code",
   "execution_count": 19,
   "outputs": [],
   "source": [
    "scores['UA_Country'] = scores['UA_Country'].str.strip()"
   ],
   "metadata": {
    "collapsed": false,
    "pycharm": {
     "name": "#%%\n"
    }
   }
  },
  {
   "cell_type": "code",
   "execution_count": 20,
   "outputs": [],
   "source": [
    "scores.to_csv('Data/ratingsClear.csv')"
   ],
   "metadata": {
    "collapsed": false,
    "pycharm": {
     "name": "#%%\n"
    }
   }
  }
 ],
 "metadata": {
  "kernelspec": {
   "display_name": "Python 3",
   "language": "python",
   "name": "python3"
  },
  "language_info": {
   "codemirror_mode": {
    "name": "ipython",
    "version": 2
   },
   "file_extension": ".py",
   "mimetype": "text/x-python",
   "name": "python",
   "nbconvert_exporter": "python",
   "pygments_lexer": "ipython2",
   "version": "2.7.6"
  }
 },
 "nbformat": 4,
 "nbformat_minor": 0
}