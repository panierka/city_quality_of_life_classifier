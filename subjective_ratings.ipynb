{
 "cells": [
  {
   "cell_type": "code",
   "execution_count": 11,
   "metadata": {
    "collapsed": true,
    "pycharm": {
     "name": "#%%\n"
    }
   },
   "outputs": [],
   "source": [
    "import pandas as pd\n",
    "import ctypes"
   ]
  },
  {
   "cell_type": "code",
   "execution_count": 22,
   "outputs": [],
   "source": [
    "scores = pd.read_csv('Data/ratingsClear.csv')\n",
    "\n",
    "scores['Label'] = ''"
   ],
   "metadata": {
    "collapsed": false,
    "pycharm": {
     "name": "#%%\n"
    }
   }
  },
  {
   "cell_type": "code",
   "execution_count": 39,
   "outputs": [],
   "source": [
    "class ResponseCodes:\n",
    "    ID_YES = 6\n",
    "    ID_NO = 7\n",
    "    ID_CANCEL = 2\n",
    "\n",
    "for i in range(len(scores)):\n",
    "    info = scores.iloc[i]\n",
    "    name = info['UA_Name']\n",
    "    country = info['UA_Country']\n",
    "    continent = info['UA_Continent']\n",
    "    result = ctypes.windll.user32.MessageBoxW(0, f'<-- {name}, {country}, {continent} -->',\n",
    "                                              f'Is this city a good place to live? ({i+1}/{len(scores)})', 3)\n",
    "    choice = None\n",
    "\n",
    "    match result:\n",
    "        case ResponseCodes.ID_YES: choice = 'better'\n",
    "        case ResponseCodes.ID_NO: choice = 'worse'\n",
    "        case ResponseCodes.ID_CANCEL: break\n",
    "\n",
    "    scores.loc[i, 'Label'] = choice"
   ],
   "metadata": {
    "collapsed": false,
    "pycharm": {
     "name": "#%%\n"
    }
   }
  },
  {
   "cell_type": "code",
   "execution_count": 40,
   "outputs": [
    {
     "data": {
      "text/plain": "         UA_Name   UA_Country   Label\n0         Aarhus      Denmark  better\n1       Adelaide    Australia  better\n2    Albuquerque   New Mexico  better\n3         Almaty   Kazakhstan  better\n4      Amsterdam  Netherlands  better\n..           ...          ...     ...\n222   Wellington  New Zealand        \n223     Winnipeg       Canada        \n224      Wroclaw       Poland        \n225       Zagreb      Croatia        \n226       Zurich  Switzerland        \n\n[227 rows x 3 columns]",
      "text/html": "<div>\n<style scoped>\n    .dataframe tbody tr th:only-of-type {\n        vertical-align: middle;\n    }\n\n    .dataframe tbody tr th {\n        vertical-align: top;\n    }\n\n    .dataframe thead th {\n        text-align: right;\n    }\n</style>\n<table border=\"1\" class=\"dataframe\">\n  <thead>\n    <tr style=\"text-align: right;\">\n      <th></th>\n      <th>UA_Name</th>\n      <th>UA_Country</th>\n      <th>Label</th>\n    </tr>\n  </thead>\n  <tbody>\n    <tr>\n      <th>0</th>\n      <td>Aarhus</td>\n      <td>Denmark</td>\n      <td>better</td>\n    </tr>\n    <tr>\n      <th>1</th>\n      <td>Adelaide</td>\n      <td>Australia</td>\n      <td>better</td>\n    </tr>\n    <tr>\n      <th>2</th>\n      <td>Albuquerque</td>\n      <td>New Mexico</td>\n      <td>better</td>\n    </tr>\n    <tr>\n      <th>3</th>\n      <td>Almaty</td>\n      <td>Kazakhstan</td>\n      <td>better</td>\n    </tr>\n    <tr>\n      <th>4</th>\n      <td>Amsterdam</td>\n      <td>Netherlands</td>\n      <td>better</td>\n    </tr>\n    <tr>\n      <th>...</th>\n      <td>...</td>\n      <td>...</td>\n      <td>...</td>\n    </tr>\n    <tr>\n      <th>222</th>\n      <td>Wellington</td>\n      <td>New Zealand</td>\n      <td></td>\n    </tr>\n    <tr>\n      <th>223</th>\n      <td>Winnipeg</td>\n      <td>Canada</td>\n      <td></td>\n    </tr>\n    <tr>\n      <th>224</th>\n      <td>Wroclaw</td>\n      <td>Poland</td>\n      <td></td>\n    </tr>\n    <tr>\n      <th>225</th>\n      <td>Zagreb</td>\n      <td>Croatia</td>\n      <td></td>\n    </tr>\n    <tr>\n      <th>226</th>\n      <td>Zurich</td>\n      <td>Switzerland</td>\n      <td></td>\n    </tr>\n  </tbody>\n</table>\n<p>227 rows × 3 columns</p>\n</div>"
     },
     "execution_count": 40,
     "metadata": {},
     "output_type": "execute_result"
    }
   ],
   "source": [
    "scores[['UA_Name', 'UA_Country', 'Label']]"
   ],
   "metadata": {
    "collapsed": false,
    "pycharm": {
     "name": "#%%\n"
    }
   }
  },
  {
   "cell_type": "code",
   "execution_count": 41,
   "outputs": [],
   "source": [
    "scores.to_csv('Data/ratingsWithSubjectiveClasses.csv')"
   ],
   "metadata": {
    "collapsed": false,
    "pycharm": {
     "name": "#%%\n"
    }
   }
  },
  {
   "cell_type": "markdown",
   "source": [],
   "metadata": {
    "collapsed": false,
    "pycharm": {
     "name": "#%% md\n"
    }
   }
  }
 ],
 "metadata": {
  "kernelspec": {
   "display_name": "Python 3",
   "language": "python",
   "name": "python3"
  },
  "language_info": {
   "codemirror_mode": {
    "name": "ipython",
    "version": 2
   },
   "file_extension": ".py",
   "mimetype": "text/x-python",
   "name": "python",
   "nbconvert_exporter": "python",
   "pygments_lexer": "ipython2",
   "version": "2.7.6"
  }
 },
 "nbformat": 4,
 "nbformat_minor": 0
}