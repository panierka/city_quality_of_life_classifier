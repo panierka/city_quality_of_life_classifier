{
 "cells": [
  {
   "cell_type": "code",
   "execution_count": 2,
   "metadata": {
    "pycharm": {
     "name": "#%%\n"
    }
   },
   "outputs": [],
   "source": [
    "import pandas as pd\n",
    "import ctypes"
   ]
  },
  {
   "cell_type": "code",
   "execution_count": 2,
   "metadata": {
    "pycharm": {
     "name": "#%%\n"
    }
   },
   "outputs": [],
   "source": [
    "scores = pd.read_csv('Data/ratingsClear.csv', index_col=0)\n",
    "\n",
    "scores['Label'] = ''"
   ]
  },
  {
   "cell_type": "code",
   "execution_count": null,
   "metadata": {
    "pycharm": {
     "name": "#%%\n"
    }
   },
   "outputs": [],
   "source": [
    "class ResponseCodes:\n",
    "    ID_YES = 6\n",
    "    ID_NO = 7\n",
    "    ID_CANCEL = 2\n",
    "\n",
    "for i in range(len(scores)):\n",
    "    info = scores.iloc[i]\n",
    "    name = info['UA_Name']\n",
    "    country = info['UA_Country']\n",
    "    continent = info['UA_Continent']\n",
    "    result = ctypes.windll.user32.MessageBoxW(0, f'<-- {name}, {country}, {continent} -->',\n",
    "                                              f'Is this city a good place to live? ({i+1}/{len(scores)})', 3)\n",
    "    choice = None\n",
    "\n",
    "    if result == ResponseCodes.ID_YES:\n",
    "        choice = 'better'\n",
    "    elif result == ResponseCodes.ID_NO:\n",
    "        choice = 'worse'\n",
    "    else:\n",
    "        break\n",
    "\n",
    "    scores.loc[i, 'Label'] = choice"
   ]
  },
  {
   "cell_type": "code",
   "execution_count": null,
   "metadata": {
    "pycharm": {
     "name": "#%%\n"
    }
   },
   "outputs": [],
   "source": [
    "scores[['UA_Name', 'UA_Country', 'Label']]"
   ]
  },
  {
   "cell_type": "code",
   "execution_count": 6,
   "metadata": {
    "pycharm": {
     "name": "#%%\n"
    }
   },
   "outputs": [],
   "source": [
    "scores.to_csv('Data/ratingsWithSubjectiveClasses.csv')"
   ]
  },
  {
   "cell_type": "markdown",
   "metadata": {
    "pycharm": {
     "name": "#%% md\n"
    }
   },
   "source": []
  }
 ],
 "metadata": {
  "kernelspec": {
   "display_name": "Python 3 (ipykernel)",
   "language": "python",
   "name": "python3"
  },
  "language_info": {
   "codemirror_mode": {
    "name": "ipython",
    "version": 2
   },
   "file_extension": ".py",
   "mimetype": "text/x-python",
   "name": "python",
   "nbconvert_exporter": "python",
   "pygments_lexer": "ipython2",
   "version": "2.7.6"
  }
 },
 "nbformat": 4,
 "nbformat_minor": 1
}